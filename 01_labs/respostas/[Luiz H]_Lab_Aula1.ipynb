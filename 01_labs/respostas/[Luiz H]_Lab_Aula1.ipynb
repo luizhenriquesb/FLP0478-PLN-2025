{
 "cells": [
  {
   "cell_type": "markdown",
   "metadata": {
    "id": "_ns7mAL7Sqmm"
   },
   "source": [
    "# Introdução ao básico de Python"
   ]
  },
  {
   "cell_type": "markdown",
   "metadata": {
    "id": "WbPvhjqETV7N"
   },
   "source": [
    "Não é um requisito desta disciplina ter conhecimento prévio de linguagens de programação (R, Python, etc.). No entanto, iremos introduzir gradualmente ao aluno o Python, que será a base para os códigos deste curso. Nas próximas aulas, veremos o que é o Python, por que utilizamos ele (e não o R, por exemplo),e suas vantagens e desvantagens. Ao longo do curso, optamos também por utilizar a IDE (Ambiente de desenvolvimento integrado) disponibilizada pelo google, Google Colab, e que nos permite ensinar a linguagem sem necessitar de instalações extras, facilitando todo o processo. Se os alunos demonstrarem interesse, podemos disponibilizar tutoriais de como instalar o Python em seus computadores pessoais e as principais IDEs."
   ]
  },
  {
   "cell_type": "markdown",
   "metadata": {
    "id": "D0rD_ajPUnll"
   },
   "source": [
    "### 1. Familiarização com o Google Colab\n",
    "\n",
    "Antes mesmo de começarmos a programar, um exercício importante para qualquer linguagem e IDE é o de explorar a ferramenta. Clique nas abas e botões e descubra quais opções são disponibilizadas pela IDE"
   ]
  },
  {
   "cell_type": "markdown",
   "metadata": {
    "id": "nJwW6AgbZqAT"
   },
   "source": [
    "### 2. Comentários e Texto Markdown\n",
    "\n",
    "Em python, você pode escrever texto que não é código de duas maneiras: com comentários em células de código e com células markdown. Tente rodar a célula de código abaixo, o que acontece?"
   ]
  },
  {
   "cell_type": "code",
   "execution_count": 1,
   "metadata": {
    "id": "7UEHKdA_RvEK"
   },
   "outputs": [],
   "source": [
    "# print('hello world')"
   ]
  },
  {
   "cell_type": "markdown",
   "metadata": {
    "id": "yCFp0rgYaEth"
   },
   "source": [
    "Sempre que quiser escrever alguma coisa que não necessariamente deseja rodar ou que não é código, utilize comentários. Uma utilidade adicional muito importante dos comentários é a descrição do que a linha de código está fazendo, ou um sumário de uma célula de código inteira. ***Um bom uso dos comentários e de texto markdown facilita tanto a vida do futuro você quanto de outras pessoas que lerão o seu código. Utilize sempre que possível!***"
   ]
  },
  {
   "cell_type": "markdown",
   "metadata": {
    "id": "TMlRRbDBbLCd"
   },
   "source": [
    "Para comentar/descomentar múltiplas linhas de código de uma vez, você pode utilizar \"Ctrl\" + \"/\" no Colab. Tente descomentar as linhas de códigos a seguir"
   ]
  },
  {
   "cell_type": "code",
   "execution_count": null,
   "metadata": {
    "id": "kjOLtH0pa2t7"
   },
   "outputs": [],
   "source": [
    "# Isso aqui é código\n",
    "# a\n",
    "# b\n",
    "# c\n",
    "# d\n",
    "# e\n",
    "# f\n",
    "# g\n",
    "# h\n"
   ]
  },
  {
   "cell_type": "markdown",
   "metadata": {
    "id": "pUEZLgotaphj"
   },
   "source": [
    "### 3. Comando \"Print\""
   ]
  },
  {
   "cell_type": "markdown",
   "metadata": {
    "id": "0V2YRrnqbhkR"
   },
   "source": [
    "O comando \"print\" é um dos mais básicos do Python, mas também um dos mais importantes e utilizados. O comando imprime qualquer coisa que desejar, desde texto simples (e.g. \"Olá Mundo\"), até variáveis, resultados de cálculos, etc. Leia mais sobre o comando na [documentação](https://docs.python.org/pt-br/3/library/functions.html?highlight=print#print) do Python. Nas próximas subseções, exploraremos alguma das possibilidades do comando."
   ]
  },
  {
   "cell_type": "code",
   "execution_count": 2,
   "metadata": {
    "colab": {
     "base_uri": "https://localhost:8080/"
    },
    "id": "1GUwIe2ycp79",
    "outputId": "ed8dc86c-0983-415d-bae7-e63ff80e3936"
   },
   "outputs": [
    {
     "name": "stdout",
     "output_type": "stream",
     "text": [
      "Olá, mundo!\n"
     ]
    }
   ],
   "source": [
    "# Imprimindo (Printing) uma string\n",
    "\n",
    "print('Olá, mundo!')"
   ]
  },
  {
   "cell_type": "markdown",
   "metadata": {
    "id": "YY7-olq6b4IN"
   },
   "source": [
    "Esse é o exemplo mais clássico da função deste comando. Uma string nada mais é do que uma sequência de texto, que está encapsulada em aspas (tanto aspas simples quanto dupla). O python identificará automaticamente que quaisquer caracteres entre aspas é uma string."
   ]
  },
  {
   "cell_type": "code",
   "execution_count": 3,
   "metadata": {
    "colab": {
     "base_uri": "https://localhost:8080/"
    },
    "id": "CJXhyjA8dKdA",
    "outputId": "68022a7e-e2d6-4331-8308-bb285a4eeb4f"
   },
   "outputs": [
    {
     "name": "stdout",
     "output_type": "stream",
     "text": [
      "Texto em aspas simples\n"
     ]
    }
   ],
   "source": [
    "print('Texto em aspas simples')"
   ]
  },
  {
   "cell_type": "code",
   "execution_count": 4,
   "metadata": {
    "colab": {
     "base_uri": "https://localhost:8080/"
    },
    "id": "_xp7nxY4dM7o",
    "outputId": "95ff9776-3bdf-4ef5-8e85-94a0b4b5f278"
   },
   "outputs": [
    {
     "name": "stdout",
     "output_type": "stream",
     "text": [
      "Texto em aspas duplas\n"
     ]
    }
   ],
   "source": [
    "print(\"Texto em aspas duplas\")"
   ]
  },
  {
   "cell_type": "markdown",
   "metadata": {
    "id": "MvUB8R8MdcQr"
   },
   "source": [
    "Se quiser imprimir aspas dentro de uma string, você pode fazer de duas maneiras:"
   ]
  },
  {
   "cell_type": "code",
   "execution_count": 5,
   "metadata": {
    "colab": {
     "base_uri": "https://localhost:8080/"
    },
    "id": "W_CQpBDBdgo5",
    "outputId": "5997d4d9-2793-4a66-b7b8-60eccee3e8f1"
   },
   "outputs": [
    {
     "name": "stdout",
     "output_type": "stream",
     "text": [
      "Aqui está uma 'aspa' dentro da string\n",
      "Texto com duas \"Aspas\" duplas\n"
     ]
    }
   ],
   "source": [
    "# a. Aspas duplas no total da string e aspas simples dentro da string\n",
    "\n",
    "print(\"Aqui está uma 'aspa' dentro da string\")\n",
    "\n",
    "# b. Aspas duplas com duas barras\n",
    "\n",
    "print(\"Texto com duas \\\"Aspas\\\" duplas\")"
   ]
  },
  {
   "cell_type": "markdown",
   "metadata": {
    "id": "KNV2mIOueINh"
   },
   "source": [
    "Você pode imprimir números diretamente:"
   ]
  },
  {
   "cell_type": "code",
   "execution_count": 6,
   "metadata": {
    "colab": {
     "base_uri": "https://localhost:8080/"
    },
    "id": "25-gkvTbeIB_",
    "outputId": "d6afea7e-acef-4eaa-f7ad-81bf5db314f6"
   },
   "outputs": [
    {
     "name": "stdout",
     "output_type": "stream",
     "text": [
      "123456\n"
     ]
    }
   ],
   "source": [
    "print(123456)"
   ]
  },
  {
   "cell_type": "markdown",
   "metadata": {
    "id": "sGf7_DLAeLnx"
   },
   "source": [
    "Pode imprimir os valores de uma variável:"
   ]
  },
  {
   "cell_type": "code",
   "execution_count": 7,
   "metadata": {
    "colab": {
     "base_uri": "https://localhost:8080/"
    },
    "id": "eibL7oG8eOip",
    "outputId": "c2078c28-9a15-45ab-8aaa-410ea16eecdd"
   },
   "outputs": [
    {
     "name": "stdout",
     "output_type": "stream",
     "text": [
      "5\n"
     ]
    }
   ],
   "source": [
    "x = 5\n",
    "\n",
    "print(x)"
   ]
  },
  {
   "cell_type": "markdown",
   "metadata": {
    "id": "sEMBH-M9eSuu"
   },
   "source": [
    "Para quebrar linhas dentro de um print, você pode utilizar o \"\\n\""
   ]
  },
  {
   "cell_type": "code",
   "execution_count": 8,
   "metadata": {
    "colab": {
     "base_uri": "https://localhost:8080/"
    },
    "id": "KdaLCXUpeWoB",
    "outputId": "4af7da9e-a9c8-4a6a-d0bf-fb56c51412a7"
   },
   "outputs": [
    {
     "name": "stdout",
     "output_type": "stream",
     "text": [
      "Quero meu texto \n",
      " dividido\n"
     ]
    }
   ],
   "source": [
    "print(\"Quero meu texto \\n dividido\")"
   ]
  },
  {
   "cell_type": "markdown",
   "metadata": {
    "id": "J6LZa7wjej4f"
   },
   "source": [
    "O print ainda tem algumas funções extras que podem vir a calhar"
   ]
  },
  {
   "cell_type": "markdown",
   "metadata": {
    "id": "lil2JYKgfHJx"
   },
   "source": [
    "*SEP*"
   ]
  },
  {
   "cell_type": "code",
   "execution_count": 9,
   "metadata": {
    "colab": {
     "base_uri": "https://localhost:8080/"
    },
    "id": "lqTB_8tHejnU",
    "outputId": "5bd7b7c9-0f9f-43a2-cad4-8f93b8810c93"
   },
   "outputs": [
    {
     "name": "stdout",
     "output_type": "stream",
     "text": [
      "Olá...Mundo...Isso...Aqui...É...Doido\n"
     ]
    }
   ],
   "source": [
    "# \"sep\" permite separar diversas strings com algum padrão\n",
    "\n",
    "print(\"Olá\", \"Mundo\", \"Isso\", \"Aqui\", \"É\", \"Doido\", sep = \"...\")"
   ]
  },
  {
   "cell_type": "markdown",
   "metadata": {
    "id": "O44LeDBie9KE"
   },
   "source": [
    "Observe que a vírgula separando cada uma das string faz com que tenhamos 6 strings ao invés de uma única. A opção \"end\" permite que você defina o que irá separar dois prints seguidos. O padrão é uma quebra de linha"
   ]
  },
  {
   "cell_type": "markdown",
   "metadata": {
    "id": "hyvHSCQvfP71"
   },
   "source": [
    "*END*"
   ]
  },
  {
   "cell_type": "code",
   "execution_count": 10,
   "metadata": {
    "colab": {
     "base_uri": "https://localhost:8080/"
    },
    "id": "FXvM5Y9GfRan",
    "outputId": "468a1673-614d-4f72-dd3c-51a6e6bf69fa"
   },
   "outputs": [
    {
     "name": "stdout",
     "output_type": "stream",
     "text": [
      "Olá, Mundo!\n"
     ]
    }
   ],
   "source": [
    "print(\"Olá\", end = ',')\n",
    "print(' Mundo!')"
   ]
  },
  {
   "cell_type": "code",
   "execution_count": 11,
   "metadata": {
    "colab": {
     "base_uri": "https://localhost:8080/"
    },
    "id": "yc6CI7DkleBr",
    "outputId": "3fd64fb5-d49f-4add-aaee-c9cbf26bfb01"
   },
   "outputs": [
    {
     "name": "stdout",
     "output_type": "stream",
     "text": [
      "Olá,\n",
      "Mundo\n"
     ]
    }
   ],
   "source": [
    "print(\"Olá,\")\n",
    "print(\"Mundo\")"
   ]
  },
  {
   "cell_type": "markdown",
   "metadata": {
    "id": "Oo2LenLWTmdR"
   },
   "source": [
    "#### Exercícios"
   ]
  },
  {
   "cell_type": "markdown",
   "metadata": {
    "id": "F-aFHqoOTphf"
   },
   "source": [
    "1 - Vamos começar com algo básico: escreva uma célula de código que imprima \"Olá, [seu nome]\""
   ]
  },
  {
   "cell_type": "code",
   "execution_count": 12,
   "metadata": {
    "colab": {
     "base_uri": "https://localhost:8080/"
    },
    "id": "W-g21pWOVByw",
    "outputId": "3a1cc1a9-2fd5-4ac4-831e-7d4085719784"
   },
   "outputs": [
    {
     "name": "stdout",
     "output_type": "stream",
     "text": [
      "Olá, Pedro e Luiz\n"
     ]
    }
   ],
   "source": [
    "# Seu código vai aqui\n",
    "print(\"Olá, Pedro e Luiz\")"
   ]
  },
  {
   "cell_type": "markdown",
   "metadata": {
    "id": "LsRmXblaVDBt"
   },
   "source": [
    "2 - Imprima a seguinte soma:"
   ]
  },
  {
   "cell_type": "code",
   "execution_count": 13,
   "metadata": {
    "colab": {
     "base_uri": "https://localhost:8080/"
    },
    "id": "VQG5vZ0JVKDp",
    "outputId": "8b51d867-614b-4840-9838-b29aaa6bd850"
   },
   "outputs": [
    {
     "name": "stdout",
     "output_type": "stream",
     "text": [
      "16\n"
     ]
    }
   ],
   "source": [
    "soma = 7+9\n",
    "\n",
    "print(soma)"
   ]
  },
  {
   "cell_type": "markdown",
   "metadata": {
    "id": "79n7s-qbVO84"
   },
   "source": [
    "3 - Imprima os números de 1 a 10, cada um em uma linha diferente"
   ]
  },
  {
   "cell_type": "code",
   "execution_count": 18,
   "metadata": {
    "colab": {
     "base_uri": "https://localhost:8080/"
    },
    "id": "ILwwCaJCVa5d",
    "outputId": "08cd9281-148d-40d2-8e51-ff37a83fc37b"
   },
   "outputs": [
    {
     "name": "stdout",
     "output_type": "stream",
     "text": [
      "1\n",
      "2\n",
      "3\n",
      "4\n",
      "5\n",
      "6\n",
      "7\n",
      "8\n",
      "9\n",
      "10\n"
     ]
    }
   ],
   "source": [
    "# Seu código vai aqui\n",
    "print(\"1\\n2\\n3\\n4\\n5\\n6\\n7\\n8\\n9\\n10\")"
   ]
  },
  {
   "cell_type": "code",
   "execution_count": 20,
   "metadata": {
    "colab": {
     "base_uri": "https://localhost:8080/"
    },
    "id": "7Nw-o7TWa74T",
    "outputId": "347f72cb-cd05-4c11-9a4c-308989154bb9"
   },
   "outputs": [
    {
     "name": "stdout",
     "output_type": "stream",
     "text": [
      "1\n",
      "2\n",
      "3\n",
      "4\n",
      "5\n",
      "6\n",
      "7\n",
      "8\n",
      "9\n",
      "10\n"
     ]
    }
   ],
   "source": [
    "print(1, 2, 3, 4, 5, 6, 7, 8, 9, 10 , sep = '\\n')"
   ]
  },
  {
   "cell_type": "markdown",
   "metadata": {
    "id": "lVpBFZIqVcNg"
   },
   "source": [
    "4 - Qual o problema com o seguinte código?"
   ]
  },
  {
   "cell_type": "code",
   "execution_count": 25,
   "metadata": {
    "colab": {
     "base_uri": "https://localhost:8080/",
     "height": 106
    },
    "id": "UPMfYZFVVlKF",
    "outputId": "93de5355-b778-443f-c7c8-e0a58391b779"
   },
   "outputs": [
    {
     "ename": "SyntaxError",
     "evalue": "invalid syntax. Perhaps you forgot a comma? (<ipython-input-25-1184d317c8ac>, line 1)",
     "output_type": "error",
     "traceback": [
      "\u001b[0;36m  File \u001b[0;32m\"<ipython-input-25-1184d317c8ac>\"\u001b[0;36m, line \u001b[0;32m1\u001b[0m\n\u001b[0;31m    print(\"A comida do restaurante estava \"deliciosa\" hoje.\")\u001b[0m\n\u001b[0m          ^\u001b[0m\n\u001b[0;31mSyntaxError\u001b[0m\u001b[0;31m:\u001b[0m invalid syntax. Perhaps you forgot a comma?\n"
     ]
    }
   ],
   "source": [
    "print(\"A comida do restaurante estava \"deliciosa\" hoje.\")"
   ]
  },
  {
   "cell_type": "markdown",
   "metadata": {
    "id": "nkwA7B0GbYDO"
   },
   "source": [
    "A palavra deliciosa está sendo tratada como uma variável, porque a maneira como as aspas duplas foi usada está confundindo o comando `print()`. Do jeito que está, temos uma string em \"A comida... estava \", uma variável `deliciosa` e, por fim outra string \" hoje.\". Dessa forma, para corrigir o código, deveríamos, primeiro, atribuir algum valor para a variável `deliciosa` e colocar uma vírgula antes e depois dela. Alternativamente, podemos simplesmente \"escapar\" as aspas duplas usando \\\\\"."
   ]
  },
  {
   "cell_type": "code",
   "execution_count": 26,
   "metadata": {
    "colab": {
     "base_uri": "https://localhost:8080/"
    },
    "id": "SSl27kQ3cmCD",
    "outputId": "e838f5ff-0d61-404a-ec22-140a7cecea14"
   },
   "outputs": [
    {
     "name": "stdout",
     "output_type": "stream",
     "text": [
      "A comida do restaurante estava \"deliciosa\" hoje.\n"
     ]
    }
   ],
   "source": [
    "print(\"A comida do restaurante estava \\\"deliciosa\\\" hoje.\")"
   ]
  },
  {
   "cell_type": "markdown",
   "metadata": {
    "id": "o_7lSxpaXsyD"
   },
   "source": [
    "### 4. Comando \"Input\""
   ]
  },
  {
   "cell_type": "markdown",
   "metadata": {
    "id": "rStCwZmVXur1"
   },
   "source": [
    "O comando \"input\" em Python é usado para solicitar dados de entrada do usuário durante a execução do programa. Ele permite que o programa interaja com o usuário, recebendo valores digitados pelo teclado e armazenando-os em variáveis para posterior uso. A sintaxe básica do comando \"input\" é a seguinte:"
   ]
  },
  {
   "cell_type": "code",
   "execution_count": 27,
   "metadata": {
    "colab": {
     "base_uri": "https://localhost:8080/"
    },
    "id": "Sh8M2J64X0tC",
    "outputId": "fc59cde3-4906-454a-f4fa-e22c89edcf49"
   },
   "outputs": [
    {
     "name": "stdout",
     "output_type": "stream",
     "text": [
      "Mensagem para o usuário: Oi!\n"
     ]
    }
   ],
   "source": [
    "nome_da_variavel = input(\"Mensagem para o usuário: \")"
   ]
  },
  {
   "cell_type": "markdown",
   "metadata": {
    "id": "5-AmhwIGX2sL"
   },
   "source": [
    "A função \"input\" recebe uma mensagem opcional (entre as aspas) que será exibida ao usuário para solicitar a entrada de dados. O valor digitado pelo usuário é armazenado na variável \"nome_da_variavel\". Aqui está um exemplo simples para solicitar o nome do usuário e exibi-lo na tela:"
   ]
  },
  {
   "cell_type": "code",
   "execution_count": 29,
   "metadata": {
    "colab": {
     "base_uri": "https://localhost:8080/"
    },
    "id": "hR1wsZ-kX8my",
    "outputId": "b5cec997-78cf-4e11-d8a8-266a760ec83a"
   },
   "outputs": [
    {
     "name": "stdout",
     "output_type": "stream",
     "text": [
      "Digite o seu nome: Pedro e Luiz\n",
      "Olá, Pedro e Luiz! Bem-vindo ao nosso programa.\n"
     ]
    }
   ],
   "source": [
    "# Solicitando o nome do usuário\n",
    "nome = input(\"Digite o seu nome: \")\n",
    "\n",
    "# Exibindo o nome na tela\n",
    "print(\"Olá, \" + nome + \"! Bem-vindo ao nosso programa.\")"
   ]
  },
  {
   "cell_type": "markdown",
   "metadata": {
    "id": "OK8nE84eX4pt"
   },
   "source": [
    "Neste exemplo, a mensagem \"Digite o seu nome:\" é exibida ao usuário, e o valor digitado por ele é armazenado na variável \"nome\". Em seguida, o programa utiliza o comando \"print\" para exibir uma mensagem de boas-vindas contendo o nome informado.\n",
    "\n",
    "Lembre-se que o valor digitado pelo usuário é sempre tratado como uma string (texto). Caso deseje utilizar o valor como outro tipo de dado, é necessário realizar a conversão adequada, como por exemplo, usando as funções \"int()\" ou \"float()\" para números inteiros ou de ponto flutuante, respectivamente."
   ]
  },
  {
   "cell_type": "markdown",
   "metadata": {
    "id": "tTr92q0xYLPD"
   },
   "source": [
    "Exemplo 1: Conversão para número inteiro (int)"
   ]
  },
  {
   "cell_type": "code",
   "execution_count": null,
   "metadata": {
    "colab": {
     "base_uri": "https://localhost:8080/"
    },
    "id": "capX6sLvYLxE",
    "outputId": "70ccc1a4-b8d1-4f41-f48c-a6fd0e06595c"
   },
   "outputs": [
    {
     "name": "stdout",
     "output_type": "stream",
     "text": [
      "Digite a sua idade: 20\n",
      "No próximo ano, você terá 21 anos.\n"
     ]
    }
   ],
   "source": [
    "# Solicitando a idade do usuário\n",
    "idade_str = input(\"Digite a sua idade: \")\n",
    "\n",
    "# Convertendo a idade para número inteiro\n",
    "idade_int = int(idade_str)\n",
    "\n",
    "# Realizando operações com o valor convertido\n",
    "idade_ano_que_vem = idade_int + 1\n",
    "\n",
    "# Exibindo o resultado\n",
    "print(\"No próximo ano, você terá\", idade_ano_que_vem, \"anos.\")"
   ]
  },
  {
   "cell_type": "markdown",
   "metadata": {
    "id": "yALpPuHAYQGe"
   },
   "source": [
    "Neste exemplo, o programa solicita a idade do usuário usando o comando \"input\" e armazena o valor digitado na variável \"idade_str\", que é tratada como uma string. Em seguida, usamos a função \"int()\" para converter essa string em um número inteiro e armazenamos o resultado na variável \"idade_int\". Dessa forma, podemos realizar operações matemáticas com esse valor e exibir o resultado na tela."
   ]
  },
  {
   "cell_type": "markdown",
   "metadata": {
    "id": "B8icp1h0YS8U"
   },
   "source": [
    "Exemplo 2: Conversão para número de ponto flutuante (float)"
   ]
  },
  {
   "cell_type": "code",
   "execution_count": null,
   "metadata": {
    "colab": {
     "base_uri": "https://localhost:8080/"
    },
    "id": "_UD_ruZLYWiZ",
    "outputId": "7e138791-fb85-480b-f230-10f4cee79b01"
   },
   "outputs": [
    {
     "name": "stdout",
     "output_type": "stream",
     "text": [
      "Digite o seu peso (em kg): 80\n",
      "Seu peso na Lua seria de 13.200000000000001 kg.\n"
     ]
    }
   ],
   "source": [
    "# Solicitando o peso do usuário\n",
    "peso_str = input(\"Digite o seu peso (em kg): \")\n",
    "\n",
    "# Convertendo o peso para número de ponto flutuante\n",
    "peso_float = float(peso_str)\n",
    "\n",
    "# Calculando o peso na Lua (16.5% do peso na Terra)\n",
    "peso_lua = peso_float * 0.165\n",
    "\n",
    "# Exibindo o resultado\n",
    "print(\"Seu peso na Lua seria de\", peso_lua, \"kg.\")"
   ]
  },
  {
   "cell_type": "markdown",
   "metadata": {
    "id": "lFRy7T5tYcqE"
   },
   "source": [
    "Neste exemplo, o programa solicita o peso do usuário usando o comando \"input\" e armazena o valor digitado na variável \"peso_str\", que é tratada como uma string. Em seguida, usamos a função \"float()\" para converter essa string em um número de ponto flutuante (número decimal) e armazenamos o resultado na variável \"peso_float\". Assim, podemos realizar cálculos matemáticos envolvendo esse valor e exibir o resultado na tela.\n",
    "\n",
    "Lembre-se que, ao realizar a conversão de tipos, é importante garantir que o valor digitado pelo usuário seja compatível com o tipo que você deseja converter. Caso contrário, o programa pode gerar um erro durante a execução. É sempre uma boa prática adicionar tratamentos de exceções para lidar com essas situações, mas para fins de exemplo aqui, vamos considerar que o usuário insere valores válidos."
   ]
  },
  {
   "cell_type": "markdown",
   "metadata": {
    "id": "qLLCvN6BZGPy"
   },
   "source": [
    "*Nota*: É importante destacar que, em aplicações acadêmicas, o uso do \"input\" pode ser limitado ou pouco utilizado, especialmente em ambientes onde a interação direta com o usuário não é uma prioridade.Em muitas aplicações acadêmicas, o foco está na análise de dados, algoritmos complexos ou modelagem teórica, onde a entrada de dados é frequentemente feita através de arquivos ou parâmetros definidos previamente. Essa abordagem é preferível para evitar inconsistências ou erros de digitação que podem ocorrer quando o usuário insere dados manualmente."
   ]
  },
  {
   "cell_type": "markdown",
   "metadata": {
    "id": "2pZwqmA5ZZ-N"
   },
   "source": [
    "#### Exercícios"
   ]
  },
  {
   "cell_type": "markdown",
   "metadata": {
    "id": "yURGH6AyZbo0"
   },
   "source": [
    "1 - Peça o nome do usuário e dê as boas vindas"
   ]
  },
  {
   "cell_type": "code",
   "execution_count": null,
   "metadata": {
    "colab": {
     "base_uri": "https://localhost:8080/"
    },
    "id": "L-nNoQ8aZbXK",
    "outputId": "20b327ce-d531-4c5e-a7b1-36079a3cfcb5"
   },
   "outputs": [
    {
     "name": "stdout",
     "output_type": "stream",
     "text": [
      "Digite o seu nome: Luiz\n",
      "Boas vindas,  Luiz\n"
     ]
    }
   ],
   "source": [
    "nome = input(\"Digite o seu nome: \")\n",
    "print(\"Boas vindas, \", nome)"
   ]
  },
  {
   "cell_type": "markdown",
   "metadata": {
    "id": "7ckmO3z5Zu0x"
   },
   "source": [
    "2 - Peça a idade do usuário e descubra o ano em que ele nasceu\n"
   ]
  },
  {
   "cell_type": "code",
   "execution_count": null,
   "metadata": {
    "colab": {
     "base_uri": "https://localhost:8080/"
    },
    "id": "WnaV1G8TZ2pS",
    "outputId": "67f1c992-8742-4ec5-945b-af82826e4580"
   },
   "outputs": [
    {
     "name": "stdout",
     "output_type": "stream",
     "text": [
      "Qual é a sua idade? 20\n",
      "Digite o ano atual: 2004\n",
      "Você nasceu em 1984\n"
     ]
    }
   ],
   "source": [
    "idade = int(input('Qual é a sua idade? '))\n",
    "ano_atual = int(input('Digite o ano atual: '))\n",
    "ano_nascimento = ano_atual - idade\n",
    "print('Você nasceu em', ano_nascimento)"
   ]
  },
  {
   "cell_type": "markdown",
   "metadata": {
    "id": "0N2hC6K1Z2Rn"
   },
   "source": [
    "3 - Faça um programa que peça a base e a altura de um triângulo e calcule a área (Area do tríangulo = b.h/2)"
   ]
  },
  {
   "cell_type": "code",
   "execution_count": null,
   "metadata": {
    "colab": {
     "base_uri": "https://localhost:8080/"
    },
    "id": "ZUAQLF9-aUxf",
    "outputId": "97d295dc-37b5-4bd8-af6c-bec76a48e7ff"
   },
   "outputs": [
    {
     "name": "stdout",
     "output_type": "stream",
     "text": [
      "Qual é a base do seu triângulo? 5\n",
      "Qual é a altura do seu triângulo? 2\n",
      "A área do seu triângulo é  5.0\n"
     ]
    }
   ],
   "source": [
    "base = float(input('Qual é a base do seu triângulo? '))\n",
    "altura = float(input('Qual é a altura do seu triângulo? '))\n",
    "area = base * altura / 2\n",
    "print('A área do seu triângulo é', area)"
   ]
  },
  {
   "cell_type": "markdown",
   "metadata": {
    "id": "Srbz-GmSaWgU"
   },
   "source": [
    "4 - Peça o ano de nascimento do usuário e calcule sua idade"
   ]
  },
  {
   "cell_type": "code",
   "execution_count": null,
   "metadata": {
    "colab": {
     "base_uri": "https://localhost:8080/"
    },
    "id": "w8FhnYxyaWKR",
    "outputId": "d282f45f-7b09-4ec7-eeed-48482bc95de0"
   },
   "outputs": [
    {
     "name": "stdout",
     "output_type": "stream",
     "text": [
      "Qual é o ano do seu nascimento? 2004\n",
      "Digite o ano atual: 2024\n",
      "Você tem 20 anos\n"
     ]
    }
   ],
   "source": [
    "ano_nascimento = int(input('Qual é o ano do seu nascimento? '))\n",
    "ano_atual = int(input('Digite o ano atual: '))\n",
    "idade = ano_atual - ano_nascimento\n",
    "print('Você tem', idade, 'anos')"
   ]
  },
  {
   "cell_type": "markdown",
   "metadata": {
    "id": "PvbOv_YcfnGD"
   },
   "source": [
    "### 5. Variáveis"
   ]
  },
  {
   "cell_type": "markdown",
   "metadata": {
    "id": "rJYvZ1XKfsAC"
   },
   "source": [
    "Você talvez tenha percebido que já mencionamos o nome \"variável\" algumas vezes ao longo do script mas não elaboramos muito sobre o que ela é. Uma variável em Python é como uma caixa que você pode usar para armazenar um valor, como um número ou um pedaço de texto. Você pode dar um nome para essa caixa e usar o nome para se referir ao valor armazenado nela mais tarde. Por exemplo, você pode criar uma variável chamada \"idade\" e atribuir um valor a ela, como 20:"
   ]
  },
  {
   "cell_type": "code",
   "execution_count": 30,
   "metadata": {
    "colab": {
     "base_uri": "https://localhost:8080/"
    },
    "id": "tolS0A81fuFB",
    "outputId": "cd1e500a-bb94-4894-9268-89e0e4cd3716"
   },
   "outputs": [
    {
     "data": {
      "text/plain": [
       "20"
      ]
     },
     "execution_count": 30,
     "metadata": {},
     "output_type": "execute_result"
    }
   ],
   "source": [
    "idade = 20\n",
    "\n",
    "idade"
   ]
  },
  {
   "cell_type": "markdown",
   "metadata": {
    "id": "D17P_qfafwNQ"
   },
   "source": [
    "Agora, sempre que você usar a palavra \"idade\" em seu código, o valor 20 será usado. Você também pode alterar o valor armazenado em uma variável simplesmente atribuindo um novo valor a ela, como:"
   ]
  },
  {
   "cell_type": "code",
   "execution_count": 32,
   "metadata": {
    "colab": {
     "base_uri": "https://localhost:8080/"
    },
    "id": "SZwHx8u9fyAZ",
    "outputId": "4d02f61c-fe13-4b0b-cd43-e58781a411bb"
   },
   "outputs": [
    {
     "data": {
      "text/plain": [
       "25"
      ]
     },
     "execution_count": 32,
     "metadata": {},
     "output_type": "execute_result"
    }
   ],
   "source": [
    "idade = 25\n",
    "\n",
    "idade"
   ]
  },
  {
   "cell_type": "markdown",
   "metadata": {
    "id": "nZQryXuhfz9y"
   },
   "source": [
    "Agora, quando você usa a variável \"idade\" em seu código, o valor 25 será usado em vez de 20. Variáveis são uma parte fundamental da programação em Python e são usadas para armazenar dados temporários ou permanentes em seu programa. Por exemplo, se você estivesse trabalhando em um banco de dados, você poderia se deparar com as seguintes informações."
   ]
  },
  {
   "cell_type": "code",
   "execution_count": null,
   "metadata": {
    "id": "X9HctfaCf0aP"
   },
   "outputs": [],
   "source": [
    "# Informações do usuário\n",
    "\n",
    "nome = \"João\"\n",
    "idade = 26\n",
    "altura = 1.76\n",
    "ano_nascimento = 2024-26\n",
    "curso = \"Ciências Sociais\""
   ]
  },
  {
   "cell_type": "markdown",
   "metadata": {
    "id": "nxWJa_ZUf_66"
   },
   "source": [
    "Pense nos possíveis tipos de cada variável. As variáveis númericas são iguais? Que outras variáveis podemos gerar a partir dos valores observados?"
   ]
  },
  {
   "cell_type": "markdown",
   "metadata": {
    "id": "uD7EjaznlnzZ"
   },
   "source": [
    "### 6. Tipos de Dados"
   ]
  },
  {
   "cell_type": "markdown",
   "metadata": {
    "id": "bu3xDQFQlpK3"
   },
   "source": [
    "Nas seções acima, mencionamos brevemente alguns tipos de dados como strings e números. No entanto, esta não é toda a história. A seguir, temos os principais tipos de dados do Python;"
   ]
  },
  {
   "cell_type": "markdown",
   "metadata": {
    "id": "43S4qI4alzmh"
   },
   "source": [
    "*Strings*"
   ]
  },
  {
   "cell_type": "markdown",
   "metadata": {
    "id": "pPKKAa73l27T"
   },
   "source": [
    "Como dito acima, string é qualquer tipo de caracteres (números ou letras) envoltos por aspas."
   ]
  },
  {
   "cell_type": "code",
   "execution_count": 33,
   "metadata": {
    "colab": {
     "base_uri": "https://localhost:8080/"
    },
    "id": "g-2FFAAbl2hs",
    "outputId": "9ad7e70a-08df-4481-f931-a52832670068"
   },
   "outputs": [
    {
     "name": "stdout",
     "output_type": "stream",
     "text": [
      "Isso é uma string\n",
      "<class 'str'>\n"
     ]
    }
   ],
   "source": [
    "string1 = \"Isso é uma string\"\n",
    "\n",
    "print(string1)\n",
    "print(type(string1)) # Type permite descobrir o tipo de uma variável"
   ]
  },
  {
   "cell_type": "code",
   "execution_count": null,
   "metadata": {
    "colab": {
     "base_uri": "https://localhost:8080/"
    },
    "id": "zOQhQiSrmIwE",
    "outputId": "712513f4-e821-4352-dd76-bc0bb90b76cf"
   },
   "outputs": [
    {
     "name": "stdout",
     "output_type": "stream",
     "text": [
      "1sso t4mb3m é um4 str1ng\n",
      "<class 'str'>\n"
     ]
    }
   ],
   "source": [
    "# Um número ou sequência de números com aspas também é uma string\n",
    "\n",
    "string2 = \"1sso t4mb3m é um4 str1ng\"\n",
    "\n",
    "print(string2)\n",
    "print(type(string2))"
   ]
  },
  {
   "cell_type": "markdown",
   "metadata": {
    "id": "gSrYHSS8mc8P"
   },
   "source": [
    "*Inteiros (int)*"
   ]
  },
  {
   "cell_type": "markdown",
   "metadata": {
    "id": "ZQVG0K9amhEG"
   },
   "source": [
    "Int é um tipo de variável númerico. Nesse tipo de dados, só existem números inteiros. Isto é, sem números decimais ou \"quebrados\"."
   ]
  },
  {
   "cell_type": "code",
   "execution_count": 34,
   "metadata": {
    "colab": {
     "base_uri": "https://localhost:8080/"
    },
    "id": "ZGQdha-7moB5",
    "outputId": "b4906903-e6e1-4aeb-da12-6d5f93480f9f"
   },
   "outputs": [
    {
     "name": "stdout",
     "output_type": "stream",
     "text": [
      "10 <class 'int'>\n"
     ]
    }
   ],
   "source": [
    "print(10, type(10))"
   ]
  },
  {
   "cell_type": "code",
   "execution_count": 35,
   "metadata": {
    "colab": {
     "base_uri": "https://localhost:8080/"
    },
    "id": "kCaMolrRms6z",
    "outputId": "04815ca5-0159-4c3c-a92a-a6c4ea3702b9"
   },
   "outputs": [
    {
     "name": "stdout",
     "output_type": "stream",
     "text": [
      "-10 <class 'int'>\n"
     ]
    }
   ],
   "source": [
    "print(-10, type(-10))"
   ]
  },
  {
   "cell_type": "code",
   "execution_count": 36,
   "metadata": {
    "colab": {
     "base_uri": "https://localhost:8080/"
    },
    "id": "luIsDu7HshrZ",
    "outputId": "9512c09e-ca4e-4739-c0df-260395832a7c"
   },
   "outputs": [
    {
     "name": "stdout",
     "output_type": "stream",
     "text": [
      "0 <class 'int'>\n"
     ]
    }
   ],
   "source": [
    "print(0, type(0))"
   ]
  },
  {
   "cell_type": "code",
   "execution_count": 37,
   "metadata": {
    "colab": {
     "base_uri": "https://localhost:8080/"
    },
    "id": "B4FmH93Ht5Xi",
    "outputId": "0928be74-18f3-47d1-dd63-6bd5423febb0"
   },
   "outputs": [
    {
     "name": "stdout",
     "output_type": "stream",
     "text": [
      "False\n"
     ]
    }
   ],
   "source": [
    "# Tome sempre cuidado com as aspas\n",
    "\n",
    "print(\"10\" == int)"
   ]
  },
  {
   "cell_type": "markdown",
   "metadata": {
    "id": "Ff_K6wAFuF7g"
   },
   "source": [
    "*floats*"
   ]
  },
  {
   "cell_type": "markdown",
   "metadata": {
    "id": "0W8LBOgBmG0x"
   },
   "source": [
    "Como é sabido, nem todos os números são inteiros. Para isso, temos a classe float, que são os números decimais, quebrados, etc.\n"
   ]
  },
  {
   "cell_type": "code",
   "execution_count": 38,
   "metadata": {
    "colab": {
     "base_uri": "https://localhost:8080/"
    },
    "id": "sPEczFT-uDqz",
    "outputId": "ef603f43-fa6d-4cfe-ffb2-dda95791eda8"
   },
   "outputs": [
    {
     "name": "stdout",
     "output_type": "stream",
     "text": [
      "12.34 <class 'float'>\n"
     ]
    }
   ],
   "source": [
    "print(12.34, type(12.34)) # Nota: O decimal no Python é com '.', não com ','"
   ]
  },
  {
   "cell_type": "code",
   "execution_count": null,
   "metadata": {
    "colab": {
     "base_uri": "https://localhost:8080/"
    },
    "id": "-pWmu4vYuQr_",
    "outputId": "aa30eac1-3484-4016-bab7-140373cf288c"
   },
   "outputs": [
    {
     "name": "stdout",
     "output_type": "stream",
     "text": [
      "4.2 <class 'float'>\n"
     ]
    }
   ],
   "source": [
    "print(4.2, type(4.2))"
   ]
  },
  {
   "cell_type": "markdown",
   "metadata": {
    "id": "E-B3vay6uY4Y"
   },
   "source": [
    "*Booleanos*"
   ]
  },
  {
   "cell_type": "markdown",
   "metadata": {
    "id": "SmLihiLhubAc"
   },
   "source": [
    "Por fim, temos os valores booleanos, que são valores lógicos. São Verdadeiros (TRUE) ou Falsos (FALSE). Geralmente utilizados em comparações"
   ]
  },
  {
   "cell_type": "code",
   "execution_count": 39,
   "metadata": {
    "colab": {
     "base_uri": "https://localhost:8080/"
    },
    "id": "fWx2o2FpuYdy",
    "outputId": "d5abd51f-1874-42dd-9d8b-debf5287a98c"
   },
   "outputs": [
    {
     "name": "stdout",
     "output_type": "stream",
     "text": [
      "True <class 'bool'>\n"
     ]
    }
   ],
   "source": [
    "booleano = (10==10)\n",
    "\n",
    "print(booleano, type(booleano))"
   ]
  },
  {
   "cell_type": "code",
   "execution_count": 40,
   "metadata": {
    "colab": {
     "base_uri": "https://localhost:8080/"
    },
    "id": "ufQea5zGu9Pq",
    "outputId": "ab5121a6-d851-4f91-b3f6-b59e585e212b"
   },
   "outputs": [
    {
     "name": "stdout",
     "output_type": "stream",
     "text": [
      "False <class 'bool'>\n"
     ]
    }
   ],
   "source": [
    "booleano2 = (0==1)\n",
    "\n",
    "print(booleano2, type(booleano2))"
   ]
  },
  {
   "cell_type": "code",
   "execution_count": 41,
   "metadata": {
    "colab": {
     "base_uri": "https://localhost:8080/"
    },
    "id": "DHD3jKHgvDmJ",
    "outputId": "51f500ed-ed5d-4d43-d3e6-07d6b3f64bae"
   },
   "outputs": [
    {
     "name": "stdout",
     "output_type": "stream",
     "text": [
      "True\n"
     ]
    }
   ],
   "source": [
    "booleano3 = (0==0)\n",
    "\n",
    "print(booleano3)"
   ]
  },
  {
   "cell_type": "markdown",
   "metadata": {
    "id": "9op1-Kxbu0SP"
   },
   "source": [
    "Listas vazias são consideradas falsas"
   ]
  },
  {
   "cell_type": "code",
   "execution_count": null,
   "metadata": {
    "colab": {
     "base_uri": "https://localhost:8080/"
    },
    "id": "tBfTxqsZuuhE",
    "outputId": "19e3ba71-1622-4f2c-b09c-afb4659773f1"
   },
   "outputs": [
    {
     "name": "stdout",
     "output_type": "stream",
     "text": [
      "False\n"
     ]
    }
   ],
   "source": [
    "print(bool(''))"
   ]
  },
  {
   "cell_type": "markdown",
   "metadata": {
    "id": "Eg0C-4DtbABK"
   },
   "source": [
    "#### Exercícios"
   ]
  },
  {
   "cell_type": "markdown",
   "metadata": {
    "id": "0NqSdc_xbDta"
   },
   "source": [
    "1 - Crie uma variável str e a imprima junto do seu tipo"
   ]
  },
  {
   "cell_type": "code",
   "execution_count": 42,
   "metadata": {
    "colab": {
     "base_uri": "https://localhost:8080/"
    },
    "id": "x9Sih0rLbBqQ",
    "outputId": "f0ec6600-57b4-4c0f-ca68-cd20cc71e47c"
   },
   "outputs": [
    {
     "name": "stdout",
     "output_type": "stream",
     "text": [
      "aaaaaaa <class 'str'>\n"
     ]
    }
   ],
   "source": [
    "string = 'aaaaaaa'\n",
    "print(string, type(string))"
   ]
  },
  {
   "cell_type": "markdown",
   "metadata": {
    "id": "PaCrZI_RbRoA"
   },
   "source": [
    "2 - Peça ao usuário que digite sua idade e verifique o tipo de dado resultante desse input."
   ]
  },
  {
   "cell_type": "code",
   "execution_count": null,
   "metadata": {
    "colab": {
     "base_uri": "https://localhost:8080/"
    },
    "id": "9IJe_xRzbaZ0",
    "outputId": "638dc71b-9fe0-4f45-a2a3-e1ebca5cce2c"
   },
   "outputs": [
    {
     "name": "stdout",
     "output_type": "stream",
     "text": [
      "Digite a sua idade: 23\n",
      "23 <class 'int'>\n"
     ]
    }
   ],
   "source": [
    "idade = int(input(\"Digite a sua idade: \"))\n",
    "print(idade, type(idade))"
   ]
  },
  {
   "cell_type": "markdown",
   "metadata": {
    "id": "fpxusUryboBA"
   },
   "source": [
    "3 - Qual o tipo das seguintes variáveis?"
   ]
  },
  {
   "cell_type": "code",
   "execution_count": null,
   "metadata": {
    "id": "fj2WSq43blbu"
   },
   "outputs": [],
   "source": [
    "# A) String\n",
    "\n",
    "x = \"12.52\""
   ]
  },
  {
   "cell_type": "code",
   "execution_count": null,
   "metadata": {
    "id": "XXsOHZ9Rb5QR"
   },
   "outputs": [],
   "source": [
    "# B) String\n",
    "\n",
    "y = \"José tem 53 anos\""
   ]
  },
  {
   "cell_type": "code",
   "execution_count": null,
   "metadata": {
    "id": "UH9mrQNlb8Xa"
   },
   "outputs": [],
   "source": [
    "# C) Float\n",
    "\n",
    "z = 17.07"
   ]
  },
  {
   "cell_type": "code",
   "execution_count": null,
   "metadata": {
    "id": "hsxnt6K7cBbX"
   },
   "outputs": [],
   "source": [
    "# D) Int\n",
    "\n",
    "a = 3"
   ]
  },
  {
   "cell_type": "markdown",
   "metadata": {
    "id": "AtuJrvxlbk0u"
   },
   "source": [
    "4 - Crie uma variável de tipo booleano (imprima o tipo da variável)"
   ]
  },
  {
   "cell_type": "code",
   "execution_count": 43,
   "metadata": {
    "colab": {
     "base_uri": "https://localhost:8080/"
    },
    "id": "Ccnas4qfcVI9",
    "outputId": "4a2e80b7-e5d9-4b31-f0e2-cf04e8d6ff49"
   },
   "outputs": [
    {
     "name": "stdout",
     "output_type": "stream",
     "text": [
      "True <class 'bool'>\n"
     ]
    }
   ],
   "source": [
    "bu = 40!=41\n",
    "print(bu, type(bu))"
   ]
  },
  {
   "cell_type": "markdown",
   "metadata": {
    "id": "g3CgPFcVvMbm"
   },
   "source": [
    "## 7. Operações Aritméticas e Conversões"
   ]
  },
  {
   "cell_type": "markdown",
   "metadata": {
    "id": "qwkI4bRbvTic"
   },
   "source": [
    "Você também pode utilizar o python como uma calculadora. Nesta seção, vamos mostrar as operações mais comuns."
   ]
  },
  {
   "cell_type": "markdown",
   "metadata": {
    "id": "4c_httrfvbpM"
   },
   "source": [
    "*Operadores Aritméticos*\n",
    "\n",
    "Soma -> +\n",
    "\n",
    "Subtração -> -\n",
    "\n",
    "Multiplicação -> *\n",
    "\n",
    "Divisão -> /\n",
    "\n",
    "Divisão Inteira (resultado arredondado) -> //\n",
    "\n",
    "Potenciação (elevar à) -> **\n",
    "\n",
    "% -> Resto da divisão de um número por outro\n"
   ]
  },
  {
   "cell_type": "code",
   "execution_count": 44,
   "metadata": {
    "colab": {
     "base_uri": "https://localhost:8080/"
    },
    "id": "AGGWAf34vbLe",
    "outputId": "6a23075f-1250-4f68-8340-f2c82a420b03"
   },
   "outputs": [
    {
     "name": "stdout",
     "output_type": "stream",
     "text": [
      "2\n"
     ]
    }
   ],
   "source": [
    "# Vamos começar pelos números inteiros\n",
    "\n",
    "soma = 1 + 1\n",
    "\n",
    "print(soma)"
   ]
  },
  {
   "cell_type": "code",
   "execution_count": 45,
   "metadata": {
    "colab": {
     "base_uri": "https://localhost:8080/"
    },
    "id": "u8BNPlpnv_7s",
    "outputId": "36a3686c-9665-4bac-9917-70d193fa06d7"
   },
   "outputs": [
    {
     "data": {
      "text/plain": [
       "56"
      ]
     },
     "execution_count": 45,
     "metadata": {},
     "output_type": "execute_result"
    }
   ],
   "source": [
    "mult = 7*8\n",
    "\n",
    "mult # uma forma alternativa de imprimir uma variável é colocá-la diretamente."
   ]
  },
  {
   "cell_type": "code",
   "execution_count": 46,
   "metadata": {
    "colab": {
     "base_uri": "https://localhost:8080/"
    },
    "id": "H-hBUclbwHgP",
    "outputId": "c3de9350-d746-4fdb-c2ef-feaaf0d617ae"
   },
   "outputs": [
    {
     "data": {
      "text/plain": [
       "40"
      ]
     },
     "execution_count": 46,
     "metadata": {},
     "output_type": "execute_result"
    }
   ],
   "source": [
    "sub = 50-10\n",
    "\n",
    "sub"
   ]
  },
  {
   "cell_type": "code",
   "execution_count": 47,
   "metadata": {
    "colab": {
     "base_uri": "https://localhost:8080/"
    },
    "id": "BJhMFNi6wKaU",
    "outputId": "6cea53c1-bdb0-4852-984d-4836130b24f6"
   },
   "outputs": [
    {
     "name": "stdout",
     "output_type": "stream",
     "text": [
      "6.4 <class 'float'>\n"
     ]
    }
   ],
   "source": [
    "div = 64/10\n",
    "\n",
    "print(div, type(div))"
   ]
  },
  {
   "cell_type": "code",
   "execution_count": 48,
   "metadata": {
    "colab": {
     "base_uri": "https://localhost:8080/"
    },
    "id": "bcGqk7qSyQ6j",
    "outputId": "13b0a8fb-1a02-43b7-b494-130c793f5479"
   },
   "outputs": [
    {
     "name": "stdout",
     "output_type": "stream",
     "text": [
      "16 <class 'int'>\n"
     ]
    }
   ],
   "source": [
    "pot = 2**4\n",
    "\n",
    "print(pot, type(pot))"
   ]
  },
  {
   "cell_type": "markdown",
   "metadata": {
    "id": "_PQxEvTEwTMu"
   },
   "source": [
    "Operações aritméticas também funcionam com strings. Porém, com uma lógica diferente. Você pode multiplicar uma string por um valor inteiro"
   ]
  },
  {
   "cell_type": "code",
   "execution_count": null,
   "metadata": {
    "colab": {
     "base_uri": "https://localhost:8080/"
    },
    "id": "iXfa7BbswRW3",
    "outputId": "9d19725e-99d4-48ee-ca66-04a3d81aa8c3"
   },
   "outputs": [
    {
     "name": "stdout",
     "output_type": "stream",
     "text": [
      "OláOláOláOláOláOláOláOláOláOlá\n"
     ]
    }
   ],
   "source": [
    "print(\"Olá\"*10)"
   ]
  },
  {
   "cell_type": "markdown",
   "metadata": {
    "id": "2vULYwSnwj3g"
   },
   "source": [
    "Você pode concatenar duas strings"
   ]
  },
  {
   "cell_type": "code",
   "execution_count": 49,
   "metadata": {
    "colab": {
     "base_uri": "https://localhost:8080/"
    },
    "id": "UyP9vsP5wpYt",
    "outputId": "be381e0b-22d3-4b6b-d232-6108720e3d6f"
   },
   "outputs": [
    {
     "name": "stdout",
     "output_type": "stream",
     "text": [
      "olá mundo\n"
     ]
    }
   ],
   "source": [
    "x = \"olá\"\n",
    "y = \" mundo\"\n",
    "\n",
    "print(x+y)"
   ]
  },
  {
   "cell_type": "markdown",
   "metadata": {
    "id": "m9kyPQGGwg23"
   },
   "source": [
    "No entanto, não é possível multiplicar uma string por outra"
   ]
  },
  {
   "cell_type": "code",
   "execution_count": 50,
   "metadata": {
    "colab": {
     "base_uri": "https://localhost:8080/",
     "height": 141
    },
    "id": "H3-2QebIwcHg",
    "outputId": "c447c284-0179-4635-ad74-71a7e03ea8d3"
   },
   "outputs": [
    {
     "ename": "TypeError",
     "evalue": "can't multiply sequence by non-int of type 'str'",
     "output_type": "error",
     "traceback": [
      "\u001b[0;31m---------------------------------------------------------------------------\u001b[0m",
      "\u001b[0;31mTypeError\u001b[0m                                 Traceback (most recent call last)",
      "\u001b[0;32m<ipython-input-50-9cd789abaf6f>\u001b[0m in \u001b[0;36m<cell line: 1>\u001b[0;34m()\u001b[0m\n\u001b[0;32m----> 1\u001b[0;31m \u001b[0mprint\u001b[0m\u001b[0;34m(\u001b[0m\u001b[0;34m\"Olá\"\u001b[0m\u001b[0;34m*\u001b[0m\u001b[0;34m\"Mundo\"\u001b[0m\u001b[0;34m)\u001b[0m\u001b[0;34m\u001b[0m\u001b[0;34m\u001b[0m\u001b[0m\n\u001b[0m",
      "\u001b[0;31mTypeError\u001b[0m: can't multiply sequence by non-int of type 'str'"
     ]
    }
   ],
   "source": [
    "print(\"Olá\"*\"Mundo\")"
   ]
  },
  {
   "cell_type": "markdown",
   "metadata": {
    "id": "TJ0w6Ed2w0UP"
   },
   "source": [
    "Nem somar uma string e um int"
   ]
  },
  {
   "cell_type": "code",
   "execution_count": 51,
   "metadata": {
    "colab": {
     "base_uri": "https://localhost:8080/",
     "height": 141
    },
    "id": "1YZYJuKywxQv",
    "outputId": "ab4f2a84-7d60-40c2-8f42-cd1d0f96e8ac"
   },
   "outputs": [
    {
     "ename": "TypeError",
     "evalue": "unsupported operand type(s) for +: 'int' and 'str'",
     "output_type": "error",
     "traceback": [
      "\u001b[0;31m---------------------------------------------------------------------------\u001b[0m",
      "\u001b[0;31mTypeError\u001b[0m                                 Traceback (most recent call last)",
      "\u001b[0;32m<ipython-input-51-d62e01d11195>\u001b[0m in \u001b[0;36m<cell line: 1>\u001b[0;34m()\u001b[0m\n\u001b[0;32m----> 1\u001b[0;31m \u001b[0mprint\u001b[0m\u001b[0;34m(\u001b[0m\u001b[0;36m5\u001b[0m\u001b[0;34m+\u001b[0m\u001b[0;34m\"10\"\u001b[0m\u001b[0;34m)\u001b[0m\u001b[0;34m\u001b[0m\u001b[0;34m\u001b[0m\u001b[0m\n\u001b[0m",
      "\u001b[0;31mTypeError\u001b[0m: unsupported operand type(s) for +: 'int' and 'str'"
     ]
    }
   ],
   "source": [
    "print(5+\"10\")"
   ]
  },
  {
   "cell_type": "markdown",
   "metadata": {
    "id": "NP4PeDwYw8Ts"
   },
   "source": [
    "Operações funcionam da mesma forma que os int para os floats"
   ]
  },
  {
   "cell_type": "code",
   "execution_count": 52,
   "metadata": {
    "colab": {
     "base_uri": "https://localhost:8080/"
    },
    "id": "b_BUEuXqw4jj",
    "outputId": "e2cc7da3-2d11-4337-d911-0016817bc105"
   },
   "outputs": [
    {
     "name": "stdout",
     "output_type": "stream",
     "text": [
      "36.18000000000001\n"
     ]
    }
   ],
   "source": [
    "print(5.4*6.7)"
   ]
  },
  {
   "cell_type": "code",
   "execution_count": 53,
   "metadata": {
    "colab": {
     "base_uri": "https://localhost:8080/"
    },
    "id": "gzgyp6GtxCpn",
    "outputId": "6a3d5332-d4be-4fdb-c76a-5857719f77e7"
   },
   "outputs": [
    {
     "name": "stdout",
     "output_type": "stream",
     "text": [
      "36.18\n"
     ]
    }
   ],
   "source": [
    "# Se quiser arredondar o valor final\n",
    "\n",
    "print(round((5.4*6.7), 2))"
   ]
  },
  {
   "cell_type": "code",
   "execution_count": 54,
   "metadata": {
    "colab": {
     "base_uri": "https://localhost:8080/"
    },
    "id": "YQo0TSRxxKLk",
    "outputId": "a5979f19-6a52-41b8-8df4-1850b2ae2876"
   },
   "outputs": [
    {
     "name": "stdout",
     "output_type": "stream",
     "text": [
      "36.18\n"
     ]
    }
   ],
   "source": [
    "# Numa maneira de mais fácil visualização\n",
    "\n",
    "mult2 = 5.4*6.7\n",
    "\n",
    "print(round(mult2, 2))"
   ]
  },
  {
   "cell_type": "markdown",
   "metadata": {
    "id": "GHYL7BrmxT18"
   },
   "source": [
    "Se tiver dúvidas sobre algum comando ou código, lembre-se de sempre consultar a [documentação](https://docs.python.org/pt-br/3/library/functions.html?highlight=round#round) do python."
   ]
  },
  {
   "cell_type": "markdown",
   "metadata": {
    "id": "vAQc9CLyxcET"
   },
   "source": [
    "*Conversões*"
   ]
  },
  {
   "cell_type": "markdown",
   "metadata": {
    "id": "1Io34hVRxeia"
   },
   "source": [
    "Para converter uma variável de um tipo para outro, você pode utilizar alguns comandos. Se, por exemplo, você tiver um número em formato de texto, pode transformá-lo em int pelo seguinte código"
   ]
  },
  {
   "cell_type": "code",
   "execution_count": 55,
   "metadata": {
    "colab": {
     "base_uri": "https://localhost:8080/"
    },
    "id": "gsigeAgWxeKL",
    "outputId": "5c25a280-2b7d-4fda-fc69-a62b25042dec"
   },
   "outputs": [
    {
     "name": "stdout",
     "output_type": "stream",
     "text": [
      "57 <class 'int'>\n"
     ]
    }
   ],
   "source": [
    "# str para int\n",
    "\n",
    "valor = \"57\"\n",
    "\n",
    "numerico = int(valor)\n",
    "\n",
    "print(numerico, type(numerico))\n"
   ]
  },
  {
   "cell_type": "markdown",
   "metadata": {
    "id": "IeGMj2rbx_p4"
   },
   "source": [
    "Outras conversões são possíveis"
   ]
  },
  {
   "cell_type": "code",
   "execution_count": 56,
   "metadata": {
    "colab": {
     "base_uri": "https://localhost:8080/"
    },
    "id": "XJoW5nJ-yBkf",
    "outputId": "f2a425b8-2619-4465-e361-3b3e50bb286e"
   },
   "outputs": [
    {
     "name": "stdout",
     "output_type": "stream",
     "text": [
      "57 <class 'int'>\n"
     ]
    }
   ],
   "source": [
    "#float to int\n",
    "float1 = 57.8\n",
    "\n",
    "inteiro = int(float1)\n",
    "\n",
    "print(inteiro, type(inteiro))"
   ]
  },
  {
   "cell_type": "code",
   "execution_count": 57,
   "metadata": {
    "colab": {
     "base_uri": "https://localhost:8080/"
    },
    "id": "H0lLbhwHyMaH",
    "outputId": "0bd46441-0159-4abc-ba59-65a857b46b4a"
   },
   "outputs": [
    {
     "name": "stdout",
     "output_type": "stream",
     "text": [
      "6.0 <class 'float'>\n"
     ]
    }
   ],
   "source": [
    "# int para float\n",
    "\n",
    "inteiro2 = 6\n",
    "\n",
    "float2 = float(inteiro2)\n",
    "\n",
    "print(float2, type(float2))\n",
    "\n"
   ]
  },
  {
   "cell_type": "markdown",
   "metadata": {
    "id": "kWTevuTPynC0"
   },
   "source": [
    "Também pode converter de número para texto (str)"
   ]
  },
  {
   "cell_type": "code",
   "execution_count": 65,
   "metadata": {
    "colab": {
     "base_uri": "https://localhost:8080/"
    },
    "id": "3BT9HCw3ymgB",
    "outputId": "203cf198-407e-49cf-c0c7-2211f771dade"
   },
   "outputs": [
    {
     "name": "stdout",
     "output_type": "stream",
     "text": [
      "12356 <class 'str'>\n"
     ]
    }
   ],
   "source": [
    "inteiro3 = 12356\n",
    "\n",
    "string1 = str(inteiro3)\n",
    "\n",
    "print(string1, type(string1))"
   ]
  },
  {
   "cell_type": "code",
   "execution_count": 66,
   "metadata": {
    "colab": {
     "base_uri": "https://localhost:8080/"
    },
    "id": "fxIFsmzYyq22",
    "outputId": "25e25760-01bb-4b64-cff1-eb1f986cbc20"
   },
   "outputs": [
    {
     "name": "stdout",
     "output_type": "stream",
     "text": [
      "27.805432054032 <class 'str'>\n"
     ]
    }
   ],
   "source": [
    "float3 = 27.805432054032\n",
    "\n",
    "string2 = str(float3)\n",
    "\n",
    "print(string2, type(string2))"
   ]
  },
  {
   "cell_type": "markdown",
   "metadata": {
    "id": "jfmSYA_Sc63e"
   },
   "source": [
    "#### Exercícios"
   ]
  },
  {
   "cell_type": "markdown",
   "metadata": {
    "id": "_Y-5gxtCc8dB"
   },
   "source": [
    "1 - Peça dois números ao usuário e faça a soma destes"
   ]
  },
  {
   "cell_type": "code",
   "execution_count": 69,
   "metadata": {
    "colab": {
     "base_uri": "https://localhost:8080/"
    },
    "id": "p1qQ8__ec8Ig",
    "outputId": "3751eea5-3edd-47a6-e29c-cab7c5e64f9f"
   },
   "outputs": [
    {
     "name": "stdout",
     "output_type": "stream",
     "text": [
      "Diga o n1: 2\n",
      "Diga o n2: 3\n",
      "A soma do n1 com o n2 é igual a 5\n"
     ]
    }
   ],
   "source": [
    "n1 = int(input('Diga o n1: '))\n",
    "n2 = int(input('Diga o n2: '))\n",
    "soma = n1 + n2\n",
    "print(\"A soma do n1 com o n2 é igual a\", soma)"
   ]
  },
  {
   "cell_type": "markdown",
   "metadata": {
    "id": "fYewz2OodCGu"
   },
   "source": [
    "2 - Imprima o seguinte caractere 50 vezes"
   ]
  },
  {
   "cell_type": "code",
   "execution_count": null,
   "metadata": {
    "colab": {
     "base_uri": "https://localhost:8080/"
    },
    "id": "4TslyPVodu2K",
    "outputId": "b5275a7d-ce9f-45bc-cc4c-259625feaad0"
   },
   "outputs": [
    {
     "name": "stdout",
     "output_type": "stream",
     "text": [
      "##################################################\n"
     ]
    }
   ],
   "source": [
    "caractere = \"#\"*50\n",
    "print(caractere)"
   ]
  },
  {
   "cell_type": "markdown",
   "metadata": {
    "id": "j1Wkz9qWd1cb"
   },
   "source": [
    "3 - Peça dois números ao usuário e calcule o resultado da divisão destes"
   ]
  },
  {
   "cell_type": "code",
   "execution_count": null,
   "metadata": {
    "colab": {
     "base_uri": "https://localhost:8080/"
    },
    "id": "BVrd-fX2d1Ic",
    "outputId": "882b67a7-5e69-4da6-aeca-7ab3027c41fa"
   },
   "outputs": [
    {
     "name": "stdout",
     "output_type": "stream",
     "text": [
      "Diga o n1: 2\n",
      "Diga o n2: 1\n",
      "2\n"
     ]
    }
   ],
   "source": [
    "n1 = int(input('Diga o n1: '))\n",
    "n2 = int(input('Diga o n2: '))\n",
    "div = n1 / n2\n",
    "print(int(div))"
   ]
  },
  {
   "cell_type": "markdown",
   "metadata": {
    "id": "x0tEjDPheBQb"
   },
   "source": [
    "4 - Peça dois números ao usuário e calcule o resultado da potência destes"
   ]
  },
  {
   "cell_type": "code",
   "execution_count": null,
   "metadata": {
    "colab": {
     "base_uri": "https://localhost:8080/"
    },
    "id": "lYX4OYjYeJnh",
    "outputId": "561b0010-92f6-4d1c-cbbc-1aeac096d970"
   },
   "outputs": [
    {
     "name": "stdout",
     "output_type": "stream",
     "text": [
      "Diga o n1: 5\n",
      "Diga o n2: 3\n",
      "125\n"
     ]
    }
   ],
   "source": [
    "n1 = int(input('Diga o n1: '))\n",
    "n2 = int(input('Diga o n2: '))\n",
    "pot = n1 ** n2\n",
    "print(int(pot))"
   ]
  },
  {
   "cell_type": "markdown",
   "metadata": {
    "id": "tAMCbuuXeJ8i"
   },
   "source": [
    "5 - Transforme o seguinte str em float e calcule o seu valor quadrado, apresentando o valor final em no máximo duas casas decimais"
   ]
  },
  {
   "cell_type": "code",
   "execution_count": null,
   "metadata": {
    "colab": {
     "base_uri": "https://localhost:8080/"
    },
    "id": "X5AWoxVMfGDG",
    "outputId": "0370bf74-42f7-4806-b771-07ca3b732ccd"
   },
   "outputs": [
    {
     "name": "stdout",
     "output_type": "stream",
     "text": [
      "1784.22\n"
     ]
    }
   ],
   "source": [
    "numstr = \"42.24\"\n",
    "numfloat = float(numstr)\n",
    "print(round(numfloat**2, 2))"
   ]
  },
  {
   "cell_type": "markdown",
   "metadata": {
    "id": "uj_dozW01t4Z"
   },
   "source": [
    "## 8. Formatação de strings"
   ]
  },
  {
   "cell_type": "markdown",
   "metadata": {
    "id": "UP7fQdtE1Lm1"
   },
   "source": [
    "Digamos que alguém te peça para jogar todas essas informações em uma única frase. Há alguns modos de formatar a mesma informação."
   ]
  },
  {
   "cell_type": "code",
   "execution_count": 71,
   "metadata": {
    "colab": {
     "base_uri": "https://localhost:8080/"
    },
    "id": "eQSxfLBc1SZH",
    "outputId": "31a48a82-3220-4939-cfcb-2b710c43bef4"
   },
   "outputs": [
    {
     "name": "stdout",
     "output_type": "stream",
     "text": [
      "João tem 20 anos e 1.75 m de altura. Nascido em 2024 , atualmente está no curso de Machine Learning\n"
     ]
    }
   ],
   "source": [
    "# Básico\n",
    "nome = 'João'\n",
    "idade = 20\n",
    "altura = 1.75\n",
    "ano_nascimento = 2024\n",
    "curso = 'Machine Learning'\n",
    "\n",
    "print(nome, \"tem\", idade, \"anos e\", altura, \"m de altura.\", \"Nascido em\", ano_nascimento, \",\", \"atualmente está no curso de\", curso)"
   ]
  },
  {
   "cell_type": "markdown",
   "metadata": {
    "id": "C_ixyRCG10lE"
   },
   "source": [
    "No entanto, essa forma é um pouco truncada e pode dificultar a leitura do código. Um modo alternativo é usar f-strings"
   ]
  },
  {
   "cell_type": "code",
   "execution_count": 72,
   "metadata": {
    "colab": {
     "base_uri": "https://localhost:8080/"
    },
    "id": "j2upiFEP1qhO",
    "outputId": "6c9a7d70-f732-49b4-d4c1-bfbc8ec3e237"
   },
   "outputs": [
    {
     "name": "stdout",
     "output_type": "stream",
     "text": [
      "João tem 20 anos e 1.75m de altura. Nascido em 2024, atualmente está no curso de Machine Learning\n"
     ]
    }
   ],
   "source": [
    "# f-string\n",
    "\n",
    "print(f'{nome} tem {idade} anos e {altura}m de altura. Nascido em {ano_nascimento}, atualmente está no curso de {curso}')"
   ]
  },
  {
   "cell_type": "markdown",
   "metadata": {
    "id": "82q9YtGT2PxK"
   },
   "source": [
    "Desse modo, tanto a escrita quanto a leitura do código são mais fluídas. Outra vantagem é a possibilidade de arredondar os valores dentro do print"
   ]
  },
  {
   "cell_type": "code",
   "execution_count": 73,
   "metadata": {
    "colab": {
     "base_uri": "https://localhost:8080/"
    },
    "id": "Bgedd0iV2Gdd",
    "outputId": "ce4c7d66-fac7-4b02-f51b-04c1f9c14ab7"
   },
   "outputs": [
    {
     "name": "stdout",
     "output_type": "stream",
     "text": [
      "João recebe R$875.16 como auxílio moradia\n"
     ]
    }
   ],
   "source": [
    "bolsa = 875.164\n",
    "\n",
    "print(f'{nome} recebe R${bolsa:.2f} como auxílio moradia')"
   ]
  },
  {
   "cell_type": "markdown",
   "metadata": {
    "id": "5Mu7zXGz2k6s"
   },
   "source": [
    "Outra possibilidade é utilizar chaves vazias e indicar as variáveis e se vai arredondar ou não ao final utilizando \".format\""
   ]
  },
  {
   "cell_type": "code",
   "execution_count": 74,
   "metadata": {
    "colab": {
     "base_uri": "https://localhost:8080/"
    },
    "id": "gHaacpDK2rR8",
    "outputId": "cf359fa1-5588-42e0-ebfd-f340351543ee"
   },
   "outputs": [
    {
     "name": "stdout",
     "output_type": "stream",
     "text": [
      "João recebe R$875.16 como auxílio moradia\n"
     ]
    }
   ],
   "source": [
    "print('{} recebe R${} como auxílio moradia'.format(nome, round(bolsa,2)))"
   ]
  },
  {
   "cell_type": "markdown",
   "metadata": {
    "id": "hGOk93Ds24Je"
   },
   "source": [
    "Ao utilizar esse método, a ordem das variáveis tem que ser exatamente as dos colchetes. Para evitar problemas, pode utilizar algumas indicações"
   ]
  },
  {
   "cell_type": "code",
   "execution_count": 75,
   "metadata": {
    "colab": {
     "base_uri": "https://localhost:8080/"
    },
    "id": "MT_7wWoN23XD",
    "outputId": "b874c6fd-10a8-4ab4-96f3-a5b21388cd72"
   },
   "outputs": [
    {
     "name": "stdout",
     "output_type": "stream",
     "text": [
      "João recebe R$875.16 como auxílio moradia\n"
     ]
    }
   ],
   "source": [
    "print('{n} recebe R${b} como auxílio moradia'.format(b = round(bolsa,2), n = nome))"
   ]
  },
  {
   "cell_type": "markdown",
   "metadata": {
    "id": "ZqR6aNXmgz0S"
   },
   "source": [
    "#### Exercícios"
   ]
  },
  {
   "cell_type": "markdown",
   "metadata": {
    "id": "o5OoKPMUhJOz"
   },
   "source": [
    "1 - Imprima as seguintes informações de um aluno utilizando o modo \"básico\" estabelecido acima."
   ]
  },
  {
   "cell_type": "code",
   "execution_count": 83,
   "metadata": {
    "id": "11CTqvWqgzl3"
   },
   "outputs": [],
   "source": [
    "# Informações do aluno\n",
    "\n",
    "nome = \"Matheus\"\n",
    "idade = 23\n",
    "ano_nascimento = 2024 - idade\n",
    "curso = \"Química\"\n",
    "bolsa = 907.22435\n"
   ]
  },
  {
   "cell_type": "code",
   "execution_count": 78,
   "metadata": {
    "colab": {
     "base_uri": "https://localhost:8080/"
    },
    "id": "Q_p_YdYXhvJc",
    "outputId": "e4521bcc-8511-426e-f2c6-a42f41101e69"
   },
   "outputs": [
    {
     "name": "stdout",
     "output_type": "stream",
     "text": [
      "Matheus tem 23 anos de idade e nasceu em 2000 . Atualmente é estudante do curso de Química e recebe uma bolsa de R$ 907.22435 .\n"
     ]
    }
   ],
   "source": [
    "# Insira seu código aqui\n",
    "print(nome, 'tem', idade, 'anos de idade e nasceu em', ano_nascimento, '. Atualmente é estudante do curso de', curso, 'e recebe uma bolsa de R$', bolsa, '.')"
   ]
  },
  {
   "cell_type": "markdown",
   "metadata": {
    "id": "bjPndBSihwqk"
   },
   "source": [
    "2 - Imprima as mesmas informações usando f strings"
   ]
  },
  {
   "cell_type": "code",
   "execution_count": 81,
   "metadata": {
    "colab": {
     "base_uri": "https://localhost:8080/"
    },
    "id": "-k7FcK_LhR5z",
    "outputId": "107e364b-0f62-4012-a88c-dad35a921df5"
   },
   "outputs": [
    {
     "name": "stdout",
     "output_type": "stream",
     "text": [
      "Matheus tem 23 anos de idade e nasceu em 2000. Atualmente é estudante do curso de Química e recebe uma bolsa de R$ 907.22.\n"
     ]
    }
   ],
   "source": [
    "print(f'{nome} tem {idade} anos de idade e nasceu em {ano_nascimento}. Atualmente é estudante do curso de {curso} e recebe uma bolsa de R$ {round(bolsa, 2)}.')"
   ]
  },
  {
   "cell_type": "markdown",
   "metadata": {
    "id": "IHNRnR0hh3Ee"
   },
   "source": [
    "3 - Imprima as mesmas informações usando chaves"
   ]
  },
  {
   "cell_type": "code",
   "execution_count": 88,
   "metadata": {
    "colab": {
     "base_uri": "https://localhost:8080/"
    },
    "id": "34SlUTQ8iAQ4",
    "outputId": "6d29b3f4-bd9c-4435-8cbb-fa642e29737d"
   },
   "outputs": [
    {
     "name": "stdout",
     "output_type": "stream",
     "text": [
      "Matheus tem 23 anos de idade e nasceu em 2001. Atualmente é estudante do curso de Química e recebe uma bolsa de R$ 907.22.\n"
     ]
    }
   ],
   "source": [
    "print('{a} tem {b} anos de idade e nasceu em {c}. Atualmente é estudante do curso de {d} e recebe uma bolsa de R$ {e}.'.format(a = nome,\n",
    "                                                                                                                               b = idade,\n",
    "                                                                                                                               c = ano_nascimento,\n",
    "                                                                                                                               d = curso,\n",
    "                                                                                                                               e = round(bolsa, 2)\n",
    "                                                                                                                                )\n",
    ")"
   ]
  },
  {
   "cell_type": "markdown",
   "metadata": {
    "id": "w5vaGVk6h_4z"
   },
   "source": [
    "4 - Por meio das f strings, imprima o valor da bolsa do aluno usando apenas uma casa decimal"
   ]
  },
  {
   "cell_type": "code",
   "execution_count": 89,
   "metadata": {
    "colab": {
     "base_uri": "https://localhost:8080/"
    },
    "id": "Jqrc9kQLiHMX",
    "outputId": "d3266afd-9482-4eaf-9bbe-3bb50e2816a7"
   },
   "outputs": [
    {
     "name": "stdout",
     "output_type": "stream",
     "text": [
      "A bolsa de Matheus é de R$ 907.22\n"
     ]
    }
   ],
   "source": [
    "print(f'A bolsa de {nome} é de R$ {round(bolsa, 2)}')"
   ]
  },
  {
   "cell_type": "markdown",
   "metadata": {
    "id": "Tp-0DEUnicDy"
   },
   "source": [
    "5 - Peça a idade, curso e nome de um usuário e imprima essas informações utilizando f-strings"
   ]
  },
  {
   "cell_type": "code",
   "execution_count": 93,
   "metadata": {
    "colab": {
     "base_uri": "https://localhost:8080/"
    },
    "id": "82XEF5diig-w",
    "outputId": "117a0836-7608-4424-b9e1-5db46204961d"
   },
   "outputs": [
    {
     "name": "stdout",
     "output_type": "stream",
     "text": [
      "Digite aqui seu nome: Maria\n",
      "Agora diga a sua idade: 20\n",
      "Por fim, me informe seu curso: Computação\n",
      "Obrigado, Maria! Atualmente você tem 20 e é estudante de Computação.\n"
     ]
    }
   ],
   "source": [
    "nome = str(input('Digite aqui seu nome: '))\n",
    "idade = int(input('Agora diga a sua idade: '))\n",
    "curso = str(input('Por fim, me informe seu curso: '))\n",
    "\n",
    "print(f'Obrigado, {nome}! Atualmente você tem {idade} e é estudante de {curso}.')"
   ]
  },
  {
   "cell_type": "markdown",
   "metadata": {
    "id": "Lu9tjh5YmKuc"
   },
   "source": [
    "## 9. Estruturas de Dados em Python"
   ]
  },
  {
   "cell_type": "markdown",
   "metadata": {
    "id": "ikqvqIuSmeBo"
   },
   "source": [
    "*Listas*: Uma lista é uma coleção ordenada e mutável de elementos. Os elementos de uma lista podem ser de diferentes tipos, como strings, inteiros, booleanos e até outras listas. As listas são representadas entre colchetes e os elementos são separados por vírgulas. Exemplo: minha_lista = [1, 2, 'três', True].\n",
    "\n",
    "*Tuplas*: Uma tupla é semelhante a uma lista, mas é imutável, o que significa que não pode ser modificada após a criação. As tuplas são representadas entre parênteses e os elementos são separados por vírgulas. Exemplo: minha_tupla = (1, 2, 'três', True).\n",
    "\n",
    "*Dicionários*: Um dicionário é uma coleção de pares de chave-valor, onde cada valor é acessado por uma chave exclusiva. Os dicionários são representados entre chaves e cada par de chave-valor é separado por vírgulas. Exemplo: meu_dicionario = {'nome': 'João', 'idade': 30, 'cidade': 'São Paulo'}.\n",
    "\n",
    "*Conjuntos*: Um conjunto é uma coleção não ordenada e mutável de elementos exclusivos. Os conjuntos são representados entre chaves e os elementos são separados por vírgulas. Exemplo: meu_conjunto = {1, 2, 3, 4, 5}."
   ]
  },
  {
   "cell_type": "code",
   "execution_count": 98,
   "metadata": {
    "colab": {
     "base_uri": "https://localhost:8080/"
    },
    "id": "gTZYd1PNiDts",
    "outputId": "4151e67d-274c-402d-c91e-a35e22882831"
   },
   "outputs": [
    {
     "data": {
      "text/plain": [
       "list"
      ]
     },
     "execution_count": 98,
     "metadata": {},
     "output_type": "execute_result"
    }
   ],
   "source": [
    "lista = [1, 2, '3']\n",
    "type(lista)"
   ]
  },
  {
   "cell_type": "code",
   "execution_count": 99,
   "metadata": {
    "colab": {
     "base_uri": "https://localhost:8080/"
    },
    "id": "cDlBwmkpiGpW",
    "outputId": "bc728b2a-2fef-46dc-808e-41066c37169d"
   },
   "outputs": [
    {
     "data": {
      "text/plain": [
       "tuple"
      ]
     },
     "execution_count": 99,
     "metadata": {},
     "output_type": "execute_result"
    }
   ],
   "source": [
    "tupla = (1, 2, '3')\n",
    "type(tupla)"
   ]
  },
  {
   "cell_type": "code",
   "execution_count": 100,
   "metadata": {
    "colab": {
     "base_uri": "https://localhost:8080/"
    },
    "id": "TFLtl5nDiJfv",
    "outputId": "609e2296-4a24-4c78-86d5-f02f8fc54d19"
   },
   "outputs": [
    {
     "data": {
      "text/plain": [
       "dict"
      ]
     },
     "execution_count": 100,
     "metadata": {},
     "output_type": "execute_result"
    }
   ],
   "source": [
    "dicio = {'nome':'maria', 'idade':20}\n",
    "type(dicio)"
   ]
  },
  {
   "cell_type": "code",
   "execution_count": 101,
   "metadata": {
    "colab": {
     "base_uri": "https://localhost:8080/"
    },
    "id": "eyN39a4DiPLt",
    "outputId": "9b6b56d9-6969-462a-969c-11f0cface5cf"
   },
   "outputs": [
    {
     "data": {
      "text/plain": [
       "set"
      ]
     },
     "execution_count": 101,
     "metadata": {},
     "output_type": "execute_result"
    }
   ],
   "source": [
    "conjunto = {1, 2, 3}\n",
    "type(conjunto)"
   ]
  },
  {
   "cell_type": "code",
   "execution_count": 105,
   "metadata": {
    "colab": {
     "base_uri": "https://localhost:8080/"
    },
    "id": "S7WegMofmmUO",
    "outputId": "9378b762-7d9b-4746-c16d-ce3fff3dfda0"
   },
   "outputs": [
    {
     "data": {
      "text/plain": [
       "list"
      ]
     },
     "execution_count": 105,
     "metadata": {},
     "output_type": "execute_result"
    }
   ],
   "source": [
    "# Exemplo de listas\n",
    "\n",
    "anos = [1999,2000,2001,2002]\n",
    "países = [\"China\", \"EUA\", \"Brasil\", \"Rússia\"]\n",
    "IDH = [0.802, 0.789, 0.782, 0.750]\n",
    "\n",
    "# No entanto, listas não precisam que os dados sejam do mesmo tipo (str, int, float) e podem existir listas dentro de listas (nested lists).\n",
    "\n",
    "lista_mista = [2007,\"Noruega\",0.886,\"etc.\"]\n",
    "\n",
    "nested_list = [[\"Brasil\", 0.782],[\"China\", 0.802]]\n",
    "\n",
    "type(nested_list)"
   ]
  },
  {
   "cell_type": "code",
   "execution_count": 104,
   "metadata": {
    "colab": {
     "base_uri": "https://localhost:8080/"
    },
    "id": "PCiGmZkInrzb",
    "outputId": "fd613c17-a9c6-485a-92ec-88641a5e28ff"
   },
   "outputs": [
    {
     "data": {
      "text/plain": [
       "tuple"
      ]
     },
     "execution_count": 104,
     "metadata": {},
     "output_type": "execute_result"
    }
   ],
   "source": [
    "# Exemplo de tuplas\n",
    "\n",
    "anos = (1999,2000,2001,2002)\n",
    "países = (\"China\", \"EUA\", \"Brasil\", \"Rússia\")\n",
    "IDH = (0.802, 0.789, 0.782, 0.750)\n",
    "\n",
    "tupla_mista = (2007,\"Noruega\",0.886,\"etc.\")\n",
    "\n",
    "nested_tuple = ((\"Brasil\", 0.782),(\"China\", 0.802))\n",
    "\n",
    "type(nested_tuple)"
   ]
  },
  {
   "cell_type": "code",
   "execution_count": 106,
   "metadata": {
    "colab": {
     "base_uri": "https://localhost:8080/"
    },
    "id": "VS_AZPyNpcWg",
    "outputId": "1ef57038-32f3-4184-d358-cbadf15e0868"
   },
   "outputs": [
    {
     "data": {
      "text/plain": [
       "dict"
      ]
     },
     "execution_count": 106,
     "metadata": {},
     "output_type": "execute_result"
    }
   ],
   "source": [
    "# Exemplo de dicionários\n",
    "\n",
    "# Criando um dicionário\n",
    "meu_dicionario = {'nome': 'João', 'idade': 30, 'cidade': 'São Paulo'}\n",
    "\n",
    "type(meu_dicionario)"
   ]
  },
  {
   "cell_type": "markdown",
   "metadata": {
    "id": "r0YzuiE2m8Oi"
   },
   "source": [
    "Dicionários já parecem um pouco mais com a estrutura de planilhas que conhecemos. Um conjunto é uma coleção de elementos únicos, sem ordem definida. Isso significa que cada elemento de um conjunto é único, e não há repetições. Os conjuntos são muito úteis para realizar operações matemáticas, como união, interseção e diferença.\n",
    "\n",
    "Em Python, os conjuntos são representados por chaves {} ou pela função set(). Por exemplo:"
   ]
  },
  {
   "cell_type": "code",
   "execution_count": 114,
   "metadata": {
    "id": "xB2Fx3M4pv7L"
   },
   "outputs": [],
   "source": [
    "# Criando um conjunto com chaves\n",
    "meu_conjunto = {1, 2, 3, 4}\n",
    "\n",
    "# Criando um conjunto com a função set()\n",
    "outro_conjunto = set([3, 4, 5, 6])"
   ]
  },
  {
   "cell_type": "markdown",
   "metadata": {
    "id": "qHXs5uSAqE2R"
   },
   "source": [
    "É importante notar que os conjuntos não garantem a ordem dos elementos. Portanto, se você imprimir um conjunto, os elementos podem aparecer em uma ordem diferente da ordem em que foram adicionados."
   ]
  },
  {
   "cell_type": "code",
   "execution_count": 117,
   "metadata": {
    "colab": {
     "base_uri": "https://localhost:8080/"
    },
    "id": "bvymmgaii0k5",
    "outputId": "a7b376b6-fcdb-4a08-e254-5e53df6992d6"
   },
   "outputs": [
    {
     "data": {
      "text/plain": [
       "{1, 2, 3, 5}"
      ]
     },
     "execution_count": 117,
     "metadata": {},
     "output_type": "execute_result"
    }
   ],
   "source": [
    "conjunto = set([1, 2, 3, 2, 1, 5])\n",
    "conjunto"
   ]
  },
  {
   "cell_type": "markdown",
   "metadata": {
    "id": "JBzMbjqDivfN"
   },
   "source": [
    "#### Exercícios"
   ]
  },
  {
   "cell_type": "markdown",
   "metadata": {
    "id": "pKMb1VIoixmd"
   },
   "source": [
    "1 - Crie uma lista com os anos da pandemia de Covid-19"
   ]
  },
  {
   "cell_type": "code",
   "execution_count": 118,
   "metadata": {
    "colab": {
     "base_uri": "https://localhost:8080/"
    },
    "id": "837Kdvqkiw-N",
    "outputId": "e1c2ff65-07f2-48c5-8201-105864c93046"
   },
   "outputs": [
    {
     "data": {
      "text/plain": [
       "[2020, 2021, 2022]"
      ]
     },
     "execution_count": 118,
     "metadata": {},
     "output_type": "execute_result"
    }
   ],
   "source": [
    "anos_pandemia = [2020, 2021, 2022]\n",
    "anos_pandemia"
   ]
  },
  {
   "cell_type": "markdown",
   "metadata": {
    "id": "cNu3r69Oi1GZ"
   },
   "source": [
    "2 - Crie uma tupla com 5 países latino-americanos"
   ]
  },
  {
   "cell_type": "code",
   "execution_count": 119,
   "metadata": {
    "colab": {
     "base_uri": "https://localhost:8080/"
    },
    "id": "YqWIP5Uni7WE",
    "outputId": "6da722b1-5715-474b-8346-6ddcae948c4d"
   },
   "outputs": [
    {
     "data": {
      "text/plain": [
       "('Argentina', 'Chile', 'Bolívia', 'Uruguai', 'Paraguai')"
      ]
     },
     "execution_count": 119,
     "metadata": {},
     "output_type": "execute_result"
    }
   ],
   "source": [
    "paises_latinos = ('Argentina', 'Chile', 'Bolívia', 'Uruguai', 'Paraguai')\n",
    "paises_latinos"
   ]
  },
  {
   "cell_type": "markdown",
   "metadata": {
    "id": "AfaA6UPBi7sY"
   },
   "source": [
    "3 - Peça o nome e idade do usuário e crie um dicionário com esses valores"
   ]
  },
  {
   "cell_type": "code",
   "execution_count": 120,
   "metadata": {
    "colab": {
     "base_uri": "https://localhost:8080/"
    },
    "id": "LMPqMPgYjqT1",
    "outputId": "fab807b4-66ec-48dd-ab60-75444123f42c"
   },
   "outputs": [
    {
     "name": "stdout",
     "output_type": "stream",
     "text": [
      "Digite aqui o seu nome: Luiz\n",
      "Digite aqui a sua idade: 23\n"
     ]
    },
    {
     "data": {
      "text/plain": [
       "{'nome': 'Luiz', 'idade': 23}"
      ]
     },
     "execution_count": 120,
     "metadata": {},
     "output_type": "execute_result"
    }
   ],
   "source": [
    "nome = str(input('Digite aqui o seu nome: '))\n",
    "idade = int(input('Digite aqui a sua idade: '))\n",
    "\n",
    "dicio = {\n",
    "    'nome':nome,\n",
    "    'idade':idade\n",
    "}\n",
    "\n",
    "dicio"
   ]
  },
  {
   "cell_type": "markdown",
   "metadata": {
    "id": "VGrN4pKGjucx"
   },
   "source": [
    "4 - Crie um conjunto com diversos objetos utilizando a função set()"
   ]
  },
  {
   "cell_type": "code",
   "execution_count": 122,
   "metadata": {
    "colab": {
     "base_uri": "https://localhost:8080/"
    },
    "id": "vrk27RnKj8P8",
    "outputId": "54564e13-9b48-4388-eb05-1c849cadcfe6"
   },
   "outputs": [
    {
     "data": {
      "text/plain": [
       "{'Monitor', 'Mouse', 'Teclado'}"
      ]
     },
     "execution_count": 122,
     "metadata": {},
     "output_type": "execute_result"
    }
   ],
   "source": [
    "objeto1 = 'Monitor'\n",
    "objeto2 = 'Teclado'\n",
    "objeto3 = 'Mouse'\n",
    "objeto4 = 'Monitor'\n",
    "\n",
    "conjunto = set([objeto1, objeto2, objeto3, objeto4])\n",
    "conjunto"
   ]
  },
  {
   "cell_type": "markdown",
   "metadata": {
    "id": "MUVZ1oksqKqI"
   },
   "source": [
    "## Conclusão"
   ]
  },
  {
   "cell_type": "markdown",
   "metadata": {
    "id": "Yf9RRB5rqMnN"
   },
   "source": [
    "Neste laboratório, o intuito era de o de introduzir os comandos, tipos de dados e operações básicas que existem em Python. Na próxima aula, discutiremos um pouco mais sobre como trabalhar com as estruturas de dados citadas acima (listas, tuplas, etc.), operadores condicionais (if, else, elif) e alguns operadores de repetição (loop, while)."
   ]
  }
 ],
 "metadata": {
  "colab": {
   "provenance": [],
   "toc_visible": true
  },
  "gpuClass": "standard",
  "kernelspec": {
   "display_name": "Python 3",
   "name": "python3"
  },
  "language_info": {
   "name": "python"
  }
 },
 "nbformat": 4,
 "nbformat_minor": 0
}
