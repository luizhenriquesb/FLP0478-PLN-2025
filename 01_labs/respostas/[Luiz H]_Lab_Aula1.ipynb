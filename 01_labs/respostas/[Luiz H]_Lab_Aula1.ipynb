{
  "nbformat": 4,
  "nbformat_minor": 0,
  "metadata": {
    "colab": {
      "provenance": [],
      "toc_visible": true
    },
    "kernelspec": {
      "name": "python3",
      "display_name": "Python 3"
    },
    "language_info": {
      "name": "python"
    },
    "gpuClass": "standard"
  },
  "cells": [
    {
      "cell_type": "markdown",
      "source": [
        "# **Cabeçalho**\n",
        "\n",
        "Aluno 1 - Pedro Lucca Costa de Sales - 13655307 - Graduação (IRI) - Noturno\n",
        "\n",
        "Aluno 2 - Luiz Henrique da Silva Batista - 12687228 - Ciências Sociais - Noturno"
      ],
      "metadata": {
        "id": "UJqySuenk2E5"
      }
    },
    {
      "cell_type": "markdown",
      "source": [
        "# Introdução ao básico de Python"
      ],
      "metadata": {
        "id": "_ns7mAL7Sqmm"
      }
    },
    {
      "cell_type": "markdown",
      "source": [
        "Não é um requisito desta disciplina ter conhecimento prévio de linguagens de programação (R, Python, etc.). No entanto, iremos introduzir gradualmente ao aluno o Python, que será a base para os códigos deste curso. Nas próximas aulas, veremos o que é o Python, por que utilizamos ele (e não o R, por exemplo),e suas vantagens e desvantagens. Ao longo do curso, optamos também por utilizar a IDE (Ambiente de desenvolvimento integrado) disponibilizada pelo google, Google Colab, e que nos permite ensinar a linguagem sem necessitar de instalações extras, facilitando todo o processo. Se os alunos demonstrarem interesse, podemos disponibilizar tutoriais de como instalar o Python em seus computadores pessoais e as principais IDEs."
      ],
      "metadata": {
        "id": "WbPvhjqETV7N"
      }
    },
    {
      "cell_type": "markdown",
      "source": [
        "### 1. Familiarização com o Google Colab\n",
        "\n",
        "Antes mesmo de começarmos a programar, um exercício importante para qualquer linguagem e IDE é o de explorar a ferramenta. Clique nas abas e botões e descubra quais opções são disponibilizadas pela IDE"
      ],
      "metadata": {
        "id": "D0rD_ajPUnll"
      }
    },
    {
      "cell_type": "markdown",
      "source": [
        "### 2. Comentários e Texto Markdown\n",
        "\n",
        "Em python, você pode escrever texto que não é código de duas maneiras: com comentários em células de código e com células markdown. Tente rodar a célula de código abaixo, o que acontece?"
      ],
      "metadata": {
        "id": "nJwW6AgbZqAT"
      }
    },
    {
      "cell_type": "code",
      "execution_count": 1,
      "metadata": {
        "id": "7UEHKdA_RvEK"
      },
      "outputs": [],
      "source": [
        "# print('hello world')"
      ]
    },
    {
      "cell_type": "markdown",
      "source": [
        "Sempre que quiser escrever alguma coisa que não necessariamente deseja rodar ou que não é código, utilize comentários. Uma utilidade adicional muito importante dos comentários é a descrição do que a linha de código está fazendo, ou um sumário de uma célula de código inteira. ***Um bom uso dos comentários e de texto markdown facilita tanto a vida do futuro você quanto de outras pessoas que lerão o seu código. Utilize sempre que possível!***"
      ],
      "metadata": {
        "id": "yCFp0rgYaEth"
      }
    },
    {
      "cell_type": "markdown",
      "source": [
        "Para comentar/descomentar múltiplas linhas de código de uma vez, você pode utilizar \"Ctrl\" + \"/\" no Colab. Tente descomentar as linhas de códigos a seguir"
      ],
      "metadata": {
        "id": "TMlRRbDBbLCd"
      }
    },
    {
      "cell_type": "code",
      "source": [
        "# Isso aqui é código\n",
        "# a\n",
        "# b\n",
        "# c\n",
        "# d\n",
        "# e\n",
        "# f\n",
        "# g\n",
        "# h\n"
      ],
      "metadata": {
        "id": "kjOLtH0pa2t7"
      },
      "execution_count": null,
      "outputs": []
    },
    {
      "cell_type": "markdown",
      "source": [
        "### 3. Comando \"Print\""
      ],
      "metadata": {
        "id": "pUEZLgotaphj"
      }
    },
    {
      "cell_type": "markdown",
      "source": [
        "O comando \"print\" é um dos mais básicos do Python, mas também um dos mais importantes e utilizados. O comando imprime qualquer coisa que desejar, desde texto simples (e.g. \"Olá Mundo\"), até variáveis, resultados de cálculos, etc. Leia mais sobre o comando na [documentação](https://docs.python.org/pt-br/3/library/functions.html?highlight=print#print) do Python. Nas próximas subseções, exploraremos alguma das possibilidades do comando."
      ],
      "metadata": {
        "id": "0V2YRrnqbhkR"
      }
    },
    {
      "cell_type": "code",
      "source": [
        "# Imprimindo (Printing) uma string\n",
        "\n",
        "print('Olá, mundo!')"
      ],
      "metadata": {
        "id": "1GUwIe2ycp79",
        "colab": {
          "base_uri": "https://localhost:8080/"
        },
        "outputId": "ed8dc86c-0983-415d-bae7-e63ff80e3936"
      },
      "execution_count": 2,
      "outputs": [
        {
          "output_type": "stream",
          "name": "stdout",
          "text": [
            "Olá, mundo!\n"
          ]
        }
      ]
    },
    {
      "cell_type": "markdown",
      "source": [
        "Esse é o exemplo mais clássico da função deste comando. Uma string nada mais é do que uma sequência de texto, que está encapsulada em aspas (tanto aspas simples quanto dupla). O python identificará automaticamente que quaisquer caracteres entre aspas é uma string."
      ],
      "metadata": {
        "id": "YY7-olq6b4IN"
      }
    },
    {
      "cell_type": "code",
      "source": [
        "print('Texto em aspas simples')"
      ],
      "metadata": {
        "id": "CJXhyjA8dKdA",
        "colab": {
          "base_uri": "https://localhost:8080/"
        },
        "outputId": "68022a7e-e2d6-4331-8308-bb285a4eeb4f"
      },
      "execution_count": 3,
      "outputs": [
        {
          "output_type": "stream",
          "name": "stdout",
          "text": [
            "Texto em aspas simples\n"
          ]
        }
      ]
    },
    {
      "cell_type": "code",
      "source": [
        "print(\"Texto em aspas duplas\")"
      ],
      "metadata": {
        "id": "_xp7nxY4dM7o",
        "colab": {
          "base_uri": "https://localhost:8080/"
        },
        "outputId": "95ff9776-3bdf-4ef5-8e85-94a0b4b5f278"
      },
      "execution_count": 4,
      "outputs": [
        {
          "output_type": "stream",
          "name": "stdout",
          "text": [
            "Texto em aspas duplas\n"
          ]
        }
      ]
    },
    {
      "cell_type": "markdown",
      "source": [
        "Se quiser imprimir aspas dentro de uma string, você pode fazer de duas maneiras:"
      ],
      "metadata": {
        "id": "MvUB8R8MdcQr"
      }
    },
    {
      "cell_type": "code",
      "source": [
        "# a. Aspas duplas no total da string e aspas simples dentro da string\n",
        "\n",
        "print(\"Aqui está uma 'aspa' dentro da string\")\n",
        "\n",
        "# b. Aspas duplas com duas barras\n",
        "\n",
        "print(\"Texto com duas \\\"Aspas\\\" duplas\")"
      ],
      "metadata": {
        "id": "W_CQpBDBdgo5",
        "colab": {
          "base_uri": "https://localhost:8080/"
        },
        "outputId": "5997d4d9-2793-4a66-b7b8-60eccee3e8f1"
      },
      "execution_count": 5,
      "outputs": [
        {
          "output_type": "stream",
          "name": "stdout",
          "text": [
            "Aqui está uma 'aspa' dentro da string\n",
            "Texto com duas \"Aspas\" duplas\n"
          ]
        }
      ]
    },
    {
      "cell_type": "markdown",
      "source": [
        "Você pode imprimir números diretamente:"
      ],
      "metadata": {
        "id": "KNV2mIOueINh"
      }
    },
    {
      "cell_type": "code",
      "source": [
        "print(123456)"
      ],
      "metadata": {
        "id": "25-gkvTbeIB_",
        "colab": {
          "base_uri": "https://localhost:8080/"
        },
        "outputId": "d6afea7e-acef-4eaa-f7ad-81bf5db314f6"
      },
      "execution_count": 6,
      "outputs": [
        {
          "output_type": "stream",
          "name": "stdout",
          "text": [
            "123456\n"
          ]
        }
      ]
    },
    {
      "cell_type": "markdown",
      "source": [
        "Pode imprimir os valores de uma variável:"
      ],
      "metadata": {
        "id": "sGf7_DLAeLnx"
      }
    },
    {
      "cell_type": "code",
      "source": [
        "x = 5\n",
        "\n",
        "print(x)"
      ],
      "metadata": {
        "id": "eibL7oG8eOip",
        "colab": {
          "base_uri": "https://localhost:8080/"
        },
        "outputId": "c2078c28-9a15-45ab-8aaa-410ea16eecdd"
      },
      "execution_count": 7,
      "outputs": [
        {
          "output_type": "stream",
          "name": "stdout",
          "text": [
            "5\n"
          ]
        }
      ]
    },
    {
      "cell_type": "markdown",
      "source": [
        "Para quebrar linhas dentro de um print, você pode utilizar o \"\\n\""
      ],
      "metadata": {
        "id": "sEMBH-M9eSuu"
      }
    },
    {
      "cell_type": "code",
      "source": [
        "print(\"Quero meu texto \\n dividido\")"
      ],
      "metadata": {
        "id": "KdaLCXUpeWoB",
        "colab": {
          "base_uri": "https://localhost:8080/"
        },
        "outputId": "4af7da9e-a9c8-4a6a-d0bf-fb56c51412a7"
      },
      "execution_count": 8,
      "outputs": [
        {
          "output_type": "stream",
          "name": "stdout",
          "text": [
            "Quero meu texto \n",
            " dividido\n"
          ]
        }
      ]
    },
    {
      "cell_type": "markdown",
      "source": [
        "O print ainda tem algumas funções extras que podem vir a calhar"
      ],
      "metadata": {
        "id": "J6LZa7wjej4f"
      }
    },
    {
      "cell_type": "markdown",
      "source": [
        "*SEP*"
      ],
      "metadata": {
        "id": "lil2JYKgfHJx"
      }
    },
    {
      "cell_type": "code",
      "source": [
        "# \"sep\" permite separar diversas strings com algum padrão\n",
        "\n",
        "print(\"Olá\", \"Mundo\", \"Isso\", \"Aqui\", \"É\", \"Doido\", sep = \"...\")"
      ],
      "metadata": {
        "id": "lqTB_8tHejnU",
        "colab": {
          "base_uri": "https://localhost:8080/"
        },
        "outputId": "5bd7b7c9-0f9f-43a2-cad4-8f93b8810c93"
      },
      "execution_count": 9,
      "outputs": [
        {
          "output_type": "stream",
          "name": "stdout",
          "text": [
            "Olá...Mundo...Isso...Aqui...É...Doido\n"
          ]
        }
      ]
    },
    {
      "cell_type": "markdown",
      "source": [
        "Observe que a vírgula separando cada uma das string faz com que tenhamos 6 strings ao invés de uma única. A opção \"end\" permite que você defina o que irá separar dois prints seguidos. O padrão é uma quebra de linha"
      ],
      "metadata": {
        "id": "O44LeDBie9KE"
      }
    },
    {
      "cell_type": "markdown",
      "source": [
        "*END*"
      ],
      "metadata": {
        "id": "hyvHSCQvfP71"
      }
    },
    {
      "cell_type": "code",
      "source": [
        "print(\"Olá\", end = ',')\n",
        "print(' Mundo!')"
      ],
      "metadata": {
        "id": "FXvM5Y9GfRan",
        "colab": {
          "base_uri": "https://localhost:8080/"
        },
        "outputId": "468a1673-614d-4f72-dd3c-51a6e6bf69fa"
      },
      "execution_count": 10,
      "outputs": [
        {
          "output_type": "stream",
          "name": "stdout",
          "text": [
            "Olá, Mundo!\n"
          ]
        }
      ]
    },
    {
      "cell_type": "code",
      "source": [
        "print(\"Olá,\")\n",
        "print(\"Mundo\")"
      ],
      "metadata": {
        "id": "yc6CI7DkleBr",
        "colab": {
          "base_uri": "https://localhost:8080/"
        },
        "outputId": "3fd64fb5-d49f-4add-aaee-c9cbf26bfb01"
      },
      "execution_count": 11,
      "outputs": [
        {
          "output_type": "stream",
          "name": "stdout",
          "text": [
            "Olá,\n",
            "Mundo\n"
          ]
        }
      ]
    },
    {
      "cell_type": "markdown",
      "source": [
        "#### Exercícios"
      ],
      "metadata": {
        "id": "Oo2LenLWTmdR"
      }
    },
    {
      "cell_type": "markdown",
      "source": [
        "1 - Vamos começar com algo básico: escreva uma célula de código que imprima \"Olá, [seu nome]\""
      ],
      "metadata": {
        "id": "F-aFHqoOTphf"
      }
    },
    {
      "cell_type": "code",
      "source": [
        "# Seu código vai aqui\n",
        "print(\"Olá, Pedro e Luiz\")"
      ],
      "metadata": {
        "id": "W-g21pWOVByw",
        "colab": {
          "base_uri": "https://localhost:8080/"
        },
        "outputId": "3a1cc1a9-2fd5-4ac4-831e-7d4085719784"
      },
      "execution_count": 12,
      "outputs": [
        {
          "output_type": "stream",
          "name": "stdout",
          "text": [
            "Olá, Pedro e Luiz\n"
          ]
        }
      ]
    },
    {
      "cell_type": "markdown",
      "source": [
        "2 - Imprima a seguinte soma:"
      ],
      "metadata": {
        "id": "LsRmXblaVDBt"
      }
    },
    {
      "cell_type": "code",
      "source": [
        "soma = 7+9\n",
        "\n",
        "print(soma)"
      ],
      "metadata": {
        "id": "VQG5vZ0JVKDp",
        "colab": {
          "base_uri": "https://localhost:8080/"
        },
        "outputId": "8b51d867-614b-4840-9838-b29aaa6bd850"
      },
      "execution_count": 13,
      "outputs": [
        {
          "output_type": "stream",
          "name": "stdout",
          "text": [
            "16\n"
          ]
        }
      ]
    },
    {
      "cell_type": "markdown",
      "source": [
        "3 - Imprima os números de 1 a 10, cada um em uma linha diferente"
      ],
      "metadata": {
        "id": "79n7s-qbVO84"
      }
    },
    {
      "cell_type": "code",
      "source": [
        "# Seu código vai aqui\n",
        "print(\"1\\n2\\n3\\n4\\n5\\n6\\n7\\n8\\n9\\n10\")"
      ],
      "metadata": {
        "id": "ILwwCaJCVa5d",
        "colab": {
          "base_uri": "https://localhost:8080/"
        },
        "outputId": "08cd9281-148d-40d2-8e51-ff37a83fc37b"
      },
      "execution_count": 18,
      "outputs": [
        {
          "output_type": "stream",
          "name": "stdout",
          "text": [
            "1\n",
            "2\n",
            "3\n",
            "4\n",
            "5\n",
            "6\n",
            "7\n",
            "8\n",
            "9\n",
            "10\n"
          ]
        }
      ]
    },
    {
      "cell_type": "code",
      "source": [
        "print(1, 2, 3, 4, 5, 6, 7, 8, 9, 10 , sep = '\\n')"
      ],
      "metadata": {
        "colab": {
          "base_uri": "https://localhost:8080/"
        },
        "id": "7Nw-o7TWa74T",
        "outputId": "347f72cb-cd05-4c11-9a4c-308989154bb9"
      },
      "execution_count": 20,
      "outputs": [
        {
          "output_type": "stream",
          "name": "stdout",
          "text": [
            "1\n",
            "2\n",
            "3\n",
            "4\n",
            "5\n",
            "6\n",
            "7\n",
            "8\n",
            "9\n",
            "10\n"
          ]
        }
      ]
    },
    {
      "cell_type": "markdown",
      "source": [
        "4 - Qual o problema com o seguinte código?"
      ],
      "metadata": {
        "id": "lVpBFZIqVcNg"
      }
    },
    {
      "cell_type": "code",
      "source": [
        "print(\"A comida do restaurante estava \"deliciosa\" hoje.\")"
      ],
      "metadata": {
        "id": "UPMfYZFVVlKF",
        "colab": {
          "base_uri": "https://localhost:8080/",
          "height": 106
        },
        "outputId": "93de5355-b778-443f-c7c8-e0a58391b779"
      },
      "execution_count": 25,
      "outputs": [
        {
          "output_type": "error",
          "ename": "SyntaxError",
          "evalue": "invalid syntax. Perhaps you forgot a comma? (<ipython-input-25-1184d317c8ac>, line 1)",
          "traceback": [
            "\u001b[0;36m  File \u001b[0;32m\"<ipython-input-25-1184d317c8ac>\"\u001b[0;36m, line \u001b[0;32m1\u001b[0m\n\u001b[0;31m    print(\"A comida do restaurante estava \"deliciosa\" hoje.\")\u001b[0m\n\u001b[0m          ^\u001b[0m\n\u001b[0;31mSyntaxError\u001b[0m\u001b[0;31m:\u001b[0m invalid syntax. Perhaps you forgot a comma?\n"
          ]
        }
      ]
    },
    {
      "cell_type": "markdown",
      "source": [
        "A palavra deliciosa está sendo tratada como uma variável, porque a maneira como as aspas duplas foi usada está confundindo o comando `print()`. Do jeito que está, temos uma string em \"A comida... estava \", uma variável `deliciosa` e, por fim outra string \" hoje.\". Dessa forma, para corrigir o código, deveríamos, primeiro, atribuir algum valor para a variável `deliciosa` e colocar uma vírgula antes e depois dela. Alternativamente, podemos simplesmente \"escapar\" as aspas duplas usando \\\\\"."
      ],
      "metadata": {
        "id": "nkwA7B0GbYDO"
      }
    },
    {
      "cell_type": "code",
      "source": [
        "print(\"A comida do restaurante estava \\\"deliciosa\\\" hoje.\")"
      ],
      "metadata": {
        "colab": {
          "base_uri": "https://localhost:8080/"
        },
        "id": "SSl27kQ3cmCD",
        "outputId": "e838f5ff-0d61-404a-ec22-140a7cecea14"
      },
      "execution_count": 26,
      "outputs": [
        {
          "output_type": "stream",
          "name": "stdout",
          "text": [
            "A comida do restaurante estava \"deliciosa\" hoje.\n"
          ]
        }
      ]
    },
    {
      "cell_type": "markdown",
      "source": [
        "### 4. Comando \"Input\""
      ],
      "metadata": {
        "id": "o_7lSxpaXsyD"
      }
    },
    {
      "cell_type": "markdown",
      "source": [
        "O comando \"input\" em Python é usado para solicitar dados de entrada do usuário durante a execução do programa. Ele permite que o programa interaja com o usuário, recebendo valores digitados pelo teclado e armazenando-os em variáveis para posterior uso. A sintaxe básica do comando \"input\" é a seguinte:"
      ],
      "metadata": {
        "id": "rStCwZmVXur1"
      }
    },
    {
      "cell_type": "code",
      "source": [
        "nome_da_variavel = input(\"Mensagem para o usuário: \")"
      ],
      "metadata": {
        "id": "Sh8M2J64X0tC",
        "colab": {
          "base_uri": "https://localhost:8080/"
        },
        "outputId": "fc59cde3-4906-454a-f4fa-e22c89edcf49"
      },
      "execution_count": 27,
      "outputs": [
        {
          "name": "stdout",
          "output_type": "stream",
          "text": [
            "Mensagem para o usuário: Oi!\n"
          ]
        }
      ]
    },
    {
      "cell_type": "markdown",
      "source": [
        "A função \"input\" recebe uma mensagem opcional (entre as aspas) que será exibida ao usuário para solicitar a entrada de dados. O valor digitado pelo usuário é armazenado na variável \"nome_da_variavel\". Aqui está um exemplo simples para solicitar o nome do usuário e exibi-lo na tela:"
      ],
      "metadata": {
        "id": "5-AmhwIGX2sL"
      }
    },
    {
      "cell_type": "code",
      "source": [
        "# Solicitando o nome do usuário\n",
        "nome = input(\"Digite o seu nome: \")\n",
        "\n",
        "# Exibindo o nome na tela\n",
        "print(\"Olá, \" + nome + \"! Bem-vindo ao nosso programa.\")"
      ],
      "metadata": {
        "id": "hR1wsZ-kX8my",
        "colab": {
          "base_uri": "https://localhost:8080/"
        },
        "outputId": "b5cec997-78cf-4e11-d8a8-266a760ec83a"
      },
      "execution_count": 29,
      "outputs": [
        {
          "output_type": "stream",
          "name": "stdout",
          "text": [
            "Digite o seu nome: Pedro e Luiz\n",
            "Olá, Pedro e Luiz! Bem-vindo ao nosso programa.\n"
          ]
        }
      ]
    },
    {
      "cell_type": "markdown",
      "source": [
        "Neste exemplo, a mensagem \"Digite o seu nome:\" é exibida ao usuário, e o valor digitado por ele é armazenado na variável \"nome\". Em seguida, o programa utiliza o comando \"print\" para exibir uma mensagem de boas-vindas contendo o nome informado.\n",
        "\n",
        "Lembre-se que o valor digitado pelo usuário é sempre tratado como uma string (texto). Caso deseje utilizar o valor como outro tipo de dado, é necessário realizar a conversão adequada, como por exemplo, usando as funções \"int()\" ou \"float()\" para números inteiros ou de ponto flutuante, respectivamente."
      ],
      "metadata": {
        "id": "OK8nE84eX4pt"
      }
    },
    {
      "cell_type": "markdown",
      "source": [
        "Exemplo 1: Conversão para número inteiro (int)"
      ],
      "metadata": {
        "id": "tTr92q0xYLPD"
      }
    },
    {
      "cell_type": "code",
      "source": [
        "# Solicitando a idade do usuário\n",
        "idade_str = input(\"Digite a sua idade: \")\n",
        "\n",
        "# Convertendo a idade para número inteiro\n",
        "idade_int = int(idade_str)\n",
        "\n",
        "# Realizando operações com o valor convertido\n",
        "idade_ano_que_vem = idade_int + 1\n",
        "\n",
        "# Exibindo o resultado\n",
        "print(\"No próximo ano, você terá\", idade_ano_que_vem, \"anos.\")"
      ],
      "metadata": {
        "id": "capX6sLvYLxE",
        "colab": {
          "base_uri": "https://localhost:8080/"
        },
        "outputId": "70ccc1a4-b8d1-4f41-f48c-a6fd0e06595c"
      },
      "execution_count": null,
      "outputs": [
        {
          "output_type": "stream",
          "name": "stdout",
          "text": [
            "Digite a sua idade: 20\n",
            "No próximo ano, você terá 21 anos.\n"
          ]
        }
      ]
    },
    {
      "cell_type": "markdown",
      "source": [
        "Neste exemplo, o programa solicita a idade do usuário usando o comando \"input\" e armazena o valor digitado na variável \"idade_str\", que é tratada como uma string. Em seguida, usamos a função \"int()\" para converter essa string em um número inteiro e armazenamos o resultado na variável \"idade_int\". Dessa forma, podemos realizar operações matemáticas com esse valor e exibir o resultado na tela."
      ],
      "metadata": {
        "id": "yALpPuHAYQGe"
      }
    },
    {
      "cell_type": "markdown",
      "source": [
        "Exemplo 2: Conversão para número de ponto flutuante (float)"
      ],
      "metadata": {
        "id": "B8icp1h0YS8U"
      }
    },
    {
      "cell_type": "code",
      "source": [
        "# Solicitando o peso do usuário\n",
        "peso_str = input(\"Digite o seu peso (em kg): \")\n",
        "\n",
        "# Convertendo o peso para número de ponto flutuante\n",
        "peso_float = float(peso_str)\n",
        "\n",
        "# Calculando o peso na Lua (16.5% do peso na Terra)\n",
        "peso_lua = peso_float * 0.165\n",
        "\n",
        "# Exibindo o resultado\n",
        "print(\"Seu peso na Lua seria de\", peso_lua, \"kg.\")"
      ],
      "metadata": {
        "id": "_UD_ruZLYWiZ",
        "colab": {
          "base_uri": "https://localhost:8080/"
        },
        "outputId": "7e138791-fb85-480b-f230-10f4cee79b01"
      },
      "execution_count": null,
      "outputs": [
        {
          "output_type": "stream",
          "name": "stdout",
          "text": [
            "Digite o seu peso (em kg): 80\n",
            "Seu peso na Lua seria de 13.200000000000001 kg.\n"
          ]
        }
      ]
    },
    {
      "cell_type": "markdown",
      "source": [
        "Neste exemplo, o programa solicita o peso do usuário usando o comando \"input\" e armazena o valor digitado na variável \"peso_str\", que é tratada como uma string. Em seguida, usamos a função \"float()\" para converter essa string em um número de ponto flutuante (número decimal) e armazenamos o resultado na variável \"peso_float\". Assim, podemos realizar cálculos matemáticos envolvendo esse valor e exibir o resultado na tela.\n",
        "\n",
        "Lembre-se que, ao realizar a conversão de tipos, é importante garantir que o valor digitado pelo usuário seja compatível com o tipo que você deseja converter. Caso contrário, o programa pode gerar um erro durante a execução. É sempre uma boa prática adicionar tratamentos de exceções para lidar com essas situações, mas para fins de exemplo aqui, vamos considerar que o usuário insere valores válidos."
      ],
      "metadata": {
        "id": "lFRy7T5tYcqE"
      }
    },
    {
      "cell_type": "markdown",
      "source": [
        "*Nota*: É importante destacar que, em aplicações acadêmicas, o uso do \"input\" pode ser limitado ou pouco utilizado, especialmente em ambientes onde a interação direta com o usuário não é uma prioridade.Em muitas aplicações acadêmicas, o foco está na análise de dados, algoritmos complexos ou modelagem teórica, onde a entrada de dados é frequentemente feita através de arquivos ou parâmetros definidos previamente. Essa abordagem é preferível para evitar inconsistências ou erros de digitação que podem ocorrer quando o usuário insere dados manualmente."
      ],
      "metadata": {
        "id": "qLLCvN6BZGPy"
      }
    },
    {
      "cell_type": "markdown",
      "source": [
        "#### Exercícios"
      ],
      "metadata": {
        "id": "2pZwqmA5ZZ-N"
      }
    },
    {
      "cell_type": "markdown",
      "source": [
        "1 - Peça o nome do usuário e dê as boas vindas"
      ],
      "metadata": {
        "id": "yURGH6AyZbo0"
      }
    },
    {
      "cell_type": "code",
      "source": [
        "nome = input(\"Digite o seu nome: \")\n",
        "print(\"Boas vindas, \", nome)"
      ],
      "metadata": {
        "id": "L-nNoQ8aZbXK",
        "colab": {
          "base_uri": "https://localhost:8080/"
        },
        "outputId": "20b327ce-d531-4c5e-a7b1-36079a3cfcb5"
      },
      "execution_count": null,
      "outputs": [
        {
          "output_type": "stream",
          "name": "stdout",
          "text": [
            "Digite o seu nome: Luiz\n",
            "Boas vindas,  Luiz\n"
          ]
        }
      ]
    },
    {
      "cell_type": "markdown",
      "source": [
        "2 - Peça a idade do usuário e descubra o ano em que ele nasceu\n"
      ],
      "metadata": {
        "id": "7ckmO3z5Zu0x"
      }
    },
    {
      "cell_type": "code",
      "source": [
        "idade = int(input('Qual é a sua idade? '))\n",
        "ano_atual = int(input('Digite o ano atual: '))\n",
        "ano_nascimento = ano_atual - idade\n",
        "print('Você nasceu em', ano_nascimento)"
      ],
      "metadata": {
        "id": "WnaV1G8TZ2pS",
        "colab": {
          "base_uri": "https://localhost:8080/"
        },
        "outputId": "67f1c992-8742-4ec5-945b-af82826e4580"
      },
      "execution_count": null,
      "outputs": [
        {
          "output_type": "stream",
          "name": "stdout",
          "text": [
            "Qual é a sua idade? 20\n",
            "Digite o ano atual: 2004\n",
            "Você nasceu em 1984\n"
          ]
        }
      ]
    },
    {
      "cell_type": "markdown",
      "source": [
        "3 - Faça um programa que peça a base e a altura de um triângulo e calcule a área (Area do tríangulo = b.h/2)"
      ],
      "metadata": {
        "id": "0N2hC6K1Z2Rn"
      }
    },
    {
      "cell_type": "code",
      "source": [
        "base = float(input('Qual é a base do seu triângulo? '))\n",
        "altura = float(input('Qual é a altura do seu triângulo? '))\n",
        "area = base * altura / 2\n",
        "print('A área do seu triângulo é', area)"
      ],
      "metadata": {
        "id": "ZUAQLF9-aUxf",
        "colab": {
          "base_uri": "https://localhost:8080/"
        },
        "outputId": "97d295dc-37b5-4bd8-af6c-bec76a48e7ff"
      },
      "execution_count": null,
      "outputs": [
        {
          "output_type": "stream",
          "name": "stdout",
          "text": [
            "Qual é a base do seu triângulo? 5\n",
            "Qual é a altura do seu triângulo? 2\n",
            "A área do seu triângulo é  5.0\n"
          ]
        }
      ]
    },
    {
      "cell_type": "markdown",
      "source": [
        "4 - Peça o ano de nascimento do usuário e calcule sua idade"
      ],
      "metadata": {
        "id": "Srbz-GmSaWgU"
      }
    },
    {
      "cell_type": "code",
      "source": [
        "ano_nascimento = int(input('Qual é o ano do seu nascimento? '))\n",
        "ano_atual = int(input('Digite o ano atual: '))\n",
        "idade = ano_atual - ano_nascimento\n",
        "print('Você tem', idade, 'anos')"
      ],
      "metadata": {
        "id": "w8FhnYxyaWKR",
        "colab": {
          "base_uri": "https://localhost:8080/"
        },
        "outputId": "d282f45f-7b09-4ec7-eeed-48482bc95de0"
      },
      "execution_count": null,
      "outputs": [
        {
          "output_type": "stream",
          "name": "stdout",
          "text": [
            "Qual é o ano do seu nascimento? 2004\n",
            "Digite o ano atual: 2024\n",
            "Você tem 20 anos\n"
          ]
        }
      ]
    },
    {
      "cell_type": "markdown",
      "source": [
        "### 5. Variáveis"
      ],
      "metadata": {
        "id": "PvbOv_YcfnGD"
      }
    },
    {
      "cell_type": "markdown",
      "source": [
        "Você talvez tenha percebido que já mencionamos o nome \"variável\" algumas vezes ao longo do script mas não elaboramos muito sobre o que ela é. Uma variável em Python é como uma caixa que você pode usar para armazenar um valor, como um número ou um pedaço de texto. Você pode dar um nome para essa caixa e usar o nome para se referir ao valor armazenado nela mais tarde. Por exemplo, você pode criar uma variável chamada \"idade\" e atribuir um valor a ela, como 20:"
      ],
      "metadata": {
        "id": "rJYvZ1XKfsAC"
      }
    },
    {
      "cell_type": "code",
      "source": [
        "idade = 20\n",
        "\n",
        "idade"
      ],
      "metadata": {
        "id": "tolS0A81fuFB",
        "colab": {
          "base_uri": "https://localhost:8080/"
        },
        "outputId": "cd1e500a-bb94-4894-9268-89e0e4cd3716"
      },
      "execution_count": 30,
      "outputs": [
        {
          "output_type": "execute_result",
          "data": {
            "text/plain": [
              "20"
            ]
          },
          "metadata": {},
          "execution_count": 30
        }
      ]
    },
    {
      "cell_type": "markdown",
      "source": [
        "Agora, sempre que você usar a palavra \"idade\" em seu código, o valor 20 será usado. Você também pode alterar o valor armazenado em uma variável simplesmente atribuindo um novo valor a ela, como:"
      ],
      "metadata": {
        "id": "D17P_qfafwNQ"
      }
    },
    {
      "cell_type": "code",
      "source": [
        "idade = 25\n",
        "\n",
        "idade"
      ],
      "metadata": {
        "id": "SZwHx8u9fyAZ",
        "colab": {
          "base_uri": "https://localhost:8080/"
        },
        "outputId": "4d02f61c-fe13-4b0b-cd43-e58781a411bb"
      },
      "execution_count": 32,
      "outputs": [
        {
          "output_type": "execute_result",
          "data": {
            "text/plain": [
              "25"
            ]
          },
          "metadata": {},
          "execution_count": 32
        }
      ]
    },
    {
      "cell_type": "markdown",
      "source": [
        "Agora, quando você usa a variável \"idade\" em seu código, o valor 25 será usado em vez de 20. Variáveis são uma parte fundamental da programação em Python e são usadas para armazenar dados temporários ou permanentes em seu programa. Por exemplo, se você estivesse trabalhando em um banco de dados, você poderia se deparar com as seguintes informações."
      ],
      "metadata": {
        "id": "nZQryXuhfz9y"
      }
    },
    {
      "cell_type": "code",
      "source": [
        "# Informações do usuário\n",
        "\n",
        "nome = \"João\"\n",
        "idade = 26\n",
        "altura = 1.76\n",
        "ano_nascimento = 2024-26\n",
        "curso = \"Ciências Sociais\""
      ],
      "metadata": {
        "id": "X9HctfaCf0aP"
      },
      "execution_count": null,
      "outputs": []
    },
    {
      "cell_type": "markdown",
      "source": [
        "Pense nos possíveis tipos de cada variável. As variáveis númericas são iguais? Que outras variáveis podemos gerar a partir dos valores observados?"
      ],
      "metadata": {
        "id": "nxWJa_ZUf_66"
      }
    },
    {
      "cell_type": "markdown",
      "source": [
        "### 6. Tipos de Dados"
      ],
      "metadata": {
        "id": "uD7EjaznlnzZ"
      }
    },
    {
      "cell_type": "markdown",
      "source": [
        "Nas seções acima, mencionamos brevemente alguns tipos de dados como strings e números. No entanto, esta não é toda a história. A seguir, temos os principais tipos de dados do Python;"
      ],
      "metadata": {
        "id": "bu3xDQFQlpK3"
      }
    },
    {
      "cell_type": "markdown",
      "source": [
        "*Strings*"
      ],
      "metadata": {
        "id": "43S4qI4alzmh"
      }
    },
    {
      "cell_type": "markdown",
      "source": [
        "Como dito acima, string é qualquer tipo de caracteres (números ou letras) envoltos por aspas."
      ],
      "metadata": {
        "id": "pPKKAa73l27T"
      }
    },
    {
      "cell_type": "code",
      "source": [
        "string1 = \"Isso é uma string\"\n",
        "\n",
        "print(string1)\n",
        "print(type(string1)) # Type permite descobrir o tipo de uma variável"
      ],
      "metadata": {
        "id": "g-2FFAAbl2hs",
        "colab": {
          "base_uri": "https://localhost:8080/"
        },
        "outputId": "9ad7e70a-08df-4481-f931-a52832670068"
      },
      "execution_count": 33,
      "outputs": [
        {
          "output_type": "stream",
          "name": "stdout",
          "text": [
            "Isso é uma string\n",
            "<class 'str'>\n"
          ]
        }
      ]
    },
    {
      "cell_type": "code",
      "source": [
        "# Um número ou sequência de números com aspas também é uma string\n",
        "\n",
        "string2 = \"1sso t4mb3m é um4 str1ng\"\n",
        "\n",
        "print(string2)\n",
        "print(type(string2))"
      ],
      "metadata": {
        "id": "zOQhQiSrmIwE",
        "colab": {
          "base_uri": "https://localhost:8080/"
        },
        "outputId": "712513f4-e821-4352-dd76-bc0bb90b76cf"
      },
      "execution_count": null,
      "outputs": [
        {
          "output_type": "stream",
          "name": "stdout",
          "text": [
            "1sso t4mb3m é um4 str1ng\n",
            "<class 'str'>\n"
          ]
        }
      ]
    },
    {
      "cell_type": "markdown",
      "source": [
        "*Inteiros (int)*"
      ],
      "metadata": {
        "id": "gSrYHSS8mc8P"
      }
    },
    {
      "cell_type": "markdown",
      "source": [
        "Int é um tipo de variável númerico. Nesse tipo de dados, só existem números inteiros. Isto é, sem números decimais ou \"quebrados\"."
      ],
      "metadata": {
        "id": "ZQVG0K9amhEG"
      }
    },
    {
      "cell_type": "code",
      "source": [
        "print(10, type(10))"
      ],
      "metadata": {
        "id": "ZGQdha-7moB5",
        "colab": {
          "base_uri": "https://localhost:8080/"
        },
        "outputId": "b4906903-e6e1-4aeb-da12-6d5f93480f9f"
      },
      "execution_count": 34,
      "outputs": [
        {
          "output_type": "stream",
          "name": "stdout",
          "text": [
            "10 <class 'int'>\n"
          ]
        }
      ]
    },
    {
      "cell_type": "code",
      "source": [
        "print(-10, type(-10))"
      ],
      "metadata": {
        "id": "kCaMolrRms6z",
        "colab": {
          "base_uri": "https://localhost:8080/"
        },
        "outputId": "04815ca5-0159-4c3c-a92a-a6c4ea3702b9"
      },
      "execution_count": 35,
      "outputs": [
        {
          "output_type": "stream",
          "name": "stdout",
          "text": [
            "-10 <class 'int'>\n"
          ]
        }
      ]
    },
    {
      "cell_type": "code",
      "source": [
        "print(0, type(0))"
      ],
      "metadata": {
        "id": "luIsDu7HshrZ",
        "colab": {
          "base_uri": "https://localhost:8080/"
        },
        "outputId": "9512c09e-ca4e-4739-c0df-260395832a7c"
      },
      "execution_count": 36,
      "outputs": [
        {
          "output_type": "stream",
          "name": "stdout",
          "text": [
            "0 <class 'int'>\n"
          ]
        }
      ]
    },
    {
      "cell_type": "code",
      "source": [
        "# Tome sempre cuidado com as aspas\n",
        "\n",
        "print(\"10\" == int)"
      ],
      "metadata": {
        "id": "B4FmH93Ht5Xi",
        "colab": {
          "base_uri": "https://localhost:8080/"
        },
        "outputId": "0928be74-18f3-47d1-dd63-6bd5423febb0"
      },
      "execution_count": 37,
      "outputs": [
        {
          "output_type": "stream",
          "name": "stdout",
          "text": [
            "False\n"
          ]
        }
      ]
    },
    {
      "cell_type": "markdown",
      "source": [
        "*floats*"
      ],
      "metadata": {
        "id": "Ff_K6wAFuF7g"
      }
    },
    {
      "cell_type": "markdown",
      "source": [
        "Como é sabido, nem todos os números são inteiros. Para isso, temos a classe float, que são os números decimais, quebrados, etc.\n"
      ],
      "metadata": {
        "id": "0W8LBOgBmG0x"
      }
    },
    {
      "cell_type": "code",
      "source": [
        "print(12.34, type(12.34)) # Nota: O decimal no Python é com '.', não com ','"
      ],
      "metadata": {
        "id": "sPEczFT-uDqz",
        "colab": {
          "base_uri": "https://localhost:8080/"
        },
        "outputId": "ef603f43-fa6d-4cfe-ffb2-dda95791eda8"
      },
      "execution_count": 38,
      "outputs": [
        {
          "output_type": "stream",
          "name": "stdout",
          "text": [
            "12.34 <class 'float'>\n"
          ]
        }
      ]
    },
    {
      "cell_type": "code",
      "source": [
        "print(4.2, type(4.2))"
      ],
      "metadata": {
        "id": "-pWmu4vYuQr_",
        "colab": {
          "base_uri": "https://localhost:8080/"
        },
        "outputId": "aa30eac1-3484-4016-bab7-140373cf288c"
      },
      "execution_count": null,
      "outputs": [
        {
          "output_type": "stream",
          "name": "stdout",
          "text": [
            "4.2 <class 'float'>\n"
          ]
        }
      ]
    },
    {
      "cell_type": "markdown",
      "source": [
        "*Booleanos*"
      ],
      "metadata": {
        "id": "E-B3vay6uY4Y"
      }
    },
    {
      "cell_type": "markdown",
      "source": [
        "Por fim, temos os valores booleanos, que são valores lógicos. São Verdadeiros (TRUE) ou Falsos (FALSE). Geralmente utilizados em comparações"
      ],
      "metadata": {
        "id": "SmLihiLhubAc"
      }
    },
    {
      "cell_type": "code",
      "source": [
        "booleano = (10==10)\n",
        "\n",
        "print(booleano, type(booleano))"
      ],
      "metadata": {
        "id": "fWx2o2FpuYdy",
        "colab": {
          "base_uri": "https://localhost:8080/"
        },
        "outputId": "d5abd51f-1874-42dd-9d8b-debf5287a98c"
      },
      "execution_count": 39,
      "outputs": [
        {
          "output_type": "stream",
          "name": "stdout",
          "text": [
            "True <class 'bool'>\n"
          ]
        }
      ]
    },
    {
      "cell_type": "code",
      "source": [
        "booleano2 = (0==1)\n",
        "\n",
        "print(booleano2, type(booleano2))"
      ],
      "metadata": {
        "id": "ufQea5zGu9Pq",
        "colab": {
          "base_uri": "https://localhost:8080/"
        },
        "outputId": "ab5121a6-d851-4f91-b3f6-b59e585e212b"
      },
      "execution_count": 40,
      "outputs": [
        {
          "output_type": "stream",
          "name": "stdout",
          "text": [
            "False <class 'bool'>\n"
          ]
        }
      ]
    },
    {
      "cell_type": "code",
      "source": [
        "booleano3 = (0==0)\n",
        "\n",
        "print(booleano3)"
      ],
      "metadata": {
        "id": "DHD3jKHgvDmJ",
        "colab": {
          "base_uri": "https://localhost:8080/"
        },
        "outputId": "51f500ed-ed5d-4d43-d3e6-07d6b3f64bae"
      },
      "execution_count": 41,
      "outputs": [
        {
          "output_type": "stream",
          "name": "stdout",
          "text": [
            "True\n"
          ]
        }
      ]
    },
    {
      "cell_type": "markdown",
      "source": [
        "Listas vazias são consideradas falsas"
      ],
      "metadata": {
        "id": "9op1-Kxbu0SP"
      }
    },
    {
      "cell_type": "code",
      "source": [
        "print(bool(''))"
      ],
      "metadata": {
        "id": "tBfTxqsZuuhE",
        "colab": {
          "base_uri": "https://localhost:8080/"
        },
        "outputId": "19e3ba71-1622-4f2c-b09c-afb4659773f1"
      },
      "execution_count": null,
      "outputs": [
        {
          "output_type": "stream",
          "name": "stdout",
          "text": [
            "False\n"
          ]
        }
      ]
    },
    {
      "cell_type": "markdown",
      "source": [
        "#### Exercícios"
      ],
      "metadata": {
        "id": "Eg0C-4DtbABK"
      }
    },
    {
      "cell_type": "markdown",
      "source": [
        "1 - Crie uma variável str e a imprima junto do seu tipo"
      ],
      "metadata": {
        "id": "0NqSdc_xbDta"
      }
    },
    {
      "cell_type": "code",
      "source": [
        "string = 'aaaaaaa'\n",
        "print(string, type(string))"
      ],
      "metadata": {
        "id": "x9Sih0rLbBqQ",
        "colab": {
          "base_uri": "https://localhost:8080/"
        },
        "outputId": "f0ec6600-57b4-4c0f-ca68-cd20cc71e47c"
      },
      "execution_count": 42,
      "outputs": [
        {
          "output_type": "stream",
          "name": "stdout",
          "text": [
            "aaaaaaa <class 'str'>\n"
          ]
        }
      ]
    },
    {
      "cell_type": "markdown",
      "source": [
        "2 - Peça ao usuário que digite sua idade e verifique o tipo de dado resultante desse input."
      ],
      "metadata": {
        "id": "PaCrZI_RbRoA"
      }
    },
    {
      "cell_type": "code",
      "source": [
        "idade = int(input(\"Digite a sua idade: \"))\n",
        "print(idade, type(idade))"
      ],
      "metadata": {
        "id": "9IJe_xRzbaZ0",
        "colab": {
          "base_uri": "https://localhost:8080/"
        },
        "outputId": "638dc71b-9fe0-4f45-a2a3-e1ebca5cce2c"
      },
      "execution_count": null,
      "outputs": [
        {
          "output_type": "stream",
          "name": "stdout",
          "text": [
            "Digite a sua idade: 23\n",
            "23 <class 'int'>\n"
          ]
        }
      ]
    },
    {
      "cell_type": "markdown",
      "source": [
        "3 - Qual o tipo das seguintes variáveis?"
      ],
      "metadata": {
        "id": "fpxusUryboBA"
      }
    },
    {
      "cell_type": "code",
      "source": [
        "# A) String\n",
        "\n",
        "x = \"12.52\""
      ],
      "metadata": {
        "id": "fj2WSq43blbu"
      },
      "execution_count": null,
      "outputs": []
    },
    {
      "cell_type": "code",
      "source": [
        "# B) String\n",
        "\n",
        "y = \"José tem 53 anos\""
      ],
      "metadata": {
        "id": "XXsOHZ9Rb5QR"
      },
      "execution_count": null,
      "outputs": []
    },
    {
      "cell_type": "code",
      "source": [
        "# C) Float\n",
        "\n",
        "z = 17.07"
      ],
      "metadata": {
        "id": "UH9mrQNlb8Xa"
      },
      "execution_count": null,
      "outputs": []
    },
    {
      "cell_type": "code",
      "source": [
        "# D) Int\n",
        "\n",
        "a = 3"
      ],
      "metadata": {
        "id": "hsxnt6K7cBbX"
      },
      "execution_count": null,
      "outputs": []
    },
    {
      "cell_type": "markdown",
      "source": [
        "4 - Crie uma variável de tipo booleano (imprima o tipo da variável)"
      ],
      "metadata": {
        "id": "AtuJrvxlbk0u"
      }
    },
    {
      "cell_type": "code",
      "source": [
        "bu = 40!=41\n",
        "print(bu, type(bu))"
      ],
      "metadata": {
        "id": "Ccnas4qfcVI9",
        "colab": {
          "base_uri": "https://localhost:8080/"
        },
        "outputId": "4a2e80b7-e5d9-4b31-f0e2-cf04e8d6ff49"
      },
      "execution_count": 43,
      "outputs": [
        {
          "output_type": "stream",
          "name": "stdout",
          "text": [
            "True <class 'bool'>\n"
          ]
        }
      ]
    },
    {
      "cell_type": "markdown",
      "source": [
        "## 7. Operações Aritméticas e Conversões"
      ],
      "metadata": {
        "id": "g3CgPFcVvMbm"
      }
    },
    {
      "cell_type": "markdown",
      "source": [
        "Você também pode utilizar o python como uma calculadora. Nesta seção, vamos mostrar as operações mais comuns."
      ],
      "metadata": {
        "id": "qwkI4bRbvTic"
      }
    },
    {
      "cell_type": "markdown",
      "source": [
        "*Operadores Aritméticos*\n",
        "\n",
        "Soma -> +\n",
        "\n",
        "Subtração -> -\n",
        "\n",
        "Multiplicação -> *\n",
        "\n",
        "Divisão -> /\n",
        "\n",
        "Divisão Inteira (resultado arredondado) -> //\n",
        "\n",
        "Potenciação (elevar à) -> **\n",
        "\n",
        "% -> Resto da divisão de um número por outro\n"
      ],
      "metadata": {
        "id": "4c_httrfvbpM"
      }
    },
    {
      "cell_type": "code",
      "source": [
        "# Vamos começar pelos números inteiros\n",
        "\n",
        "soma = 1 + 1\n",
        "\n",
        "print(soma)"
      ],
      "metadata": {
        "id": "AGGWAf34vbLe",
        "colab": {
          "base_uri": "https://localhost:8080/"
        },
        "outputId": "6a23075f-1250-4f68-8340-f2c82a420b03"
      },
      "execution_count": 44,
      "outputs": [
        {
          "output_type": "stream",
          "name": "stdout",
          "text": [
            "2\n"
          ]
        }
      ]
    },
    {
      "cell_type": "code",
      "source": [
        "mult = 7*8\n",
        "\n",
        "mult # uma forma alternativa de imprimir uma variável é colocá-la diretamente."
      ],
      "metadata": {
        "id": "u8BNPlpnv_7s",
        "colab": {
          "base_uri": "https://localhost:8080/"
        },
        "outputId": "36a3686c-9665-4bac-9917-70d193fa06d7"
      },
      "execution_count": 45,
      "outputs": [
        {
          "output_type": "execute_result",
          "data": {
            "text/plain": [
              "56"
            ]
          },
          "metadata": {},
          "execution_count": 45
        }
      ]
    },
    {
      "cell_type": "code",
      "source": [
        "sub = 50-10\n",
        "\n",
        "sub"
      ],
      "metadata": {
        "id": "H-hBUclbwHgP",
        "colab": {
          "base_uri": "https://localhost:8080/"
        },
        "outputId": "c3de9350-d746-4fdb-c2ef-feaaf0d617ae"
      },
      "execution_count": 46,
      "outputs": [
        {
          "output_type": "execute_result",
          "data": {
            "text/plain": [
              "40"
            ]
          },
          "metadata": {},
          "execution_count": 46
        }
      ]
    },
    {
      "cell_type": "code",
      "source": [
        "div = 64/10\n",
        "\n",
        "print(div, type(div))"
      ],
      "metadata": {
        "id": "BJhMFNi6wKaU",
        "colab": {
          "base_uri": "https://localhost:8080/"
        },
        "outputId": "6cea53c1-bdb0-4852-984d-4836130b24f6"
      },
      "execution_count": 47,
      "outputs": [
        {
          "output_type": "stream",
          "name": "stdout",
          "text": [
            "6.4 <class 'float'>\n"
          ]
        }
      ]
    },
    {
      "cell_type": "code",
      "source": [
        "pot = 2**4\n",
        "\n",
        "print(pot, type(pot))"
      ],
      "metadata": {
        "id": "bcGqk7qSyQ6j",
        "colab": {
          "base_uri": "https://localhost:8080/"
        },
        "outputId": "13b0a8fb-1a02-43b7-b494-130c793f5479"
      },
      "execution_count": 48,
      "outputs": [
        {
          "output_type": "stream",
          "name": "stdout",
          "text": [
            "16 <class 'int'>\n"
          ]
        }
      ]
    },
    {
      "cell_type": "markdown",
      "source": [
        "Operações aritméticas também funcionam com strings. Porém, com uma lógica diferente. Você pode multiplicar uma string por um valor inteiro"
      ],
      "metadata": {
        "id": "_PQxEvTEwTMu"
      }
    },
    {
      "cell_type": "code",
      "source": [
        "print(\"Olá\"*10)"
      ],
      "metadata": {
        "id": "iXfa7BbswRW3",
        "colab": {
          "base_uri": "https://localhost:8080/"
        },
        "outputId": "9d19725e-99d4-48ee-ca66-04a3d81aa8c3"
      },
      "execution_count": null,
      "outputs": [
        {
          "output_type": "stream",
          "name": "stdout",
          "text": [
            "OláOláOláOláOláOláOláOláOláOlá\n"
          ]
        }
      ]
    },
    {
      "cell_type": "markdown",
      "source": [
        "Você pode concatenar duas strings"
      ],
      "metadata": {
        "id": "2vULYwSnwj3g"
      }
    },
    {
      "cell_type": "code",
      "source": [
        "x = \"olá\"\n",
        "y = \" mundo\"\n",
        "\n",
        "print(x+y)"
      ],
      "metadata": {
        "id": "UyP9vsP5wpYt",
        "colab": {
          "base_uri": "https://localhost:8080/"
        },
        "outputId": "be381e0b-22d3-4b6b-d232-6108720e3d6f"
      },
      "execution_count": 49,
      "outputs": [
        {
          "output_type": "stream",
          "name": "stdout",
          "text": [
            "olá mundo\n"
          ]
        }
      ]
    },
    {
      "cell_type": "markdown",
      "source": [
        "No entanto, não é possível multiplicar uma string por outra"
      ],
      "metadata": {
        "id": "m9kyPQGGwg23"
      }
    },
    {
      "cell_type": "code",
      "source": [
        "print(\"Olá\"*\"Mundo\")"
      ],
      "metadata": {
        "id": "H3-2QebIwcHg",
        "colab": {
          "base_uri": "https://localhost:8080/",
          "height": 141
        },
        "outputId": "c447c284-0179-4635-ad74-71a7e03ea8d3"
      },
      "execution_count": 50,
      "outputs": [
        {
          "output_type": "error",
          "ename": "TypeError",
          "evalue": "can't multiply sequence by non-int of type 'str'",
          "traceback": [
            "\u001b[0;31m---------------------------------------------------------------------------\u001b[0m",
            "\u001b[0;31mTypeError\u001b[0m                                 Traceback (most recent call last)",
            "\u001b[0;32m<ipython-input-50-9cd789abaf6f>\u001b[0m in \u001b[0;36m<cell line: 1>\u001b[0;34m()\u001b[0m\n\u001b[0;32m----> 1\u001b[0;31m \u001b[0mprint\u001b[0m\u001b[0;34m(\u001b[0m\u001b[0;34m\"Olá\"\u001b[0m\u001b[0;34m*\u001b[0m\u001b[0;34m\"Mundo\"\u001b[0m\u001b[0;34m)\u001b[0m\u001b[0;34m\u001b[0m\u001b[0;34m\u001b[0m\u001b[0m\n\u001b[0m",
            "\u001b[0;31mTypeError\u001b[0m: can't multiply sequence by non-int of type 'str'"
          ]
        }
      ]
    },
    {
      "cell_type": "markdown",
      "source": [
        "Nem somar uma string e um int"
      ],
      "metadata": {
        "id": "TJ0w6Ed2w0UP"
      }
    },
    {
      "cell_type": "code",
      "source": [
        "print(5+\"10\")"
      ],
      "metadata": {
        "id": "1YZYJuKywxQv",
        "colab": {
          "base_uri": "https://localhost:8080/",
          "height": 141
        },
        "outputId": "ab4f2a84-7d60-40c2-8f42-cd1d0f96e8ac"
      },
      "execution_count": 51,
      "outputs": [
        {
          "output_type": "error",
          "ename": "TypeError",
          "evalue": "unsupported operand type(s) for +: 'int' and 'str'",
          "traceback": [
            "\u001b[0;31m---------------------------------------------------------------------------\u001b[0m",
            "\u001b[0;31mTypeError\u001b[0m                                 Traceback (most recent call last)",
            "\u001b[0;32m<ipython-input-51-d62e01d11195>\u001b[0m in \u001b[0;36m<cell line: 1>\u001b[0;34m()\u001b[0m\n\u001b[0;32m----> 1\u001b[0;31m \u001b[0mprint\u001b[0m\u001b[0;34m(\u001b[0m\u001b[0;36m5\u001b[0m\u001b[0;34m+\u001b[0m\u001b[0;34m\"10\"\u001b[0m\u001b[0;34m)\u001b[0m\u001b[0;34m\u001b[0m\u001b[0;34m\u001b[0m\u001b[0m\n\u001b[0m",
            "\u001b[0;31mTypeError\u001b[0m: unsupported operand type(s) for +: 'int' and 'str'"
          ]
        }
      ]
    },
    {
      "cell_type": "markdown",
      "source": [
        "Operações funcionam da mesma forma que os int para os floats"
      ],
      "metadata": {
        "id": "NP4PeDwYw8Ts"
      }
    },
    {
      "cell_type": "code",
      "source": [
        "print(5.4*6.7)"
      ],
      "metadata": {
        "id": "b_BUEuXqw4jj",
        "colab": {
          "base_uri": "https://localhost:8080/"
        },
        "outputId": "e2cc7da3-2d11-4337-d911-0016817bc105"
      },
      "execution_count": 52,
      "outputs": [
        {
          "output_type": "stream",
          "name": "stdout",
          "text": [
            "36.18000000000001\n"
          ]
        }
      ]
    },
    {
      "cell_type": "code",
      "source": [
        "# Se quiser arredondar o valor final\n",
        "\n",
        "print(round((5.4*6.7), 2))"
      ],
      "metadata": {
        "id": "gzgyp6GtxCpn",
        "colab": {
          "base_uri": "https://localhost:8080/"
        },
        "outputId": "6a3d5332-d4be-4fdb-c76a-5857719f77e7"
      },
      "execution_count": 53,
      "outputs": [
        {
          "output_type": "stream",
          "name": "stdout",
          "text": [
            "36.18\n"
          ]
        }
      ]
    },
    {
      "cell_type": "code",
      "source": [
        "# Numa maneira de mais fácil visualização\n",
        "\n",
        "mult2 = 5.4*6.7\n",
        "\n",
        "print(round(mult2, 2))"
      ],
      "metadata": {
        "id": "YQo0TSRxxKLk",
        "colab": {
          "base_uri": "https://localhost:8080/"
        },
        "outputId": "a5979f19-6a52-41b8-8df4-1850b2ae2876"
      },
      "execution_count": 54,
      "outputs": [
        {
          "output_type": "stream",
          "name": "stdout",
          "text": [
            "36.18\n"
          ]
        }
      ]
    },
    {
      "cell_type": "markdown",
      "source": [
        "Se tiver dúvidas sobre algum comando ou código, lembre-se de sempre consultar a [documentação](https://docs.python.org/pt-br/3/library/functions.html?highlight=round#round) do python."
      ],
      "metadata": {
        "id": "GHYL7BrmxT18"
      }
    },
    {
      "cell_type": "markdown",
      "source": [
        "*Conversões*"
      ],
      "metadata": {
        "id": "vAQc9CLyxcET"
      }
    },
    {
      "cell_type": "markdown",
      "source": [
        "Para converter uma variável de um tipo para outro, você pode utilizar alguns comandos. Se, por exemplo, você tiver um número em formato de texto, pode transformá-lo em int pelo seguinte código"
      ],
      "metadata": {
        "id": "1Io34hVRxeia"
      }
    },
    {
      "cell_type": "code",
      "source": [
        "# str para int\n",
        "\n",
        "valor = \"57\"\n",
        "\n",
        "numerico = int(valor)\n",
        "\n",
        "print(numerico, type(numerico))\n"
      ],
      "metadata": {
        "id": "gsigeAgWxeKL",
        "colab": {
          "base_uri": "https://localhost:8080/"
        },
        "outputId": "5c25a280-2b7d-4fda-fc69-a62b25042dec"
      },
      "execution_count": 55,
      "outputs": [
        {
          "output_type": "stream",
          "name": "stdout",
          "text": [
            "57 <class 'int'>\n"
          ]
        }
      ]
    },
    {
      "cell_type": "markdown",
      "source": [
        "Outras conversões são possíveis"
      ],
      "metadata": {
        "id": "IeGMj2rbx_p4"
      }
    },
    {
      "cell_type": "code",
      "source": [
        "#float to int\n",
        "float1 = 57.8\n",
        "\n",
        "inteiro = int(float1)\n",
        "\n",
        "print(inteiro, type(inteiro))"
      ],
      "metadata": {
        "id": "XJoW5nJ-yBkf",
        "colab": {
          "base_uri": "https://localhost:8080/"
        },
        "outputId": "f2a425b8-2619-4465-e361-3b3e50bb286e"
      },
      "execution_count": 56,
      "outputs": [
        {
          "output_type": "stream",
          "name": "stdout",
          "text": [
            "57 <class 'int'>\n"
          ]
        }
      ]
    },
    {
      "cell_type": "code",
      "source": [
        "# int para float\n",
        "\n",
        "inteiro2 = 6\n",
        "\n",
        "float2 = float(inteiro2)\n",
        "\n",
        "print(float2, type(float2))\n",
        "\n"
      ],
      "metadata": {
        "id": "H0lLbhwHyMaH",
        "colab": {
          "base_uri": "https://localhost:8080/"
        },
        "outputId": "0bd46441-0159-4abc-ba59-65a857b46b4a"
      },
      "execution_count": 57,
      "outputs": [
        {
          "output_type": "stream",
          "name": "stdout",
          "text": [
            "6.0 <class 'float'>\n"
          ]
        }
      ]
    },
    {
      "cell_type": "markdown",
      "source": [
        "Também pode converter de número para texto (str)"
      ],
      "metadata": {
        "id": "kWTevuTPynC0"
      }
    },
    {
      "cell_type": "code",
      "source": [
        "inteiro3 = 12356\n",
        "\n",
        "string1 = str(inteiro3)\n",
        "\n",
        "print(string1, type(string1))"
      ],
      "metadata": {
        "id": "3BT9HCw3ymgB",
        "colab": {
          "base_uri": "https://localhost:8080/"
        },
        "outputId": "203cf198-407e-49cf-c0c7-2211f771dade"
      },
      "execution_count": 65,
      "outputs": [
        {
          "output_type": "stream",
          "name": "stdout",
          "text": [
            "12356 <class 'str'>\n"
          ]
        }
      ]
    },
    {
      "cell_type": "code",
      "source": [
        "float3 = 27.805432054032\n",
        "\n",
        "string2 = str(float3)\n",
        "\n",
        "print(string2, type(string2))"
      ],
      "metadata": {
        "id": "fxIFsmzYyq22",
        "colab": {
          "base_uri": "https://localhost:8080/"
        },
        "outputId": "25e25760-01bb-4b64-cff1-eb1f986cbc20"
      },
      "execution_count": 66,
      "outputs": [
        {
          "output_type": "stream",
          "name": "stdout",
          "text": [
            "27.805432054032 <class 'str'>\n"
          ]
        }
      ]
    },
    {
      "cell_type": "markdown",
      "source": [
        "#### Exercícios"
      ],
      "metadata": {
        "id": "jfmSYA_Sc63e"
      }
    },
    {
      "cell_type": "markdown",
      "source": [
        "1 - Peça dois números ao usuário e faça a soma destes"
      ],
      "metadata": {
        "id": "_Y-5gxtCc8dB"
      }
    },
    {
      "cell_type": "code",
      "source": [
        "n1 = int(input('Diga o n1: '))\n",
        "n2 = int(input('Diga o n2: '))\n",
        "soma = n1 + n2\n",
        "print(\"A soma do n1 com o n2 é igual a\", soma)"
      ],
      "metadata": {
        "id": "p1qQ8__ec8Ig",
        "colab": {
          "base_uri": "https://localhost:8080/"
        },
        "outputId": "3751eea5-3edd-47a6-e29c-cab7c5e64f9f"
      },
      "execution_count": 69,
      "outputs": [
        {
          "output_type": "stream",
          "name": "stdout",
          "text": [
            "Diga o n1: 2\n",
            "Diga o n2: 3\n",
            "A soma do n1 com o n2 é igual a 5\n"
          ]
        }
      ]
    },
    {
      "cell_type": "markdown",
      "source": [
        "2 - Imprima o seguinte caractere 50 vezes"
      ],
      "metadata": {
        "id": "fYewz2OodCGu"
      }
    },
    {
      "cell_type": "code",
      "source": [
        "caractere = \"#\"*50\n",
        "print(caractere)"
      ],
      "metadata": {
        "id": "4TslyPVodu2K",
        "colab": {
          "base_uri": "https://localhost:8080/"
        },
        "outputId": "b5275a7d-ce9f-45bc-cc4c-259625feaad0"
      },
      "execution_count": null,
      "outputs": [
        {
          "output_type": "stream",
          "name": "stdout",
          "text": [
            "##################################################\n"
          ]
        }
      ]
    },
    {
      "cell_type": "markdown",
      "source": [
        "3 - Peça dois números ao usuário e calcule o resultado da divisão destes"
      ],
      "metadata": {
        "id": "j1Wkz9qWd1cb"
      }
    },
    {
      "cell_type": "code",
      "source": [
        "n1 = int(input('Diga o n1: '))\n",
        "n2 = int(input('Diga o n2: '))\n",
        "div = n1 / n2\n",
        "print(int(div))"
      ],
      "metadata": {
        "id": "BVrd-fX2d1Ic",
        "colab": {
          "base_uri": "https://localhost:8080/"
        },
        "outputId": "882b67a7-5e69-4da6-aeca-7ab3027c41fa"
      },
      "execution_count": null,
      "outputs": [
        {
          "output_type": "stream",
          "name": "stdout",
          "text": [
            "Diga o n1: 2\n",
            "Diga o n2: 1\n",
            "2\n"
          ]
        }
      ]
    },
    {
      "cell_type": "markdown",
      "source": [
        "4 - Peça dois números ao usuário e calcule o resultado da potência destes"
      ],
      "metadata": {
        "id": "x0tEjDPheBQb"
      }
    },
    {
      "cell_type": "code",
      "source": [
        "n1 = int(input('Diga o n1: '))\n",
        "n2 = int(input('Diga o n2: '))\n",
        "pot = n1 ** n2\n",
        "print(int(pot))"
      ],
      "metadata": {
        "id": "lYX4OYjYeJnh",
        "colab": {
          "base_uri": "https://localhost:8080/"
        },
        "outputId": "561b0010-92f6-4d1c-cbbc-1aeac096d970"
      },
      "execution_count": null,
      "outputs": [
        {
          "output_type": "stream",
          "name": "stdout",
          "text": [
            "Diga o n1: 5\n",
            "Diga o n2: 3\n",
            "125\n"
          ]
        }
      ]
    },
    {
      "cell_type": "markdown",
      "source": [
        "5 - Transforme o seguinte str em float e calcule o seu valor quadrado, apresentando o valor final em no máximo duas casas decimais"
      ],
      "metadata": {
        "id": "tAMCbuuXeJ8i"
      }
    },
    {
      "cell_type": "code",
      "source": [
        "numstr = \"42.24\"\n",
        "numfloat = float(numstr)\n",
        "print(round(numfloat**2, 2))"
      ],
      "metadata": {
        "id": "X5AWoxVMfGDG",
        "colab": {
          "base_uri": "https://localhost:8080/"
        },
        "outputId": "0370bf74-42f7-4806-b771-07ca3b732ccd"
      },
      "execution_count": null,
      "outputs": [
        {
          "output_type": "stream",
          "name": "stdout",
          "text": [
            "1784.22\n"
          ]
        }
      ]
    },
    {
      "cell_type": "markdown",
      "source": [
        "## 8. Formatação de strings"
      ],
      "metadata": {
        "id": "uj_dozW01t4Z"
      }
    },
    {
      "cell_type": "markdown",
      "source": [
        "Digamos que alguém te peça para jogar todas essas informações em uma única frase. Há alguns modos de formatar a mesma informação."
      ],
      "metadata": {
        "id": "UP7fQdtE1Lm1"
      }
    },
    {
      "cell_type": "code",
      "source": [
        "# Básico\n",
        "nome = 'João'\n",
        "idade = 20\n",
        "altura = 1.75\n",
        "ano_nascimento = 2024\n",
        "curso = 'Machine Learning'\n",
        "\n",
        "print(nome, \"tem\", idade, \"anos e\", altura, \"m de altura.\", \"Nascido em\", ano_nascimento, \",\", \"atualmente está no curso de\", curso)"
      ],
      "metadata": {
        "id": "eQSxfLBc1SZH",
        "colab": {
          "base_uri": "https://localhost:8080/"
        },
        "outputId": "31a48a82-3220-4939-cfcb-2b710c43bef4"
      },
      "execution_count": 71,
      "outputs": [
        {
          "output_type": "stream",
          "name": "stdout",
          "text": [
            "João tem 20 anos e 1.75 m de altura. Nascido em 2024 , atualmente está no curso de Machine Learning\n"
          ]
        }
      ]
    },
    {
      "cell_type": "markdown",
      "source": [
        "No entanto, essa forma é um pouco truncada e pode dificultar a leitura do código. Um modo alternativo é usar f-strings"
      ],
      "metadata": {
        "id": "C_ixyRCG10lE"
      }
    },
    {
      "cell_type": "code",
      "source": [
        "# f-string\n",
        "\n",
        "print(f'{nome} tem {idade} anos e {altura}m de altura. Nascido em {ano_nascimento}, atualmente está no curso de {curso}')"
      ],
      "metadata": {
        "id": "j2upiFEP1qhO",
        "colab": {
          "base_uri": "https://localhost:8080/"
        },
        "outputId": "6c9a7d70-f732-49b4-d4c1-bfbc8ec3e237"
      },
      "execution_count": 72,
      "outputs": [
        {
          "output_type": "stream",
          "name": "stdout",
          "text": [
            "João tem 20 anos e 1.75m de altura. Nascido em 2024, atualmente está no curso de Machine Learning\n"
          ]
        }
      ]
    },
    {
      "cell_type": "markdown",
      "source": [
        "Desse modo, tanto a escrita quanto a leitura do código são mais fluídas. Outra vantagem é a possibilidade de arredondar os valores dentro do print"
      ],
      "metadata": {
        "id": "82q9YtGT2PxK"
      }
    },
    {
      "cell_type": "code",
      "source": [
        "bolsa = 875.164\n",
        "\n",
        "print(f'{nome} recebe R${bolsa:.2f} como auxílio moradia')"
      ],
      "metadata": {
        "id": "Bgedd0iV2Gdd",
        "colab": {
          "base_uri": "https://localhost:8080/"
        },
        "outputId": "ce4c7d66-fac7-4b02-f51b-04c1f9c14ab7"
      },
      "execution_count": 73,
      "outputs": [
        {
          "output_type": "stream",
          "name": "stdout",
          "text": [
            "João recebe R$875.16 como auxílio moradia\n"
          ]
        }
      ]
    },
    {
      "cell_type": "markdown",
      "source": [
        "Outra possibilidade é utilizar chaves vazias e indicar as variáveis e se vai arredondar ou não ao final utilizando \".format\""
      ],
      "metadata": {
        "id": "5Mu7zXGz2k6s"
      }
    },
    {
      "cell_type": "code",
      "source": [
        "print('{} recebe R${} como auxílio moradia'.format(nome, round(bolsa,2)))"
      ],
      "metadata": {
        "id": "gHaacpDK2rR8",
        "outputId": "cf359fa1-5588-42e0-ebfd-f340351543ee",
        "colab": {
          "base_uri": "https://localhost:8080/"
        }
      },
      "execution_count": 74,
      "outputs": [
        {
          "output_type": "stream",
          "name": "stdout",
          "text": [
            "João recebe R$875.16 como auxílio moradia\n"
          ]
        }
      ]
    },
    {
      "cell_type": "markdown",
      "source": [
        "Ao utilizar esse método, a ordem das variáveis tem que ser exatamente as dos colchetes. Para evitar problemas, pode utilizar algumas indicações"
      ],
      "metadata": {
        "id": "hGOk93Ds24Je"
      }
    },
    {
      "cell_type": "code",
      "source": [
        "print('{n} recebe R${b} como auxílio moradia'.format(b = round(bolsa,2), n = nome))"
      ],
      "metadata": {
        "id": "MT_7wWoN23XD",
        "colab": {
          "base_uri": "https://localhost:8080/"
        },
        "outputId": "b874c6fd-10a8-4ab4-96f3-a5b21388cd72"
      },
      "execution_count": 75,
      "outputs": [
        {
          "output_type": "stream",
          "name": "stdout",
          "text": [
            "João recebe R$875.16 como auxílio moradia\n"
          ]
        }
      ]
    },
    {
      "cell_type": "markdown",
      "source": [
        "#### Exercícios"
      ],
      "metadata": {
        "id": "ZqR6aNXmgz0S"
      }
    },
    {
      "cell_type": "markdown",
      "source": [
        "1 - Imprima as seguintes informações de um aluno utilizando o modo \"básico\" estabelecido acima."
      ],
      "metadata": {
        "id": "o5OoKPMUhJOz"
      }
    },
    {
      "cell_type": "code",
      "source": [
        "# Informações do aluno\n",
        "\n",
        "nome = \"Matheus\"\n",
        "idade = 23\n",
        "ano_nascimento = 2024 - idade\n",
        "curso = \"Química\"\n",
        "bolsa = 907.22435\n"
      ],
      "metadata": {
        "id": "11CTqvWqgzl3"
      },
      "execution_count": 83,
      "outputs": []
    },
    {
      "cell_type": "code",
      "source": [
        "# Insira seu código aqui\n",
        "print(nome, 'tem', idade, 'anos de idade e nasceu em', ano_nascimento, '. Atualmente é estudante do curso de', curso, 'e recebe uma bolsa de R$', bolsa, '.')"
      ],
      "metadata": {
        "id": "Q_p_YdYXhvJc",
        "colab": {
          "base_uri": "https://localhost:8080/"
        },
        "outputId": "e4521bcc-8511-426e-f2c6-a42f41101e69"
      },
      "execution_count": 78,
      "outputs": [
        {
          "output_type": "stream",
          "name": "stdout",
          "text": [
            "Matheus tem 23 anos de idade e nasceu em 2000 . Atualmente é estudante do curso de Química e recebe uma bolsa de R$ 907.22435 .\n"
          ]
        }
      ]
    },
    {
      "cell_type": "markdown",
      "source": [
        "2 - Imprima as mesmas informações usando f strings"
      ],
      "metadata": {
        "id": "bjPndBSihwqk"
      }
    },
    {
      "cell_type": "code",
      "source": [
        "print(f'{nome} tem {idade} anos de idade e nasceu em {ano_nascimento}. Atualmente é estudante do curso de {curso} e recebe uma bolsa de R$ {round(bolsa, 2)}.')"
      ],
      "metadata": {
        "id": "-k7FcK_LhR5z",
        "colab": {
          "base_uri": "https://localhost:8080/"
        },
        "outputId": "107e364b-0f62-4012-a88c-dad35a921df5"
      },
      "execution_count": 81,
      "outputs": [
        {
          "output_type": "stream",
          "name": "stdout",
          "text": [
            "Matheus tem 23 anos de idade e nasceu em 2000. Atualmente é estudante do curso de Química e recebe uma bolsa de R$ 907.22.\n"
          ]
        }
      ]
    },
    {
      "cell_type": "markdown",
      "source": [
        "3 - Imprima as mesmas informações usando chaves"
      ],
      "metadata": {
        "id": "IHNRnR0hh3Ee"
      }
    },
    {
      "cell_type": "code",
      "source": [
        "print('{a} tem {b} anos de idade e nasceu em {c}. Atualmente é estudante do curso de {d} e recebe uma bolsa de R$ {e}.'.format(a = nome,\n",
        "                                                                                                                               b = idade,\n",
        "                                                                                                                               c = ano_nascimento,\n",
        "                                                                                                                               d = curso,\n",
        "                                                                                                                               e = round(bolsa, 2)\n",
        "                                                                                                                                )\n",
        ")"
      ],
      "metadata": {
        "id": "34SlUTQ8iAQ4",
        "colab": {
          "base_uri": "https://localhost:8080/"
        },
        "outputId": "6d29b3f4-bd9c-4435-8cbb-fa642e29737d"
      },
      "execution_count": 88,
      "outputs": [
        {
          "output_type": "stream",
          "name": "stdout",
          "text": [
            "Matheus tem 23 anos de idade e nasceu em 2001. Atualmente é estudante do curso de Química e recebe uma bolsa de R$ 907.22.\n"
          ]
        }
      ]
    },
    {
      "cell_type": "markdown",
      "source": [
        "4 - Por meio das f strings, imprima o valor da bolsa do aluno usando apenas uma casa decimal"
      ],
      "metadata": {
        "id": "w5vaGVk6h_4z"
      }
    },
    {
      "cell_type": "code",
      "source": [
        "print(f'A bolsa de {nome} é de R$ {round(bolsa, 2)}')"
      ],
      "metadata": {
        "id": "Jqrc9kQLiHMX",
        "colab": {
          "base_uri": "https://localhost:8080/"
        },
        "outputId": "d3266afd-9482-4eaf-9bbe-3bb50e2816a7"
      },
      "execution_count": 89,
      "outputs": [
        {
          "output_type": "stream",
          "name": "stdout",
          "text": [
            "A bolsa de Matheus é de R$ 907.22\n"
          ]
        }
      ]
    },
    {
      "cell_type": "markdown",
      "source": [
        "5 - Peça a idade, curso e nome de um usuário e imprima essas informações utilizando f-strings"
      ],
      "metadata": {
        "id": "Tp-0DEUnicDy"
      }
    },
    {
      "cell_type": "code",
      "source": [
        "nome = str(input('Digite aqui seu nome: '))\n",
        "idade = int(input('Agora diga a sua idade: '))\n",
        "curso = str(input('Por fim, me informe seu curso: '))\n",
        "\n",
        "print(f'Obrigado, {nome}! Atualmente você tem {idade} e é estudante de {curso}.')"
      ],
      "metadata": {
        "id": "82XEF5diig-w",
        "colab": {
          "base_uri": "https://localhost:8080/"
        },
        "outputId": "117a0836-7608-4424-b9e1-5db46204961d"
      },
      "execution_count": 93,
      "outputs": [
        {
          "output_type": "stream",
          "name": "stdout",
          "text": [
            "Digite aqui seu nome: Maria\n",
            "Agora diga a sua idade: 20\n",
            "Por fim, me informe seu curso: Computação\n",
            "Obrigado, Maria! Atualmente você tem 20 e é estudante de Computação.\n"
          ]
        }
      ]
    },
    {
      "cell_type": "markdown",
      "source": [
        "## 9. Estruturas de Dados em Python"
      ],
      "metadata": {
        "id": "Lu9tjh5YmKuc"
      }
    },
    {
      "cell_type": "markdown",
      "source": [
        "*Listas*: Uma lista é uma coleção ordenada e mutável de elementos. Os elementos de uma lista podem ser de diferentes tipos, como strings, inteiros, booleanos e até outras listas. As listas são representadas entre colchetes e os elementos são separados por vírgulas. Exemplo: minha_lista = [1, 2, 'três', True].\n",
        "\n",
        "*Tuplas*: Uma tupla é semelhante a uma lista, mas é imutável, o que significa que não pode ser modificada após a criação. As tuplas são representadas entre parênteses e os elementos são separados por vírgulas. Exemplo: minha_tupla = (1, 2, 'três', True).\n",
        "\n",
        "*Dicionários*: Um dicionário é uma coleção de pares de chave-valor, onde cada valor é acessado por uma chave exclusiva. Os dicionários são representados entre chaves e cada par de chave-valor é separado por vírgulas. Exemplo: meu_dicionario = {'nome': 'João', 'idade': 30, 'cidade': 'São Paulo'}.\n",
        "\n",
        "*Conjuntos*: Um conjunto é uma coleção não ordenada e mutável de elementos exclusivos. Os conjuntos são representados entre chaves e os elementos são separados por vírgulas. Exemplo: meu_conjunto = {1, 2, 3, 4, 5}."
      ],
      "metadata": {
        "id": "ikqvqIuSmeBo"
      }
    },
    {
      "cell_type": "code",
      "source": [
        "lista = [1, 2, '3']\n",
        "type(lista)"
      ],
      "metadata": {
        "colab": {
          "base_uri": "https://localhost:8080/"
        },
        "id": "gTZYd1PNiDts",
        "outputId": "4151e67d-274c-402d-c91e-a35e22882831"
      },
      "execution_count": 98,
      "outputs": [
        {
          "output_type": "execute_result",
          "data": {
            "text/plain": [
              "list"
            ]
          },
          "metadata": {},
          "execution_count": 98
        }
      ]
    },
    {
      "cell_type": "code",
      "source": [
        "tupla = (1, 2, '3')\n",
        "type(tupla)"
      ],
      "metadata": {
        "colab": {
          "base_uri": "https://localhost:8080/"
        },
        "id": "cDlBwmkpiGpW",
        "outputId": "bc728b2a-2fef-46dc-808e-41066c37169d"
      },
      "execution_count": 99,
      "outputs": [
        {
          "output_type": "execute_result",
          "data": {
            "text/plain": [
              "tuple"
            ]
          },
          "metadata": {},
          "execution_count": 99
        }
      ]
    },
    {
      "cell_type": "code",
      "source": [
        "dicio = {'nome':'maria', 'idade':20}\n",
        "type(dicio)"
      ],
      "metadata": {
        "colab": {
          "base_uri": "https://localhost:8080/"
        },
        "id": "TFLtl5nDiJfv",
        "outputId": "609e2296-4a24-4c78-86d5-f02f8fc54d19"
      },
      "execution_count": 100,
      "outputs": [
        {
          "output_type": "execute_result",
          "data": {
            "text/plain": [
              "dict"
            ]
          },
          "metadata": {},
          "execution_count": 100
        }
      ]
    },
    {
      "cell_type": "code",
      "source": [
        "conjunto = {1, 2, 3}\n",
        "type(conjunto)"
      ],
      "metadata": {
        "colab": {
          "base_uri": "https://localhost:8080/"
        },
        "id": "eyN39a4DiPLt",
        "outputId": "9b6b56d9-6969-462a-969c-11f0cface5cf"
      },
      "execution_count": 101,
      "outputs": [
        {
          "output_type": "execute_result",
          "data": {
            "text/plain": [
              "set"
            ]
          },
          "metadata": {},
          "execution_count": 101
        }
      ]
    },
    {
      "cell_type": "code",
      "source": [
        "# Exemplo de listas\n",
        "\n",
        "anos = [1999,2000,2001,2002]\n",
        "países = [\"China\", \"EUA\", \"Brasil\", \"Rússia\"]\n",
        "IDH = [0.802, 0.789, 0.782, 0.750]\n",
        "\n",
        "# No entanto, listas não precisam que os dados sejam do mesmo tipo (str, int, float) e podem existir listas dentro de listas (nested lists).\n",
        "\n",
        "lista_mista = [2007,\"Noruega\",0.886,\"etc.\"]\n",
        "\n",
        "nested_list = [[\"Brasil\", 0.782],[\"China\", 0.802]]\n",
        "\n",
        "type(nested_list)"
      ],
      "metadata": {
        "id": "S7WegMofmmUO",
        "colab": {
          "base_uri": "https://localhost:8080/"
        },
        "outputId": "9378b762-7d9b-4746-c16d-ce3fff3dfda0"
      },
      "execution_count": 105,
      "outputs": [
        {
          "output_type": "execute_result",
          "data": {
            "text/plain": [
              "list"
            ]
          },
          "metadata": {},
          "execution_count": 105
        }
      ]
    },
    {
      "cell_type": "code",
      "source": [
        "# Exemplo de tuplas\n",
        "\n",
        "anos = (1999,2000,2001,2002)\n",
        "países = (\"China\", \"EUA\", \"Brasil\", \"Rússia\")\n",
        "IDH = (0.802, 0.789, 0.782, 0.750)\n",
        "\n",
        "tupla_mista = (2007,\"Noruega\",0.886,\"etc.\")\n",
        "\n",
        "nested_tuple = ((\"Brasil\", 0.782),(\"China\", 0.802))\n",
        "\n",
        "type(nested_tuple)"
      ],
      "metadata": {
        "id": "PCiGmZkInrzb",
        "colab": {
          "base_uri": "https://localhost:8080/"
        },
        "outputId": "fd613c17-a9c6-485a-92ec-88641a5e28ff"
      },
      "execution_count": 104,
      "outputs": [
        {
          "output_type": "execute_result",
          "data": {
            "text/plain": [
              "tuple"
            ]
          },
          "metadata": {},
          "execution_count": 104
        }
      ]
    },
    {
      "cell_type": "code",
      "source": [
        "# Exemplo de dicionários\n",
        "\n",
        "# Criando um dicionário\n",
        "meu_dicionario = {'nome': 'João', 'idade': 30, 'cidade': 'São Paulo'}\n",
        "\n",
        "type(meu_dicionario)"
      ],
      "metadata": {
        "id": "VS_AZPyNpcWg",
        "colab": {
          "base_uri": "https://localhost:8080/"
        },
        "outputId": "1ef57038-32f3-4184-d358-cbadf15e0868"
      },
      "execution_count": 106,
      "outputs": [
        {
          "output_type": "execute_result",
          "data": {
            "text/plain": [
              "dict"
            ]
          },
          "metadata": {},
          "execution_count": 106
        }
      ]
    },
    {
      "cell_type": "markdown",
      "source": [
        "Dicionários já parecem um pouco mais com a estrutura de planilhas que conhecemos. Um conjunto é uma coleção de elementos únicos, sem ordem definida. Isso significa que cada elemento de um conjunto é único, e não há repetições. Os conjuntos são muito úteis para realizar operações matemáticas, como união, interseção e diferença.\n",
        "\n",
        "Em Python, os conjuntos são representados por chaves {} ou pela função set(). Por exemplo:"
      ],
      "metadata": {
        "id": "r0YzuiE2m8Oi"
      }
    },
    {
      "cell_type": "code",
      "source": [
        "# Criando um conjunto com chaves\n",
        "meu_conjunto = {1, 2, 3, 4}\n",
        "\n",
        "# Criando um conjunto com a função set()\n",
        "outro_conjunto = set([3, 4, 5, 6])"
      ],
      "metadata": {
        "id": "xB2Fx3M4pv7L"
      },
      "execution_count": 114,
      "outputs": []
    },
    {
      "cell_type": "markdown",
      "source": [
        "É importante notar que os conjuntos não garantem a ordem dos elementos. Portanto, se você imprimir um conjunto, os elementos podem aparecer em uma ordem diferente da ordem em que foram adicionados."
      ],
      "metadata": {
        "id": "qHXs5uSAqE2R"
      }
    },
    {
      "cell_type": "code",
      "source": [
        "conjunto = set([1, 2, 3, 2, 1, 5])\n",
        "conjunto"
      ],
      "metadata": {
        "colab": {
          "base_uri": "https://localhost:8080/"
        },
        "id": "bvymmgaii0k5",
        "outputId": "a7b376b6-fcdb-4a08-e254-5e53df6992d6"
      },
      "execution_count": 117,
      "outputs": [
        {
          "output_type": "execute_result",
          "data": {
            "text/plain": [
              "{1, 2, 3, 5}"
            ]
          },
          "metadata": {},
          "execution_count": 117
        }
      ]
    },
    {
      "cell_type": "markdown",
      "source": [
        "#### Exercícios"
      ],
      "metadata": {
        "id": "JBzMbjqDivfN"
      }
    },
    {
      "cell_type": "markdown",
      "source": [
        "1 - Crie uma lista com os anos da pandemia de Covid-19"
      ],
      "metadata": {
        "id": "pKMb1VIoixmd"
      }
    },
    {
      "cell_type": "code",
      "source": [
        "anos_pandemia = [2020, 2021, 2022]\n",
        "anos_pandemia"
      ],
      "metadata": {
        "id": "837Kdvqkiw-N",
        "colab": {
          "base_uri": "https://localhost:8080/"
        },
        "outputId": "e1c2ff65-07f2-48c5-8201-105864c93046"
      },
      "execution_count": 118,
      "outputs": [
        {
          "output_type": "execute_result",
          "data": {
            "text/plain": [
              "[2020, 2021, 2022]"
            ]
          },
          "metadata": {},
          "execution_count": 118
        }
      ]
    },
    {
      "cell_type": "markdown",
      "source": [
        "2 - Crie uma tupla com 5 países latino-americanos"
      ],
      "metadata": {
        "id": "cNu3r69Oi1GZ"
      }
    },
    {
      "cell_type": "code",
      "source": [
        "paises_latinos = ('Argentina', 'Chile', 'Bolívia', 'Uruguai', 'Paraguai')\n",
        "paises_latinos"
      ],
      "metadata": {
        "id": "YqWIP5Uni7WE",
        "colab": {
          "base_uri": "https://localhost:8080/"
        },
        "outputId": "6da722b1-5715-474b-8346-6ddcae948c4d"
      },
      "execution_count": 119,
      "outputs": [
        {
          "output_type": "execute_result",
          "data": {
            "text/plain": [
              "('Argentina', 'Chile', 'Bolívia', 'Uruguai', 'Paraguai')"
            ]
          },
          "metadata": {},
          "execution_count": 119
        }
      ]
    },
    {
      "cell_type": "markdown",
      "source": [
        "3 - Peça o nome e idade do usuário e crie um dicionário com esses valores"
      ],
      "metadata": {
        "id": "AfaA6UPBi7sY"
      }
    },
    {
      "cell_type": "code",
      "source": [
        "nome = str(input('Digite aqui o seu nome: '))\n",
        "idade = int(input('Digite aqui a sua idade: '))\n",
        "\n",
        "dicio = {\n",
        "    'nome':nome,\n",
        "    'idade':idade\n",
        "}\n",
        "\n",
        "dicio"
      ],
      "metadata": {
        "id": "LMPqMPgYjqT1",
        "colab": {
          "base_uri": "https://localhost:8080/"
        },
        "outputId": "fab807b4-66ec-48dd-ab60-75444123f42c"
      },
      "execution_count": 120,
      "outputs": [
        {
          "name": "stdout",
          "output_type": "stream",
          "text": [
            "Digite aqui o seu nome: Luiz\n",
            "Digite aqui a sua idade: 23\n"
          ]
        },
        {
          "output_type": "execute_result",
          "data": {
            "text/plain": [
              "{'nome': 'Luiz', 'idade': 23}"
            ]
          },
          "metadata": {},
          "execution_count": 120
        }
      ]
    },
    {
      "cell_type": "markdown",
      "source": [
        "4 - Crie um conjunto com diversos objetos utilizando a função set()"
      ],
      "metadata": {
        "id": "VGrN4pKGjucx"
      }
    },
    {
      "cell_type": "code",
      "source": [
        "objeto1 = 'Monitor'\n",
        "objeto2 = 'Teclado'\n",
        "objeto3 = 'Mouse'\n",
        "objeto4 = 'Monitor'\n",
        "\n",
        "conjunto = set([objeto1, objeto2, objeto3, objeto4])\n",
        "conjunto"
      ],
      "metadata": {
        "id": "vrk27RnKj8P8",
        "colab": {
          "base_uri": "https://localhost:8080/"
        },
        "outputId": "54564e13-9b48-4388-eb05-1c849cadcfe6"
      },
      "execution_count": 122,
      "outputs": [
        {
          "output_type": "execute_result",
          "data": {
            "text/plain": [
              "{'Monitor', 'Mouse', 'Teclado'}"
            ]
          },
          "metadata": {},
          "execution_count": 122
        }
      ]
    },
    {
      "cell_type": "markdown",
      "source": [
        "## Conclusão"
      ],
      "metadata": {
        "id": "MUVZ1oksqKqI"
      }
    },
    {
      "cell_type": "markdown",
      "source": [
        "Neste laboratório, o intuito era de o de introduzir os comandos, tipos de dados e operações básicas que existem em Python. Na próxima aula, discutiremos um pouco mais sobre como trabalhar com as estruturas de dados citadas acima (listas, tuplas, etc.), operadores condicionais (if, else, elif) e alguns operadores de repetição (loop, while)."
      ],
      "metadata": {
        "id": "Yf9RRB5rqMnN"
      }
    }
  ]
}