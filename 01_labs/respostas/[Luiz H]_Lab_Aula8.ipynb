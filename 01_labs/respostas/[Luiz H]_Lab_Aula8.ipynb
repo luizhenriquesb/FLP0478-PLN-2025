{
 "cells": [
  {
   "cell_type": "markdown",
   "metadata": {
    "id": "YDHRYiZDVvUT"
   },
   "source": [
    "### Laboratório 8"
   ]
  },
  {
   "cell_type": "markdown",
   "metadata": {
    "id": "zm4bxGX1VvUV"
   },
   "source": [
    "Luiz Henrique da Silva Batista - Graduação - 12687228"
   ]
  },
  {
   "cell_type": "markdown",
   "metadata": {
    "id": "rHKqf7aXVvUV"
   },
   "source": [
    "#### 1. Bibliotecas e dependências"
   ]
  },
  {
   "cell_type": "code",
   "execution_count": 377,
   "metadata": {
    "id": "tn8h7XNOVvUV"
   },
   "outputs": [],
   "source": [
    "import pandas as pd\n",
    "import seaborn as sns\n",
    "import matplotlib.pyplot as plot\n",
    "import random\n",
    "import re\n",
    "import nltk\n",
    "\n",
    "from sklearn.linear_model import LogisticRegression\n",
    "from sklearn.metrics import accuracy_score, classification_report, precision_recall_fscore_support, confusion_matrix\n",
    "from sklearn.model_selection import train_test_split, KFold\n",
    "from sklearn.feature_extraction.text import CountVectorizer\n",
    "\n",
    "from nltk import word_tokenize\n",
    "from nltk.corpus import stopwords"
   ]
  },
  {
   "cell_type": "code",
   "execution_count": 378,
   "metadata": {
    "id": "gKnMlvkDVvUW"
   },
   "outputs": [],
   "source": [
    "random.seed(123456)"
   ]
  },
  {
   "cell_type": "markdown",
   "metadata": {
    "id": "-dXaYfWMVvUW"
   },
   "source": [
    "#### 2. Importação e pré-visualização"
   ]
  },
  {
   "cell_type": "code",
   "execution_count": 379,
   "metadata": {
    "colab": {
     "base_uri": "https://localhost:8080/"
    },
    "id": "Oxb1DrnpVvUW",
    "outputId": "01c89184-e200-4abd-e727-5652c8f98569"
   },
   "outputs": [
    {
     "name": "stdout",
     "output_type": "stream",
     "text": [
      "<class 'pandas.core.frame.DataFrame'>\n",
      "RangeIndex: 3002 entries, 0 to 3001\n",
      "Data columns (total 9 columns):\n",
      " #   Column                Non-Null Count  Dtype \n",
      "---  ------                --------------  ----- \n",
      " 0   tweet_id              3002 non-null   object\n",
      " 1   content               3002 non-null   object\n",
      " 2   Corrected_sentimento  1407 non-null   object\n",
      " 3   Corrected_stance      1407 non-null   object\n",
      " 4   Corrected_relevante   3002 non-null   object\n",
      " 5   Corrected_children    1408 non-null   object\n",
      " 6   round                 3002 non-null   int64 \n",
      " 7   date_post             3002 non-null   object\n",
      " 8   year                  3002 non-null   int64 \n",
      "dtypes: int64(2), object(7)\n",
      "memory usage: 211.2+ KB\n"
     ]
    }
   ],
   "source": [
    "dados = pd.read_csv('../Dados/tweets_2.0_2020.csv')\n",
    "dados.info()"
   ]
  },
  {
   "cell_type": "markdown",
   "metadata": {
    "id": "C9WIl-66VvUX"
   },
   "source": [
    "#### 3. Análise Exploratória dos Dados (EDA)"
   ]
  },
  {
   "cell_type": "markdown",
   "metadata": {
    "id": "HQ1k_hR7VvUX"
   },
   "source": [
    "##### Relevância"
   ]
  },
  {
   "cell_type": "markdown",
   "metadata": {
    "id": "pn66R56pVvUX"
   },
   "source": [
    "A Series abaixo apresenta distribuição das classes de relevância. Tweets relevantes são aqueles relacionados à vacinação contra a Covid-19."
   ]
  },
  {
   "cell_type": "code",
   "execution_count": 380,
   "metadata": {
    "colab": {
     "base_uri": "https://localhost:8080/",
     "height": 125
    },
    "id": "-Y_7qOjDVvUX",
    "outputId": "5e2c17cc-1500-43e5-fbe5-23e1221a9efb"
   },
   "outputs": [
    {
     "data": {
      "text/html": [
       "<div>\n",
       "<style scoped>\n",
       "    .dataframe tbody tr th:only-of-type {\n",
       "        vertical-align: middle;\n",
       "    }\n",
       "\n",
       "    .dataframe tbody tr th {\n",
       "        vertical-align: top;\n",
       "    }\n",
       "\n",
       "    .dataframe thead th {\n",
       "        text-align: right;\n",
       "    }\n",
       "</style>\n",
       "<table border=\"1\" class=\"dataframe\">\n",
       "  <thead>\n",
       "    <tr style=\"text-align: right;\">\n",
       "      <th></th>\n",
       "      <th>Corrected_relevante</th>\n",
       "      <th>proportion</th>\n",
       "      <th>perc</th>\n",
       "    </tr>\n",
       "  </thead>\n",
       "  <tbody>\n",
       "    <tr>\n",
       "      <th>0</th>\n",
       "      <td>irrelevant</td>\n",
       "      <td>0.531312</td>\n",
       "      <td>53.131246</td>\n",
       "    </tr>\n",
       "    <tr>\n",
       "      <th>1</th>\n",
       "      <td>relevant</td>\n",
       "      <td>0.468688</td>\n",
       "      <td>46.868754</td>\n",
       "    </tr>\n",
       "  </tbody>\n",
       "</table>\n",
       "</div>"
      ],
      "text/plain": [
       "  Corrected_relevante  proportion       perc\n",
       "0          irrelevant    0.531312  53.131246\n",
       "1            relevant    0.468688  46.868754"
      ]
     },
     "execution_count": 380,
     "metadata": {},
     "output_type": "execute_result"
    }
   ],
   "source": [
    "relev = dados['Corrected_relevante'].value_counts(normalize=True).reset_index()\n",
    "relev['perc'] = relev['proportion'] * 100\n",
    "relev"
   ]
  },
  {
   "cell_type": "code",
   "execution_count": 381,
   "metadata": {
    "colab": {
     "base_uri": "https://localhost:8080/",
     "height": 489
    },
    "id": "fJc6OecKLMwo",
    "outputId": "06d435cf-8e69-4705-b3f4-09b1d05239f8"
   },
   "outputs": [
    {
     "data": {
      "text/plain": [
       "[Text(0, 0, '46.8688')]"
      ]
     },
     "execution_count": 381,
     "metadata": {},
     "output_type": "execute_result"
    },
    {
     "data": {
      "image/png": "[encoded data removed]",
      "text/plain": [
       "<Figure size 640x480 with 1 Axes>"
      ]
     },
     "metadata": {},
     "output_type": "display_data"
    }
   ],
   "source": [
    "ax = sns.barplot(\n",
    "    relev,\n",
    "    x = 'Corrected_relevante', y = 'perc',\n",
    "    hue = 'Corrected_relevante',\n",
    "    width = 0.5,\n",
    "    edgecolor = 'black')\n",
    "\n",
    "# Edita\n",
    "plot.ylim(0, 100)\n",
    "plot.title('Distribuição percentual das classes de relevância')\n",
    "plot.xlabel('')\n",
    "plot.ylabel('Percentual')\n",
    "\n",
    "# adiciona rotulos\n",
    "ax.bar_label(ax.containers[0])\n",
    "ax.bar_label(ax.containers[1])"
   ]
  },
  {
   "cell_type": "markdown",
   "metadata": {
    "id": "5JE_vhgmVvUX"
   },
   "source": [
    "##### Posicionamento"
   ]
  },
  {
   "cell_type": "markdown",
   "metadata": {
    "id": "R3ec5D0pVvUX"
   },
   "source": [
    "A Series abaixo apresenta a frequência de ocorrência das classes de posicionamento. Os tweets são classificados como *favoráveis*, *desfavoráveis* e *unclear*."
   ]
  },
  {
   "cell_type": "code",
   "execution_count": 382,
   "metadata": {
    "colab": {
     "base_uri": "https://localhost:8080/",
     "height": 143
    },
    "id": "WNnJsuZ-VvUX",
    "outputId": "7cde613a-e4c2-4ac8-bd54-a0a1a3f84470"
   },
   "outputs": [
    {
     "data": {
      "text/html": [
       "<div>\n",
       "<style scoped>\n",
       "    .dataframe tbody tr th:only-of-type {\n",
       "        vertical-align: middle;\n",
       "    }\n",
       "\n",
       "    .dataframe tbody tr th {\n",
       "        vertical-align: top;\n",
       "    }\n",
       "\n",
       "    .dataframe thead th {\n",
       "        text-align: right;\n",
       "    }\n",
       "</style>\n",
       "<table border=\"1\" class=\"dataframe\">\n",
       "  <thead>\n",
       "    <tr style=\"text-align: right;\">\n",
       "      <th></th>\n",
       "      <th>Corrected_stance</th>\n",
       "      <th>proportion</th>\n",
       "      <th>perc</th>\n",
       "    </tr>\n",
       "  </thead>\n",
       "  <tbody>\n",
       "    <tr>\n",
       "      <th>0</th>\n",
       "      <td>favorable</td>\n",
       "      <td>0.657427</td>\n",
       "      <td>65.742715</td>\n",
       "    </tr>\n",
       "    <tr>\n",
       "      <th>1</th>\n",
       "      <td>unclear</td>\n",
       "      <td>0.272210</td>\n",
       "      <td>27.221038</td>\n",
       "    </tr>\n",
       "    <tr>\n",
       "      <th>2</th>\n",
       "      <td>unfavorable</td>\n",
       "      <td>0.070362</td>\n",
       "      <td>7.036247</td>\n",
       "    </tr>\n",
       "  </tbody>\n",
       "</table>\n",
       "</div>"
      ],
      "text/plain": [
       "  Corrected_stance  proportion       perc\n",
       "0        favorable    0.657427  65.742715\n",
       "1          unclear    0.272210  27.221038\n",
       "2      unfavorable    0.070362   7.036247"
      ]
     },
     "execution_count": 382,
     "metadata": {},
     "output_type": "execute_result"
    }
   ],
   "source": [
    "# Filtra apenas os tweets relevantes (em tese, não precisa, mas vamos filtrar por precaução)\n",
    "dados = dados[dados['Corrected_relevante'] == 'relevant']\n",
    "\n",
    "stanc = dados['Corrected_stance'].value_counts(normalize=True).reset_index()\n",
    "stanc['perc'] = stanc['proportion'] * 100\n",
    "stanc"
   ]
  },
  {
   "cell_type": "code",
   "execution_count": 383,
   "metadata": {
    "colab": {
     "base_uri": "https://localhost:8080/",
     "height": 489
    },
    "id": "Vo-dUmc2NLLN",
    "outputId": "86f83595-c50d-4267-8481-f0a930f22974"
   },
   "outputs": [
    {
     "data": {
      "text/plain": [
       "[Text(0, 0, '7.03625')]"
      ]
     },
     "execution_count": 383,
     "metadata": {},
     "output_type": "execute_result"
    },
    {
     "data": {
      "image/png": "[encoded data removed]",
      "text/plain": [
       "<Figure size 640x480 with 1 Axes>"
      ]
     },
     "metadata": {},
     "output_type": "display_data"
    }
   ],
   "source": [
    "ax = sns.barplot(\n",
    "    stanc,\n",
    "    x = 'Corrected_stance', y = 'perc',\n",
    "    hue = 'Corrected_stance',\n",
    "    width = 0.7,\n",
    "    edgecolor = 'black'\n",
    "    )\n",
    "\n",
    "# Edita\n",
    "plot.ylim(0, 100)\n",
    "plot.title('Distribuição percentual das classes de posicionamento')\n",
    "plot.xlabel('')\n",
    "plot.ylabel('Percentual')\n",
    "\n",
    "# adiciona rotulos\n",
    "ax.bar_label(ax.containers[0])\n",
    "ax.bar_label(ax.containers[1])\n",
    "ax.bar_label(ax.containers[2])"
   ]
  },
  {
   "cell_type": "markdown",
   "metadata": {
    "id": "wT4iUdM-VvUX"
   },
   "source": [
    "##### Análise da distribuição das classes"
   ]
  },
  {
   "cell_type": "markdown",
   "metadata": {
    "id": "V_7dAabnVvUY"
   },
   "source": [
    "A distribuição da frequência de ocorrência das classes de posicionamento representa um risco para o ajuste do modelo, em virtude do desbalanceamento. Conforme a classe *favorable* possui mais dados do que as classes *unclear* e, principalmente, *unfavorable*, o modelo pode predizer mais a classe majoritária. Por outro lado, a distribuição das classes de relevância está mais equilibrada."
   ]
  },
  {
   "cell_type": "markdown",
   "metadata": {
    "id": "2d_8jtasVvUY"
   },
   "source": [
    "#### 5. Pré-processamento"
   ]
  },
  {
   "cell_type": "markdown",
   "metadata": {
    "id": "oP-uuSCdVvUY"
   },
   "source": [
    "##### Separação dos dados"
   ]
  },
  {
   "cell_type": "code",
   "execution_count": 384,
   "metadata": {
    "id": "FXn3AkX9VvUY"
   },
   "outputs": [],
   "source": [
    "features = dados['content']\n",
    "target = dados['Corrected_stance']"
   ]
  },
  {
   "cell_type": "markdown",
   "metadata": {
    "id": "0PgY6wYmVvUY"
   },
   "source": [
    "##### Target: Label Encoding"
   ]
  },
  {
   "cell_type": "code",
   "execution_count": 385,
   "metadata": {
    "id": "R19E76tMVvUY"
   },
   "outputs": [
    {
     "data": {
      "text/plain": [
       "Corrected_stance\n",
       "0    925\n",
       "1    383\n",
       "2     99\n",
       "Name: count, dtype: int64"
      ]
     },
     "execution_count": 385,
     "metadata": {},
     "output_type": "execute_result"
    }
   ],
   "source": [
    "label_encoding = {\n",
    "    'favorable'   : 0,\n",
    "    'unclear'     : 1,\n",
    "    'unfavorable' : 2\n",
    "}\n",
    "\n",
    "target = target.map(label_encoding)\n",
    "target.value_counts()"
   ]
  },
  {
   "cell_type": "markdown",
   "metadata": {
    "id": "qA9oiqDYVvUY"
   },
   "source": [
    "##### Features: Pré-processamento de texto"
   ]
  },
  {
   "cell_type": "code",
   "execution_count": 386,
   "metadata": {
    "id": "zY-3HGlZVvUY"
   },
   "outputs": [],
   "source": [
    "def preprocess_text(texto):\n",
    "    # Converte tudo para minúsculo\n",
    "    texto = texto.lower()\n",
    "    # Remove URLs\n",
    "    texto = re.sub(r'https://\\S+', '', texto)\n",
    "    # Remove quebra de linha\n",
    "    texto = texto.replace('\\\\n', ' ')\n",
    "    # Remove Hashtags\n",
    "    texto = re.sub(r'#(\\w+)', r'\\1', texto)\n",
    "    # Seleciona apenas as letras\n",
    "    texto = re.findall(r'[a-zéóáêâãõç]+', texto)\n",
    "    # Junta o texto, porque o .findall cria tokens\n",
    "    texto = \" \".join(texto)\n",
    "\n",
    "    return texto\n",
    "\n",
    "features = features.apply(preprocess_text)"
   ]
  },
  {
   "cell_type": "markdown",
   "metadata": {
    "id": "jrPMB5kHVvUY"
   },
   "source": [
    "##### Divisão entre treino e teste"
   ]
  },
  {
   "cell_type": "code",
   "execution_count": 387,
   "metadata": {
    "id": "xoAiaAWNVvUY"
   },
   "outputs": [],
   "source": [
    "x_treino, x_teste, y_treino, y_teste = train_test_split(\n",
    "    features,\n",
    "    target,\n",
    "    test_size = 0.2,\n",
    "    stratify = target,\n",
    "    random_state = 123\n",
    ")"
   ]
  },
  {
   "cell_type": "code",
   "execution_count": 388,
   "metadata": {
    "colab": {
     "base_uri": "https://localhost:8080/"
    },
    "id": "opcx4At0VvUY",
    "outputId": "b9228c30-9e9f-4df9-af04-65ca2b690b5b"
   },
   "outputs": [
    {
     "name": "stdout",
     "output_type": "stream",
     "text": [
      "Treino:\n",
      "\n",
      "Corrected_stance\n",
      "0    0.657778\n",
      "1    0.272000\n",
      "2    0.070222\n",
      "Name: proportion, dtype: float64\n",
      "\n",
      "\n",
      "Teste:\n",
      "\n",
      "Corrected_stance\n",
      "0    0.656028\n",
      "1    0.273050\n",
      "2    0.070922\n",
      "Name: proportion, dtype: float64\n"
     ]
    }
   ],
   "source": [
    "print(f'Treino:\\n\\n{y_treino.value_counts(normalize=True)}')\n",
    "print('\\n')\n",
    "print(f'Teste:\\n\\n{y_teste.value_counts(normalize=True)}')"
   ]
  },
  {
   "cell_type": "markdown",
   "metadata": {
    "id": "ydd5eTa5VvUY"
   },
   "source": [
    "##### Vetorização com Bag of Words"
   ]
  },
  {
   "cell_type": "code",
   "execution_count": 389,
   "metadata": {
    "colab": {
     "base_uri": "https://localhost:8080/"
    },
    "id": "3Ibfe8DIEowW",
    "outputId": "3a2a627b-2a14-4594-c030-e811b8580632"
   },
   "outputs": [
    {
     "name": "stderr",
     "output_type": "stream",
     "text": [
      "[nltk_data] Downloading package stopwords to C:\\Users\\Luiz\n",
      "[nltk_data]     Henrique/nltk_data...\n",
      "[nltk_data]   Package stopwords is already up-to-date!\n"
     ]
    },
    {
     "data": {
      "text/plain": [
       "True"
      ]
     },
     "execution_count": 389,
     "metadata": {},
     "output_type": "execute_result"
    }
   ],
   "source": [
    "nltk.download('stopwords')"
   ]
  },
  {
   "cell_type": "code",
   "execution_count": 390,
   "metadata": {
    "id": "-hlvqcoDVvUY"
   },
   "outputs": [],
   "source": [
    "# Lista das stop words do português\n",
    "stop_words = stopwords.words('portuguese')\n",
    "\n",
    "# Vetorizador: converte um conjunto de textos em uma matriz de contagem de palavras\n",
    "vectorizer = CountVectorizer(stop_words=stop_words, ngram_range=(1,1))"
   ]
  },
  {
   "cell_type": "markdown",
   "metadata": {
    "id": "-clDnxLuVvUY"
   },
   "source": [
    "Features de Treino"
   ]
  },
  {
   "cell_type": "code",
   "execution_count": 391,
   "metadata": {
    "id": "73Ht6BO2VvUY"
   },
   "outputs": [],
   "source": [
    "# Aplicando o BoW base de treino\n",
    "x_treino = vectorizer.fit_transform(x_treino)\n",
    "\n",
    "# Transforma o x em um data frame\n",
    "x_treino_bow = pd.DataFrame(x_treino.toarray())"
   ]
  },
  {
   "cell_type": "markdown",
   "metadata": {
    "id": "hRAghiiwVvUY"
   },
   "source": [
    "Features de teste"
   ]
  },
  {
   "cell_type": "code",
   "execution_count": 392,
   "metadata": {
    "id": "ho4U_0U3VvUY"
   },
   "outputs": [],
   "source": [
    "# Aplicando o BoW na base de teste\n",
    "x_teste = vectorizer.transform(x_teste)\n",
    "\n",
    "# Transforma o x em um data frame\n",
    "x_teste_bow = pd.DataFrame(x_teste.toarray())"
   ]
  },
  {
   "cell_type": "markdown",
   "metadata": {
    "id": "71JjFuNHVvUY"
   },
   "source": [
    "#### 6. Ajuste do modelo multinomial"
   ]
  },
  {
   "cell_type": "markdown",
   "metadata": {},
   "source": [
    "Abaixo, ajustamos um modelo multinomial, padronizando os hiper"
   ]
  },
  {
   "cell_type": "code",
   "execution_count": 393,
   "metadata": {
    "colab": {
     "base_uri": "https://localhost:8080/"
    },
    "id": "aP5WkTVQVvUZ",
    "outputId": "b90b9c85-13c0-48e3-b73d-88eba296dac9"
   },
   "outputs": [],
   "source": [
    "# Regressão Logística\n",
    "modelo = LogisticRegression()\n",
    "\n",
    "# Ajuste do modelo\n",
    "modelo.fit(x_treino_bow, y_treino)\n",
    "\n",
    "# Predições\n",
    "y_pred = modelo.predict(x_teste_bow)"
   ]
  },
  {
   "cell_type": "markdown",
   "metadata": {
    "id": "AA_zl9qvVvUZ"
   },
   "source": [
    "#### 7. Avaliação"
   ]
  },
  {
   "cell_type": "markdown",
   "metadata": {
    "id": "ut58sdWAq6IF"
   },
   "source": [
    "##### Matriz de Confusão"
   ]
  },
  {
   "cell_type": "code",
   "execution_count": 394,
   "metadata": {
    "colab": {
     "base_uri": "https://localhost:8080/",
     "height": 472
    },
    "id": "ubG5QWI9VvUZ",
    "outputId": "dde65648-ed35-4085-8355-3a2cddd3d71c"
   },
   "outputs": [
    {
     "data": {
      "image/png": "[encoded data removed]",
      "text/plain": [
       "<Figure size 640x480 with 2 Axes>"
      ]
     },
     "metadata": {},
     "output_type": "display_data"
    }
   ],
   "source": [
    "matriz_conf = confusion_matrix(y_teste, y_pred)\n",
    "\n",
    "# Definação os rótulos das classes\n",
    "class_names = ['Favorable', 'Unclear', 'Unfavorable']\n",
    "\n",
    "# Gráfico da matriz de confusão\n",
    "sns.heatmap(matriz_conf, # Nossa matriz gerada pelo sklearn\n",
    "            annot=True,\n",
    "            fmt='d', # Dígitos completos\n",
    "            cmap='Blues', # Cor da matriz\n",
    "            xticklabels=class_names,\n",
    "            yticklabels=class_names)\n",
    "plot.xlabel('Classe Prevista')\n",
    "plot.ylabel('Classe Real')\n",
    "plot.title('Matriz de Confusão: Modelo 0 (padrão)')\n",
    "plot.show()"
   ]
  },
  {
   "cell_type": "markdown",
   "metadata": {
    "id": "a5UdaUMlq-GV"
   },
   "source": [
    "##### Relatório"
   ]
  },
  {
   "cell_type": "code",
   "execution_count": 395,
   "metadata": {},
   "outputs": [
    {
     "name": "stdout",
     "output_type": "stream",
     "text": [
      "              precision    recall  f1-score   support\n",
      "\n",
      "           0       0.88      0.97      0.92       185\n",
      "           1       0.90      0.81      0.85        77\n",
      "           2       0.78      0.35      0.48        20\n",
      "\n",
      "    accuracy                           0.88       282\n",
      "   macro avg       0.85      0.71      0.75       282\n",
      "weighted avg       0.88      0.88      0.87       282\n",
      "\n"
     ]
    }
   ],
   "source": [
    "print(classification_report(y_teste, y_pred))"
   ]
  },
  {
   "cell_type": "markdown",
   "metadata": {
    "id": "LARN8yZltDUP"
   },
   "source": [
    "##### Conclusões"
   ]
  },
  {
   "cell_type": "markdown",
   "metadata": {
    "id": "yNN9lxV4tHig"
   },
   "source": [
    "O modelo apresenta sérios problemas na classificação da classe minoritária (2: unfavorable). Com um recall de 0.35, podemos perceber que o modelo tem dificuldades de identificar corretamente a maioria dos tweets unfavorable."
   ]
  },
  {
   "cell_type": "markdown",
   "metadata": {
    "id": "9HYqkZRHu3M-"
   },
   "source": [
    "#### 8. K-Fold e Tuning"
   ]
  },
  {
   "cell_type": "markdown",
   "metadata": {},
   "source": [
    "##### Modelo 0 (default)"
   ]
  },
  {
   "cell_type": "markdown",
   "metadata": {
    "id": "N2RjqDXUwIev"
   },
   "source": [
    "##### Train Test Split"
   ]
  },
  {
   "cell_type": "code",
   "execution_count": 396,
   "metadata": {
    "id": "7rTDVCIpwFWW"
   },
   "outputs": [],
   "source": [
    "# Seperação entre treino e teste\n",
    "x_treino, x_teste, y_treino, y_teste = train_test_split(\n",
    "    features,\n",
    "    target,\n",
    "    test_size = 0.2,\n",
    "    stratify = target,\n",
    "    random_state = 123\n",
    ")"
   ]
  },
  {
   "cell_type": "markdown",
   "metadata": {
    "id": "PfDZtHJFwXYv"
   },
   "source": [
    "##### KFold"
   ]
  },
  {
   "cell_type": "code",
   "execution_count": 397,
   "metadata": {
    "id": "7ChHvMk7u9im"
   },
   "outputs": [],
   "source": [
    "# Definição do número de K\n",
    "kf = KFold(n_splits=10)"
   ]
  },
  {
   "cell_type": "code",
   "execution_count": 398,
   "metadata": {
    "colab": {
     "base_uri": "https://localhost:8080/"
    },
    "id": "emSP5Fhju8SF",
    "outputId": "34773eb0-f9a7-48d0-c7fb-9072d25fb84b"
   },
   "outputs": [
    {
     "name": "stdout",
     "output_type": "stream",
     "text": [
      "Dobra (Fold) 0:\n",
      "  Treino: tamanho=1012\n",
      "  Teste:  tamanho=113\n",
      "Dobra (Fold) 1:\n",
      "  Treino: tamanho=1012\n",
      "  Teste:  tamanho=113\n",
      "Dobra (Fold) 2:\n",
      "  Treino: tamanho=1012\n",
      "  Teste:  tamanho=113\n",
      "Dobra (Fold) 3:\n",
      "  Treino: tamanho=1012\n",
      "  Teste:  tamanho=113\n",
      "Dobra (Fold) 4:\n",
      "  Treino: tamanho=1012\n",
      "  Teste:  tamanho=113\n",
      "Dobra (Fold) 5:\n",
      "  Treino: tamanho=1013\n",
      "  Teste:  tamanho=112\n",
      "Dobra (Fold) 6:\n",
      "  Treino: tamanho=1013\n",
      "  Teste:  tamanho=112\n",
      "Dobra (Fold) 7:\n",
      "  Treino: tamanho=1013\n",
      "  Teste:  tamanho=112\n",
      "Dobra (Fold) 8:\n",
      "  Treino: tamanho=1013\n",
      "  Teste:  tamanho=112\n",
      "Dobra (Fold) 9:\n",
      "  Treino: tamanho=1013\n",
      "  Teste:  tamanho=112\n"
     ]
    }
   ],
   "source": [
    "# Definição dos folds\n",
    "for i, (train_index, test_index) in enumerate(kf.split(x_treino)):\n",
    "  print(f\"Dobra (Fold) {i}:\")\n",
    "  print(f\"  Treino: tamanho={len(train_index)}\")\n",
    "  print(f\"  Teste:  tamanho={len(test_index)}\")"
   ]
  },
  {
   "cell_type": "code",
   "execution_count": 399,
   "metadata": {
    "id": "nXczkPgtvYH9"
   },
   "outputs": [],
   "source": [
    "# Aplicando o BoW base de treino em que foi feito o KFold\n",
    "x_treino_bow_kf = vectorizer.fit_transform(x_treino)"
   ]
  },
  {
   "cell_type": "code",
   "execution_count": 400,
   "metadata": {
    "id": "sQxviX3xwgqb"
   },
   "outputs": [],
   "source": [
    "# Ajuste dos inputs\n",
    "y_treino_array = y_treino.to_numpy()"
   ]
  },
  {
   "cell_type": "code",
   "execution_count": 401,
   "metadata": {
    "id": "CFZNslrJwwUv"
   },
   "outputs": [],
   "source": [
    "# Cria um dataframe vazio para armazenar as métricas\n",
    "resultados1 = pd.DataFrame()"
   ]
  },
  {
   "cell_type": "code",
   "execution_count": null,
   "metadata": {
    "colab": {
     "base_uri": "https://localhost:8080/"
    },
    "id": "tRmhkva4w2hf",
    "outputId": "bbef834c-4b51-49e7-c292-ac4da19241db"
   },
   "outputs": [],
   "source": [
    "# Loop de treinamento\n",
    "for i, (train_index, test_index) in enumerate(kf.split(x_treino_bow_kf)):\n",
    "\n",
    "  # Divisão dos dados entre treino e teste\n",
    "  x_treino_kf, x_teste_kf = x_treino_bow_kf[train_index, :], x_treino_bow_kf[test_index, :]\n",
    "  y_treino_kf, y_teste_kf = y_treino_array[train_index], y_treino_array[test_index]\n",
    "\n",
    "  # Treinando o modelo\n",
    "  modelo = LogisticRegression()\n",
    "  modelo.fit(x_treino_kf, y_treino_kf)\n",
    "\n",
    "  # Avaliação do modelo\n",
    "  y_pred_kf = modelo.predict(x_teste_kf)\n",
    "\n",
    "  # Armazenando as métricas\n",
    "  metricas_kf = precision_recall_fscore_support(\n",
    "      y_teste_kf, y_pred_kf,\n",
    "      average = None,\n",
    "      labels = [0, 1, 2],\n",
    "      zero_division = True\n",
    "  )\n",
    "\n",
    "  # Desempacota os valores\n",
    "  precision, recall, f1, suporte = metricas_kf\n",
    "\n",
    "  # Criando um dicionario com os resultados\n",
    "  metricas_dict = {\n",
    "      'precision':precision,\n",
    "      'recall':recall,\n",
    "      'f1':f1,\n",
    "      'suporte':suporte,\n",
    "      'fold':i\n",
    "  }\n",
    "\n",
    "  # Cria um dataframe com esse dicionário\n",
    "  metricas_df = pd.DataFrame(metricas_dict)\n",
    "\n",
    "  # Converte o index em uma cooluna\n",
    "  metricas_df.reset_index(inplace=True)\n",
    "\n",
    "  # Renomeia essa coluna\n",
    "  metricas_df = metricas_df.rename(columns = {'index':'classe'})\n",
    "\n",
    " # Colocando os resultados dentre do df criado fora do loop\n",
    "resultados1 = pd.concat([metricas_df, resultados1], axis = 0)"
   ]
  },
  {
   "cell_type": "code",
   "execution_count": 403,
   "metadata": {
    "id": "JcsaZXtlwRgW"
   },
   "outputs": [],
   "source": [
    "# Reseta o index\n",
    "resultados1 = resultados1.reset_index(drop = True)"
   ]
  },
  {
   "cell_type": "markdown",
   "metadata": {
    "id": "02GU-_Xf159I"
   },
   "source": [
    "##### Avaliação"
   ]
  },
  {
   "cell_type": "code",
   "execution_count": 404,
   "metadata": {
    "colab": {
     "base_uri": "https://localhost:8080/",
     "height": 206
    },
    "id": "0Q1ay9DH1zLx",
    "outputId": "8a607e93-85f0-464e-f669-9d1a06cc15a0"
   },
   "outputs": [
    {
     "data": {
      "text/html": [
       "<div>\n",
       "<style scoped>\n",
       "    .dataframe tbody tr th:only-of-type {\n",
       "        vertical-align: middle;\n",
       "    }\n",
       "\n",
       "    .dataframe tbody tr th {\n",
       "        vertical-align: top;\n",
       "    }\n",
       "\n",
       "    .dataframe thead th {\n",
       "        text-align: right;\n",
       "    }\n",
       "</style>\n",
       "<table border=\"1\" class=\"dataframe\">\n",
       "  <thead>\n",
       "    <tr style=\"text-align: right;\">\n",
       "      <th></th>\n",
       "      <th>classe</th>\n",
       "      <th>precision</th>\n",
       "      <th>recall</th>\n",
       "      <th>f1</th>\n",
       "      <th>suporte</th>\n",
       "      <th>fold</th>\n",
       "    </tr>\n",
       "  </thead>\n",
       "  <tbody>\n",
       "    <tr>\n",
       "      <th>0</th>\n",
       "      <td>favorable</td>\n",
       "      <td>0.865854</td>\n",
       "      <td>0.986111</td>\n",
       "      <td>0.922078</td>\n",
       "      <td>72</td>\n",
       "      <td>9</td>\n",
       "    </tr>\n",
       "    <tr>\n",
       "      <th>1</th>\n",
       "      <td>unclear</td>\n",
       "      <td>0.964286</td>\n",
       "      <td>0.794118</td>\n",
       "      <td>0.870968</td>\n",
       "      <td>34</td>\n",
       "      <td>9</td>\n",
       "    </tr>\n",
       "    <tr>\n",
       "      <th>2</th>\n",
       "      <td>unfavorable</td>\n",
       "      <td>1.000000</td>\n",
       "      <td>0.333333</td>\n",
       "      <td>0.500000</td>\n",
       "      <td>6</td>\n",
       "      <td>9</td>\n",
       "    </tr>\n",
       "    <tr>\n",
       "      <th>3</th>\n",
       "      <td>favorable</td>\n",
       "      <td>0.809524</td>\n",
       "      <td>0.957746</td>\n",
       "      <td>0.877419</td>\n",
       "      <td>71</td>\n",
       "      <td>8</td>\n",
       "    </tr>\n",
       "    <tr>\n",
       "      <th>4</th>\n",
       "      <td>unclear</td>\n",
       "      <td>0.727273</td>\n",
       "      <td>0.640000</td>\n",
       "      <td>0.680851</td>\n",
       "      <td>25</td>\n",
       "      <td>8</td>\n",
       "    </tr>\n",
       "  </tbody>\n",
       "</table>\n",
       "</div>"
      ],
      "text/plain": [
       "        classe  precision    recall        f1  suporte  fold\n",
       "0    favorable   0.865854  0.986111  0.922078       72     9\n",
       "1      unclear   0.964286  0.794118  0.870968       34     9\n",
       "2  unfavorable   1.000000  0.333333  0.500000        6     9\n",
       "3    favorable   0.809524  0.957746  0.877419       71     8\n",
       "4      unclear   0.727273  0.640000  0.680851       25     8"
      ]
     },
     "execution_count": 404,
     "metadata": {},
     "output_type": "execute_result"
    }
   ],
   "source": [
    "renomeia_classes = {\n",
    "    0:'favorable',\n",
    "    1:'unclear',\n",
    "    2:'unfavorable'\n",
    "}\n",
    "\n",
    "resultados1['classe'] = resultados1['classe'].map(renomeia_classes)\n",
    "resultados1.head()"
   ]
  },
  {
   "cell_type": "markdown",
   "metadata": {
    "id": "nwHretfs2reK"
   },
   "source": [
    "Precision"
   ]
  },
  {
   "cell_type": "code",
   "execution_count": 405,
   "metadata": {
    "colab": {
     "base_uri": "https://localhost:8080/",
     "height": 489
    },
    "id": "f7KLfq3q2XNZ",
    "outputId": "13c6920c-f585-47a0-9ddd-4bbc5775a9d2"
   },
   "outputs": [
    {
     "data": {
      "text/plain": [
       "(-0.1, 1.1)"
      ]
     },
     "execution_count": 405,
     "metadata": {},
     "output_type": "execute_result"
    },
    {
     "data": {
      "image/png": "[encoded data removed]",
      "text/plain": [
       "<Figure size 640x480 with 1 Axes>"
      ]
     },
     "metadata": {},
     "output_type": "display_data"
    }
   ],
   "source": [
    "sns.boxplot(resultados1, x = 'classe', y = 'precision', hue='classe')\n",
    "\n",
    "plot.title(\"Precision (10 Folds)\")\n",
    "plot.ylim(-0.1, 1.1)"
   ]
  },
  {
   "cell_type": "markdown",
   "metadata": {
    "id": "TvC0EtPT2zqi"
   },
   "source": [
    "Recall"
   ]
  },
  {
   "cell_type": "code",
   "execution_count": 406,
   "metadata": {
    "colab": {
     "base_uri": "https://localhost:8080/",
     "height": 489
    },
    "id": "Epf03jU0219Q",
    "outputId": "6e5e2259-5041-4409-efa7-9d62b96f682f"
   },
   "outputs": [
    {
     "data": {
      "text/plain": [
       "(0.0, 1.0)"
      ]
     },
     "execution_count": 406,
     "metadata": {},
     "output_type": "execute_result"
    },
    {
     "data": {
      "image/png": "[encoded data removed]",
      "text/plain": [
       "<Figure size 640x480 with 1 Axes>"
      ]
     },
     "metadata": {},
     "output_type": "display_data"
    }
   ],
   "source": [
    "sns.boxplot(resultados1, x = 'classe', y = 'recall', hue='classe')\n",
    "\n",
    "plot.title(\"Recall (10 Folds)\")\n",
    "plot.ylim(0, 1)"
   ]
  },
  {
   "cell_type": "markdown",
   "metadata": {
    "id": "8BXBl1ns26cV"
   },
   "source": [
    "F1-Score"
   ]
  },
  {
   "cell_type": "code",
   "execution_count": 407,
   "metadata": {
    "colab": {
     "base_uri": "https://localhost:8080/",
     "height": 489
    },
    "id": "SL6lAPaw28Xj",
    "outputId": "6d15263d-1bcc-4008-940a-9e7d9338ccc7"
   },
   "outputs": [
    {
     "data": {
      "text/plain": [
       "(0.0, 1.0)"
      ]
     },
     "execution_count": 407,
     "metadata": {},
     "output_type": "execute_result"
    },
    {
     "data": {
      "image/png": "[encoded data removed]",
      "text/plain": [
       "<Figure size 640x480 with 1 Axes>"
      ]
     },
     "metadata": {},
     "output_type": "display_data"
    }
   ],
   "source": [
    "sns.boxplot(resultados1, x = 'classe', y = 'f1', hue='classe')\n",
    "\n",
    "plot.title(\"F1-Score (10 Folds)\")\n",
    "plot.ylim(0, 1)"
   ]
  },
  {
   "cell_type": "markdown",
   "metadata": {
    "id": "t84eCO5s3vls"
   },
   "source": [
    "Os resultados acima indicam que o modelo tem um desempenho melhor na classificação das classes \"favorável\" e \"unclear\". No entanto, em relação à classe \"unfavorable\", que é a classe minoritária, o modelo demonstra dificuldade. O F1-score, que é a média harmônica entre precisão e recall, mostra que a rotulação da classe majoritária \"favorável\" apresenta um F1-score superior a 0,8. A classe \"unclear\" apresenta um F1-score em torno de 0,8, enquanto a classe \"unfavorable\" fica em varia de 0 a quase 0,6."
   ]
  },
  {
   "cell_type": "markdown",
   "metadata": {
    "id": "KKmAuURR4zLS"
   },
   "source": [
    "#### 9. Mudança nos hiperparâmetros"
   ]
  },
  {
   "cell_type": "markdown",
   "metadata": {},
   "source": [
    "Aqui está o texto revisado e uma tabela em Markdown com as configurações dos três modelos:\n",
    "\n",
    "Vamos realizar um experimento comparando o modelo padrão com outros dois modelos. O modelo padrão é aquele cujos hiperparâmetros não foram alterados, ou seja, usamos as configurações padrão. Nos outros dois modelos, ajustamos os hiperparâmetros para observar diferenças de desempenho, embora ambos sejam essencialmente iguais, exceto pela regularização:\n",
    "\n",
    "| Modelo   | Penalty | C   | Solver | Max Iter |\n",
    "|----------|---------|-----|--------|----------|\n",
    "| Padrão   | l2  | 1.0 | lbfgs | 100  |\n",
    "| Modelo 1 | l1      | 1.0 | saga   | 500      |\n",
    "| Modelo 2 | l2      | 1.0 | saga   | 500      |\n",
    "\n",
    "- **Modelo 1**: Regularização `l1`, com `C=1.0`, `solver='saga'`, e `max_iter=500`.\n",
    "- **Modelo 2**: Regularização `l2`, com `C=1.0`, `solver='saga'`, e `max_iter=500`.\n",
    "\n",
    "Essas configurações permitem testar o efeito de diferentes tipos de regularização (`l1` e `l2`) no desempenho do modelo."
   ]
  },
  {
   "cell_type": "markdown",
   "metadata": {},
   "source": [
    "##### Modelo 1"
   ]
  },
  {
   "cell_type": "code",
   "execution_count": 408,
   "metadata": {
    "id": "SB67NBXD5-xX"
   },
   "outputs": [],
   "source": [
    "# Cria um dataframe vazio para armazenar as métricas\n",
    "resultados2 = pd.DataFrame()"
   ]
  },
  {
   "cell_type": "code",
   "execution_count": 409,
   "metadata": {
    "colab": {
     "base_uri": "https://localhost:8080/"
    },
    "id": "9rDNL6OU5AJU",
    "outputId": "66f92482-a3a7-4996-a009-ad569c111b87"
   },
   "outputs": [
    {
     "name": "stderr",
     "output_type": "stream",
     "text": [
      "c:\\Users\\Luiz Henrique\\AppData\\Local\\Programs\\Python\\Python312\\Lib\\site-packages\\sklearn\\linear_model\\_sag.py:349: ConvergenceWarning: The max_iter was reached which means the coef_ did not converge\n",
      "  warnings.warn(\n",
      "c:\\Users\\Luiz Henrique\\AppData\\Local\\Programs\\Python\\Python312\\Lib\\site-packages\\sklearn\\linear_model\\_sag.py:349: ConvergenceWarning: The max_iter was reached which means the coef_ did not converge\n",
      "  warnings.warn(\n",
      "c:\\Users\\Luiz Henrique\\AppData\\Local\\Programs\\Python\\Python312\\Lib\\site-packages\\sklearn\\linear_model\\_sag.py:349: ConvergenceWarning: The max_iter was reached which means the coef_ did not converge\n",
      "  warnings.warn(\n",
      "c:\\Users\\Luiz Henrique\\AppData\\Local\\Programs\\Python\\Python312\\Lib\\site-packages\\sklearn\\linear_model\\_sag.py:349: ConvergenceWarning: The max_iter was reached which means the coef_ did not converge\n",
      "  warnings.warn(\n",
      "c:\\Users\\Luiz Henrique\\AppData\\Local\\Programs\\Python\\Python312\\Lib\\site-packages\\sklearn\\linear_model\\_sag.py:349: ConvergenceWarning: The max_iter was reached which means the coef_ did not converge\n",
      "  warnings.warn(\n",
      "c:\\Users\\Luiz Henrique\\AppData\\Local\\Programs\\Python\\Python312\\Lib\\site-packages\\sklearn\\linear_model\\_sag.py:349: ConvergenceWarning: The max_iter was reached which means the coef_ did not converge\n",
      "  warnings.warn(\n",
      "c:\\Users\\Luiz Henrique\\AppData\\Local\\Programs\\Python\\Python312\\Lib\\site-packages\\sklearn\\linear_model\\_sag.py:349: ConvergenceWarning: The max_iter was reached which means the coef_ did not converge\n",
      "  warnings.warn(\n",
      "c:\\Users\\Luiz Henrique\\AppData\\Local\\Programs\\Python\\Python312\\Lib\\site-packages\\sklearn\\linear_model\\_sag.py:349: ConvergenceWarning: The max_iter was reached which means the coef_ did not converge\n",
      "  warnings.warn(\n",
      "c:\\Users\\Luiz Henrique\\AppData\\Local\\Programs\\Python\\Python312\\Lib\\site-packages\\sklearn\\linear_model\\_sag.py:349: ConvergenceWarning: The max_iter was reached which means the coef_ did not converge\n",
      "  warnings.warn(\n",
      "c:\\Users\\Luiz Henrique\\AppData\\Local\\Programs\\Python\\Python312\\Lib\\site-packages\\sklearn\\linear_model\\_sag.py:349: ConvergenceWarning: The max_iter was reached which means the coef_ did not converge\n",
      "  warnings.warn(\n"
     ]
    }
   ],
   "source": [
    "# Loop de treinamento\n",
    "for i, (train_index, test_index) in enumerate(kf.split(x_treino_bow_kf)):\n",
    "\n",
    "  # Divisão dos dados entre treino e teste\n",
    "  x_treino_kf, x_teste_kf = x_treino_bow_kf[train_index, :], x_treino_bow_kf[test_index, :]\n",
    "  y_treino_kf, y_teste_kf = y_treino_array[train_index], y_treino_array[test_index]\n",
    "\n",
    "  # Treinando o modelo\n",
    "  modelo = LogisticRegression(\n",
    "      penalty = 'l1', \n",
    "      C = 1.0,\n",
    "      solver = 'saga',\n",
    "      max_iter = 500,\n",
    "      random_state=123)\n",
    "  modelo.fit(x_treino_kf, y_treino_kf)\n",
    "\n",
    "  # Avaliação do modelo\n",
    "  y_pred_kf = modelo.predict(x_teste_kf)\n",
    "\n",
    "  # Armazenando as métricas\n",
    "  metricas_kf = precision_recall_fscore_support(\n",
    "      y_teste_kf, y_pred_kf,\n",
    "      average = None,\n",
    "      labels = [0, 1, 2],\n",
    "      zero_division = True\n",
    "  )\n",
    "\n",
    "  # Desempacota os valores\n",
    "  precision, recall, f1, suporte = metricas_kf\n",
    "\n",
    "  # Criando um dicionario com os resultados\n",
    "  metricas_dict = {\n",
    "      'precision':precision,\n",
    "      'recall':recall,\n",
    "      'f1':f1,\n",
    "      'suporte':suporte,\n",
    "      'fold':i\n",
    "  }\n",
    "\n",
    "  # Cria um dataframe com esse dicionário\n",
    "  metricas_df = pd.DataFrame(metricas_dict)\n",
    "\n",
    "  # Converte o index em uma cooluna\n",
    "  metricas_df.reset_index(inplace=True)\n",
    "\n",
    "  # Renomeia essa coluna\n",
    "  metricas_df = metricas_df.rename(columns = {'index':'classe'})\n",
    "\n",
    "  # Colocando os resultados dentre do df criado fora do loop\n",
    "  resultados2 = pd.concat([metricas_df, resultados2], axis = 0)"
   ]
  },
  {
   "cell_type": "code",
   "execution_count": 410,
   "metadata": {},
   "outputs": [
    {
     "data": {
      "text/html": [
       "<div>\n",
       "<style scoped>\n",
       "    .dataframe tbody tr th:only-of-type {\n",
       "        vertical-align: middle;\n",
       "    }\n",
       "\n",
       "    .dataframe tbody tr th {\n",
       "        vertical-align: top;\n",
       "    }\n",
       "\n",
       "    .dataframe thead th {\n",
       "        text-align: right;\n",
       "    }\n",
       "</style>\n",
       "<table border=\"1\" class=\"dataframe\">\n",
       "  <thead>\n",
       "    <tr style=\"text-align: right;\">\n",
       "      <th></th>\n",
       "      <th>classe</th>\n",
       "      <th>precision</th>\n",
       "      <th>recall</th>\n",
       "      <th>f1</th>\n",
       "      <th>suporte</th>\n",
       "      <th>fold</th>\n",
       "    </tr>\n",
       "  </thead>\n",
       "  <tbody>\n",
       "    <tr>\n",
       "      <th>0</th>\n",
       "      <td>favorable</td>\n",
       "      <td>0.864198</td>\n",
       "      <td>0.972222</td>\n",
       "      <td>0.915033</td>\n",
       "      <td>72</td>\n",
       "      <td>9</td>\n",
       "    </tr>\n",
       "    <tr>\n",
       "      <th>1</th>\n",
       "      <td>unclear</td>\n",
       "      <td>0.931034</td>\n",
       "      <td>0.794118</td>\n",
       "      <td>0.857143</td>\n",
       "      <td>34</td>\n",
       "      <td>9</td>\n",
       "    </tr>\n",
       "    <tr>\n",
       "      <th>2</th>\n",
       "      <td>unfavorable</td>\n",
       "      <td>1.000000</td>\n",
       "      <td>0.333333</td>\n",
       "      <td>0.500000</td>\n",
       "      <td>6</td>\n",
       "      <td>9</td>\n",
       "    </tr>\n",
       "    <tr>\n",
       "      <th>0</th>\n",
       "      <td>favorable</td>\n",
       "      <td>0.811765</td>\n",
       "      <td>0.971831</td>\n",
       "      <td>0.884615</td>\n",
       "      <td>71</td>\n",
       "      <td>8</td>\n",
       "    </tr>\n",
       "    <tr>\n",
       "      <th>1</th>\n",
       "      <td>unclear</td>\n",
       "      <td>0.772727</td>\n",
       "      <td>0.680000</td>\n",
       "      <td>0.723404</td>\n",
       "      <td>25</td>\n",
       "      <td>8</td>\n",
       "    </tr>\n",
       "  </tbody>\n",
       "</table>\n",
       "</div>"
      ],
      "text/plain": [
       "        classe  precision    recall        f1  suporte  fold\n",
       "0    favorable   0.864198  0.972222  0.915033       72     9\n",
       "1      unclear   0.931034  0.794118  0.857143       34     9\n",
       "2  unfavorable   1.000000  0.333333  0.500000        6     9\n",
       "0    favorable   0.811765  0.971831  0.884615       71     8\n",
       "1      unclear   0.772727  0.680000  0.723404       25     8"
      ]
     },
     "execution_count": 410,
     "metadata": {},
     "output_type": "execute_result"
    }
   ],
   "source": [
    "renomeia_classes = {\n",
    "    0:'favorable',\n",
    "    1:'unclear',\n",
    "    2:'unfavorable'\n",
    "}\n",
    "\n",
    "resultados2['classe'] = resultados2['classe'].map(renomeia_classes)\n",
    "resultados2.head()"
   ]
  },
  {
   "cell_type": "markdown",
   "metadata": {},
   "source": [
    "##### Modelo 2"
   ]
  },
  {
   "cell_type": "code",
   "execution_count": 411,
   "metadata": {},
   "outputs": [],
   "source": [
    "# Cria um dataframe vazio para armazenar as métricas\n",
    "resultados3 = pd.DataFrame()"
   ]
  },
  {
   "cell_type": "code",
   "execution_count": 412,
   "metadata": {},
   "outputs": [
    {
     "name": "stderr",
     "output_type": "stream",
     "text": [
      "c:\\Users\\Luiz Henrique\\AppData\\Local\\Programs\\Python\\Python312\\Lib\\site-packages\\sklearn\\linear_model\\_sag.py:349: ConvergenceWarning: The max_iter was reached which means the coef_ did not converge\n",
      "  warnings.warn(\n",
      "c:\\Users\\Luiz Henrique\\AppData\\Local\\Programs\\Python\\Python312\\Lib\\site-packages\\sklearn\\linear_model\\_sag.py:349: ConvergenceWarning: The max_iter was reached which means the coef_ did not converge\n",
      "  warnings.warn(\n",
      "c:\\Users\\Luiz Henrique\\AppData\\Local\\Programs\\Python\\Python312\\Lib\\site-packages\\sklearn\\linear_model\\_sag.py:349: ConvergenceWarning: The max_iter was reached which means the coef_ did not converge\n",
      "  warnings.warn(\n",
      "c:\\Users\\Luiz Henrique\\AppData\\Local\\Programs\\Python\\Python312\\Lib\\site-packages\\sklearn\\linear_model\\_sag.py:349: ConvergenceWarning: The max_iter was reached which means the coef_ did not converge\n",
      "  warnings.warn(\n",
      "c:\\Users\\Luiz Henrique\\AppData\\Local\\Programs\\Python\\Python312\\Lib\\site-packages\\sklearn\\linear_model\\_sag.py:349: ConvergenceWarning: The max_iter was reached which means the coef_ did not converge\n",
      "  warnings.warn(\n",
      "c:\\Users\\Luiz Henrique\\AppData\\Local\\Programs\\Python\\Python312\\Lib\\site-packages\\sklearn\\linear_model\\_sag.py:349: ConvergenceWarning: The max_iter was reached which means the coef_ did not converge\n",
      "  warnings.warn(\n",
      "c:\\Users\\Luiz Henrique\\AppData\\Local\\Programs\\Python\\Python312\\Lib\\site-packages\\sklearn\\linear_model\\_sag.py:349: ConvergenceWarning: The max_iter was reached which means the coef_ did not converge\n",
      "  warnings.warn(\n",
      "c:\\Users\\Luiz Henrique\\AppData\\Local\\Programs\\Python\\Python312\\Lib\\site-packages\\sklearn\\linear_model\\_sag.py:349: ConvergenceWarning: The max_iter was reached which means the coef_ did not converge\n",
      "  warnings.warn(\n",
      "c:\\Users\\Luiz Henrique\\AppData\\Local\\Programs\\Python\\Python312\\Lib\\site-packages\\sklearn\\linear_model\\_sag.py:349: ConvergenceWarning: The max_iter was reached which means the coef_ did not converge\n",
      "  warnings.warn(\n",
      "c:\\Users\\Luiz Henrique\\AppData\\Local\\Programs\\Python\\Python312\\Lib\\site-packages\\sklearn\\linear_model\\_sag.py:349: ConvergenceWarning: The max_iter was reached which means the coef_ did not converge\n",
      "  warnings.warn(\n"
     ]
    }
   ],
   "source": [
    "# Loop de treinamento\n",
    "for i, (train_index, test_index) in enumerate(kf.split(x_treino_bow_kf)):\n",
    "\n",
    "  # Divisão dos dados entre treino e teste\n",
    "  x_treino_kf, x_teste_kf = x_treino_bow_kf[train_index, :], x_treino_bow_kf[test_index, :]\n",
    "  y_treino_kf, y_teste_kf = y_treino_array[train_index], y_treino_array[test_index]\n",
    "\n",
    "  # Treinando o modelo\n",
    "  modelo = LogisticRegression(\n",
    "      penalty = 'l2', \n",
    "      C = 1.0,\n",
    "      solver = 'saga',\n",
    "      max_iter = 500,\n",
    "      random_state=123)\n",
    "  modelo.fit(x_treino_kf, y_treino_kf)\n",
    "\n",
    "  # Avaliação do modelo\n",
    "  y_pred_kf = modelo.predict(x_teste_kf)\n",
    "\n",
    "  # Armazenando as métricas\n",
    "  metricas_kf = precision_recall_fscore_support(\n",
    "      y_teste_kf, y_pred_kf,\n",
    "      average = None,\n",
    "      labels = [0, 1, 2],\n",
    "      zero_division = True\n",
    "  )\n",
    "\n",
    "  # Desempacota os valores\n",
    "  precision, recall, f1, suporte = metricas_kf\n",
    "\n",
    "  # Criando um dicionario com os resultados\n",
    "  metricas_dict = {\n",
    "      'precision':precision,\n",
    "      'recall':recall,\n",
    "      'f1':f1,\n",
    "      'suporte':suporte,\n",
    "      'fold':i\n",
    "  }\n",
    "\n",
    "  # Cria um dataframe com esse dicionário\n",
    "  metricas_df = pd.DataFrame(metricas_dict)\n",
    "\n",
    "  # Converte o index em uma cooluna\n",
    "  metricas_df.reset_index(inplace=True)\n",
    "\n",
    "  # Renomeia essa coluna\n",
    "  metricas_df = metricas_df.rename(columns = {'index':'classe'})\n",
    "\n",
    "  # Colocando os resultados dentre do df criado fora do loop\n",
    "  resultados3 = pd.concat([metricas_df, resultados3], axis = 0)"
   ]
  },
  {
   "cell_type": "code",
   "execution_count": 413,
   "metadata": {},
   "outputs": [
    {
     "data": {
      "text/html": [
       "<div>\n",
       "<style scoped>\n",
       "    .dataframe tbody tr th:only-of-type {\n",
       "        vertical-align: middle;\n",
       "    }\n",
       "\n",
       "    .dataframe tbody tr th {\n",
       "        vertical-align: top;\n",
       "    }\n",
       "\n",
       "    .dataframe thead th {\n",
       "        text-align: right;\n",
       "    }\n",
       "</style>\n",
       "<table border=\"1\" class=\"dataframe\">\n",
       "  <thead>\n",
       "    <tr style=\"text-align: right;\">\n",
       "      <th></th>\n",
       "      <th>classe</th>\n",
       "      <th>precision</th>\n",
       "      <th>recall</th>\n",
       "      <th>f1</th>\n",
       "      <th>suporte</th>\n",
       "      <th>fold</th>\n",
       "    </tr>\n",
       "  </thead>\n",
       "  <tbody>\n",
       "    <tr>\n",
       "      <th>0</th>\n",
       "      <td>favorable</td>\n",
       "      <td>0.865854</td>\n",
       "      <td>0.986111</td>\n",
       "      <td>0.922078</td>\n",
       "      <td>72</td>\n",
       "      <td>9</td>\n",
       "    </tr>\n",
       "    <tr>\n",
       "      <th>1</th>\n",
       "      <td>unclear</td>\n",
       "      <td>0.964286</td>\n",
       "      <td>0.794118</td>\n",
       "      <td>0.870968</td>\n",
       "      <td>34</td>\n",
       "      <td>9</td>\n",
       "    </tr>\n",
       "    <tr>\n",
       "      <th>2</th>\n",
       "      <td>unfavorable</td>\n",
       "      <td>1.000000</td>\n",
       "      <td>0.333333</td>\n",
       "      <td>0.500000</td>\n",
       "      <td>6</td>\n",
       "      <td>9</td>\n",
       "    </tr>\n",
       "    <tr>\n",
       "      <th>0</th>\n",
       "      <td>favorable</td>\n",
       "      <td>0.809524</td>\n",
       "      <td>0.957746</td>\n",
       "      <td>0.877419</td>\n",
       "      <td>71</td>\n",
       "      <td>8</td>\n",
       "    </tr>\n",
       "    <tr>\n",
       "      <th>1</th>\n",
       "      <td>unclear</td>\n",
       "      <td>0.727273</td>\n",
       "      <td>0.640000</td>\n",
       "      <td>0.680851</td>\n",
       "      <td>25</td>\n",
       "      <td>8</td>\n",
       "    </tr>\n",
       "  </tbody>\n",
       "</table>\n",
       "</div>"
      ],
      "text/plain": [
       "        classe  precision    recall        f1  suporte  fold\n",
       "0    favorable   0.865854  0.986111  0.922078       72     9\n",
       "1      unclear   0.964286  0.794118  0.870968       34     9\n",
       "2  unfavorable   1.000000  0.333333  0.500000        6     9\n",
       "0    favorable   0.809524  0.957746  0.877419       71     8\n",
       "1      unclear   0.727273  0.640000  0.680851       25     8"
      ]
     },
     "execution_count": 413,
     "metadata": {},
     "output_type": "execute_result"
    }
   ],
   "source": [
    "renomeia_classes = {\n",
    "    0:'favorable',\n",
    "    1:'unclear',\n",
    "    2:'unfavorable'\n",
    "}\n",
    "\n",
    "resultados3['classe'] = resultados3['classe'].map(renomeia_classes)\n",
    "resultados3.head()"
   ]
  },
  {
   "cell_type": "markdown",
   "metadata": {
    "id": "zgsOrDCr5nNG"
   },
   "source": [
    "##### Avaliação comparativa"
   ]
  },
  {
   "cell_type": "code",
   "execution_count": 414,
   "metadata": {
    "colab": {
     "base_uri": "https://localhost:8080/",
     "height": 206
    },
    "id": "SmeXc5dj6bL7",
    "outputId": "5fba0adb-ec52-4721-d433-5a5c2ba8d753"
   },
   "outputs": [
    {
     "data": {
      "text/html": [
       "<div>\n",
       "<style scoped>\n",
       "    .dataframe tbody tr th:only-of-type {\n",
       "        vertical-align: middle;\n",
       "    }\n",
       "\n",
       "    .dataframe tbody tr th {\n",
       "        vertical-align: top;\n",
       "    }\n",
       "\n",
       "    .dataframe thead th {\n",
       "        text-align: right;\n",
       "    }\n",
       "</style>\n",
       "<table border=\"1\" class=\"dataframe\">\n",
       "  <thead>\n",
       "    <tr style=\"text-align: right;\">\n",
       "      <th></th>\n",
       "      <th>classe</th>\n",
       "      <th>precision</th>\n",
       "      <th>recall</th>\n",
       "      <th>f1</th>\n",
       "      <th>suporte</th>\n",
       "      <th>fold</th>\n",
       "      <th>modelo</th>\n",
       "    </tr>\n",
       "  </thead>\n",
       "  <tbody>\n",
       "    <tr>\n",
       "      <th>0</th>\n",
       "      <td>favorable</td>\n",
       "      <td>0.865854</td>\n",
       "      <td>0.986111</td>\n",
       "      <td>0.922078</td>\n",
       "      <td>72</td>\n",
       "      <td>9</td>\n",
       "      <td>Default</td>\n",
       "    </tr>\n",
       "    <tr>\n",
       "      <th>1</th>\n",
       "      <td>unclear</td>\n",
       "      <td>0.964286</td>\n",
       "      <td>0.794118</td>\n",
       "      <td>0.870968</td>\n",
       "      <td>34</td>\n",
       "      <td>9</td>\n",
       "      <td>Default</td>\n",
       "    </tr>\n",
       "    <tr>\n",
       "      <th>2</th>\n",
       "      <td>unfavorable</td>\n",
       "      <td>1.000000</td>\n",
       "      <td>0.333333</td>\n",
       "      <td>0.500000</td>\n",
       "      <td>6</td>\n",
       "      <td>9</td>\n",
       "      <td>Default</td>\n",
       "    </tr>\n",
       "    <tr>\n",
       "      <th>3</th>\n",
       "      <td>favorable</td>\n",
       "      <td>0.809524</td>\n",
       "      <td>0.957746</td>\n",
       "      <td>0.877419</td>\n",
       "      <td>71</td>\n",
       "      <td>8</td>\n",
       "      <td>Default</td>\n",
       "    </tr>\n",
       "    <tr>\n",
       "      <th>4</th>\n",
       "      <td>unclear</td>\n",
       "      <td>0.727273</td>\n",
       "      <td>0.640000</td>\n",
       "      <td>0.680851</td>\n",
       "      <td>25</td>\n",
       "      <td>8</td>\n",
       "      <td>Default</td>\n",
       "    </tr>\n",
       "  </tbody>\n",
       "</table>\n",
       "</div>"
      ],
      "text/plain": [
       "        classe  precision    recall        f1  suporte  fold   modelo\n",
       "0    favorable   0.865854  0.986111  0.922078       72     9  Default\n",
       "1      unclear   0.964286  0.794118  0.870968       34     9  Default\n",
       "2  unfavorable   1.000000  0.333333  0.500000        6     9  Default\n",
       "3    favorable   0.809524  0.957746  0.877419       71     8  Default\n",
       "4      unclear   0.727273  0.640000  0.680851       25     8  Default"
      ]
     },
     "execution_count": 414,
     "metadata": {},
     "output_type": "execute_result"
    }
   ],
   "source": [
    "# Cria coluna para identificar o método de regularização\n",
    "resultados1['modelo'] = 'Default'\n",
    "resultados2['modelo'] = 'Penalty = L1'\n",
    "resultados3['modelo'] = 'Penalty = L2'\n",
    "\n",
    "# Junta resultados1 e resultados2\n",
    "resultados = pd.concat([resultados1, resultados2, resultados3], axis = 0)\n",
    "\n",
    "resultados.head()"
   ]
  },
  {
   "cell_type": "markdown",
   "metadata": {
    "id": "kyM1I3RA5tcS"
   },
   "source": [
    "Precision"
   ]
  },
  {
   "cell_type": "code",
   "execution_count": 415,
   "metadata": {
    "colab": {
     "base_uri": "https://localhost:8080/",
     "height": 489
    },
    "id": "iYdvBSIJ5ulQ",
    "outputId": "c72a1a0a-06e1-45d8-8007-4f8e93688ed3"
   },
   "outputs": [
    {
     "data": {
      "text/plain": [
       "(-0.1, 1.1)"
      ]
     },
     "execution_count": 415,
     "metadata": {},
     "output_type": "execute_result"
    },
    {
     "data": {
      "image/png": "[encoded data removed]",
      "text/plain": [
       "<Figure size 640x480 with 1 Axes>"
      ]
     },
     "metadata": {},
     "output_type": "display_data"
    }
   ],
   "source": [
    "sns.boxplot(resultados, x = 'classe', y = 'precision', hue='modelo')\n",
    "\n",
    "plot.title(\"Precision (10 Folds)\")\n",
    "plot.ylim(-0.1, 1.1)"
   ]
  },
  {
   "cell_type": "markdown",
   "metadata": {
    "id": "J8N0ug3j5xSi"
   },
   "source": [
    "Recall"
   ]
  },
  {
   "cell_type": "code",
   "execution_count": 417,
   "metadata": {
    "colab": {
     "base_uri": "https://localhost:8080/",
     "height": 489
    },
    "id": "Zq57MOgG5zKy",
    "outputId": "73ba996b-0544-428e-8c78-dce250d2fb51"
   },
   "outputs": [
    {
     "data": {
      "text/plain": [
       "(-0.1, 1.1)"
      ]
     },
     "execution_count": 417,
     "metadata": {},
     "output_type": "execute_result"
    },
    {
     "data": {
      "image/png": "[encoded data removed]",
      "text/plain": [
       "<Figure size 640x480 with 1 Axes>"
      ]
     },
     "metadata": {},
     "output_type": "display_data"
    }
   ],
   "source": [
    "sns.boxplot(resultados, x = 'classe', y = 'recall', hue='modelo')\n",
    "\n",
    "plot.title(\"Recall (10 Folds)\")\n",
    "plot.ylim(-0.1, 1.1)"
   ]
  },
  {
   "cell_type": "markdown",
   "metadata": {
    "id": "b8W59SrI5zvy"
   },
   "source": [
    "F1-Score"
   ]
  },
  {
   "cell_type": "code",
   "execution_count": 421,
   "metadata": {
    "colab": {
     "base_uri": "https://localhost:8080/",
     "height": 489
    },
    "id": "KZiRKdkb75u_",
    "outputId": "94cf031a-611c-4439-87d6-398fb8cfc5da"
   },
   "outputs": [
    {
     "data": {
      "text/plain": [
       "(-0.1, 1.1)"
      ]
     },
     "execution_count": 421,
     "metadata": {},
     "output_type": "execute_result"
    },
    {
     "data": {
      "image/png": "[encoded data removed]",
      "text/plain": [
       "<Figure size 640x480 with 1 Axes>"
      ]
     },
     "metadata": {},
     "output_type": "display_data"
    }
   ],
   "source": [
    "sns.boxplot(resultados, x = 'classe', y = 'f1', hue='modelo')\n",
    "\n",
    "plot.title(\"F1-Score (10 Folds)\")\n",
    "plot.ylim(-0.1, 1.1)"
   ]
  }
 ],
 "metadata": {
  "colab": {
   "provenance": []
  },
  "kernelspec": {
   "display_name": "Python 3",
   "language": "python",
   "name": "python3"
  },
  "language_info": {
   "codemirror_mode": {
    "name": "ipython",
    "version": 3
   },
   "file_extension": ".py",
   "mimetype": "text/x-python",
   "name": "python",
   "nbconvert_exporter": "python",
   "pygments_lexer": "ipython3",
   "version": "3.12.6"
  }
 },
 "nbformat": 4,
 "nbformat_minor": 0
}
